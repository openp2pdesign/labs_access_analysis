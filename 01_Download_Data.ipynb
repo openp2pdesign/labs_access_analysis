{
 "cells": [
  {
   "cell_type": "markdown",
   "metadata": {
    "id": "r8PwlWa_aICI"
   },
   "source": [
    "# Labs Access Analysis: 01 Data Download"
   ]
  },
  {
   "cell_type": "markdown",
   "metadata": {
    "id": "wBAiEmdqaRCO"
   },
   "source": [
    "## Setup\n",
    "import all the needed libraries"
   ]
  },
  {
   "cell_type": "code",
   "execution_count": 1,
   "metadata": {
    "colab": {
     "base_uri": "https://localhost:8080/"
    },
    "id": "mKMbMvPRaEbD",
    "outputId": "7dc4dfcc-1827-4e98-9646-0f44f7cf89cf"
   },
   "outputs": [],
   "source": [
    "import pandas as pd\n",
    "import numpy as np\n",
    "import requests\n",
    "from openrouteservice import client\n",
    "import time\n",
    "import json\n",
    "import os"
   ]
  },
  {
   "cell_type": "code",
   "execution_count": 16,
   "metadata": {},
   "outputs": [],
   "source": [
    "# create the directory with the data\n",
    "if not os.path.exists('data'):\n",
    "    os.makedirs('data')"
   ]
  },
  {
   "cell_type": "code",
   "execution_count": 36,
   "metadata": {},
   "outputs": [],
   "source": [
    "url_data_labs = \"https://openp2pdesign.github.io/labs_access_analysis/data/labs.csv\"\n",
    "\n",
    "##REMOVE this line when you are ready to publish the data\n",
    "url_data_labs = \"data/labs.csv\"\n",
    "api_key_ors = '' # write here your API key from OpenRouteService\n",
    "                 # you can get from here https://openrouteservice.org/"
   ]
  },
  {
   "cell_type": "markdown",
   "metadata": {},
   "source": [
    "## data cleaning"
   ]
  },
  {
   "cell_type": "code",
   "execution_count": 19,
   "metadata": {
    "id": "4qmcWS9HYNBu"
   },
   "outputs": [],
   "source": [
    "labs = pd.read_csv(url_data_labs)"
   ]
  },
  {
   "cell_type": "markdown",
   "metadata": {},
   "source": [
    "show the first 5 lines"
   ]
  },
  {
   "cell_type": "code",
   "execution_count": 3,
   "metadata": {
    "colab": {
     "base_uri": "https://localhost:8080/",
     "height": 1000
    },
    "id": "uIxvdzOOYWZu",
    "outputId": "b86368bd-25a6-4f90-f9c6-c4e7b193e635"
   },
   "outputs": [
    {
     "data": {
      "text/html": [
       "<div>\n",
       "<style scoped>\n",
       "    .dataframe tbody tr th:only-of-type {\n",
       "        vertical-align: middle;\n",
       "    }\n",
       "\n",
       "    .dataframe tbody tr th {\n",
       "        vertical-align: top;\n",
       "    }\n",
       "\n",
       "    .dataframe thead th {\n",
       "        text-align: right;\n",
       "    }\n",
       "</style>\n",
       "<table border=\"1\" class=\"dataframe\">\n",
       "  <thead>\n",
       "    <tr style=\"text-align: right;\">\n",
       "      <th></th>\n",
       "      <th>Name</th>\n",
       "      <th>Type</th>\n",
       "      <th>City</th>\n",
       "      <th>Cluster</th>\n",
       "      <th>Address</th>\n",
       "      <th>CAP</th>\n",
       "      <th>Lat</th>\n",
       "      <th>Long</th>\n",
       "      <th>Source</th>\n",
       "      <th>URL</th>\n",
       "      <th>Notes</th>\n",
       "    </tr>\n",
       "  </thead>\n",
       "  <tbody>\n",
       "    <tr>\n",
       "      <th>0</th>\n",
       "      <td>Fab Lab Barcelona</td>\n",
       "      <td>Fab Lab</td>\n",
       "      <td>Barcelona</td>\n",
       "      <td>BCN</td>\n",
       "      <td>Carrer de Pujades, 102</td>\n",
       "      <td>8005.0</td>\n",
       "      <td>41.396925</td>\n",
       "      <td>2.194335</td>\n",
       "      <td>Fablabs.io</td>\n",
       "      <td>https://fablabbcn.org/</td>\n",
       "      <td>NaN</td>\n",
       "    </tr>\n",
       "    <tr>\n",
       "      <th>1</th>\n",
       "      <td>MADE Makerspace Barcelona</td>\n",
       "      <td>Fab Lab</td>\n",
       "      <td>Barcelona</td>\n",
       "      <td>BCN</td>\n",
       "      <td>Carrer Noguera Pallaresa 59-61</td>\n",
       "      <td>8014.0</td>\n",
       "      <td>41.373238</td>\n",
       "      <td>2.141084</td>\n",
       "      <td>Fablabs.io, Hackerspaces.org, Makerspaces.make.co</td>\n",
       "      <td>NaN</td>\n",
       "      <td>NaN</td>\n",
       "    </tr>\n",
       "    <tr>\n",
       "      <th>2</th>\n",
       "      <td>Soko Tech</td>\n",
       "      <td>Fab Lab</td>\n",
       "      <td>Barcelona</td>\n",
       "      <td>BCN</td>\n",
       "      <td>Carrer de Vallès i Ribot, 36</td>\n",
       "      <td>8027.0</td>\n",
       "      <td>41.424535</td>\n",
       "      <td>2.188883</td>\n",
       "      <td>Fablabs.io</td>\n",
       "      <td>https://soko.tech/</td>\n",
       "      <td>NaN</td>\n",
       "    </tr>\n",
       "    <tr>\n",
       "      <th>3</th>\n",
       "      <td>LSCongres</td>\n",
       "      <td>Fab Lab</td>\n",
       "      <td>Barcelona</td>\n",
       "      <td>BCN</td>\n",
       "      <td>Carrer del Cardenal Tedeschini, 50</td>\n",
       "      <td>8027.0</td>\n",
       "      <td>41.426002</td>\n",
       "      <td>2.182026</td>\n",
       "      <td>Fablabs.io</td>\n",
       "      <td>https://fablabs.io/labs/lscongres</td>\n",
       "      <td>NaN</td>\n",
       "    </tr>\n",
       "    <tr>\n",
       "      <th>4</th>\n",
       "      <td>Green Fab Lab</td>\n",
       "      <td>Fab Lab</td>\n",
       "      <td>Cerdanyola del Vallès</td>\n",
       "      <td>BCN</td>\n",
       "      <td>Ctra. BV-1415 (Horta-Cerdanyola), km 7</td>\n",
       "      <td>8290.0</td>\n",
       "      <td>41.450394</td>\n",
       "      <td>2.133441</td>\n",
       "      <td>Fablabs.io</td>\n",
       "      <td>NaN</td>\n",
       "      <td>NaN</td>\n",
       "    </tr>\n",
       "  </tbody>\n",
       "</table>\n",
       "</div>"
      ],
      "text/plain": [
       "                        Name     Type                   City Cluster  \\\n",
       "0          Fab Lab Barcelona  Fab Lab              Barcelona     BCN   \n",
       "1  MADE Makerspace Barcelona  Fab Lab              Barcelona     BCN   \n",
       "2                  Soko Tech  Fab Lab              Barcelona     BCN   \n",
       "3                  LSCongres  Fab Lab              Barcelona     BCN   \n",
       "4              Green Fab Lab  Fab Lab  Cerdanyola del Vallès     BCN   \n",
       "\n",
       "                                  Address     CAP        Lat      Long  \\\n",
       "0                  Carrer de Pujades, 102  8005.0  41.396925  2.194335   \n",
       "1          Carrer Noguera Pallaresa 59-61  8014.0  41.373238  2.141084   \n",
       "2            Carrer de Vallès i Ribot, 36  8027.0  41.424535  2.188883   \n",
       "3      Carrer del Cardenal Tedeschini, 50  8027.0  41.426002  2.182026   \n",
       "4  Ctra. BV-1415 (Horta-Cerdanyola), km 7  8290.0  41.450394  2.133441   \n",
       "\n",
       "                                              Source  \\\n",
       "0                                         Fablabs.io   \n",
       "1  Fablabs.io, Hackerspaces.org, Makerspaces.make.co   \n",
       "2                                         Fablabs.io   \n",
       "3                                         Fablabs.io   \n",
       "4                                         Fablabs.io   \n",
       "\n",
       "                                 URL Notes  \n",
       "0             https://fablabbcn.org/   NaN  \n",
       "1                                NaN   NaN  \n",
       "2                 https://soko.tech/   NaN  \n",
       "3  https://fablabs.io/labs/lscongres   NaN  \n",
       "4                                NaN   NaN  "
      ]
     },
     "execution_count": 3,
     "metadata": {},
     "output_type": "execute_result"
    }
   ],
   "source": [
    "labs.head(5)"
   ]
  },
  {
   "cell_type": "markdown",
   "metadata": {},
   "source": [
    "### description of the fields of the dataset\n",
    "|  field name | description | details   |\n",
    "|---|---|---|\n",
    "| Name | name of the lab | |\n",
    "| Type | type of Fablab. | *Fab Lab, Service, Makerspace, DIYBio Lab, Ateneu de Fabricació, City Space, Library, FabCafè, Incubator/Accelerator. Foundation* | \n",
    "| Cluster | which cluster the lab belongs to (Barcelona or Milan) | *BCN, MI* |\n",
    "| Address | The house number where the lab is located | |\n",
    "| CAP | the zipcode of the address | | \n",
    "| Lat | the latitude expressed in decimal degree | | \n",
    "| Long | the longitude expressed in decimal degree | |\n",
    "| Source | where the information was collected from | *fablabs.io, hackerspaces.org, makerspaces.make.co, ajuntament.barcelona.cat, sphere.diybio.org, manually added, ajuntament de Barcelona policy document* | \n",
    "| URL | the web address of the lab | | \n",
    "| Notes | some information notes.  |the only note is if the lab has been closed (*Closed*), otherwise nothing appears. | "
   ]
  },
  {
   "cell_type": "markdown",
   "metadata": {},
   "source": [
    "separation of active labs from closed ones"
   ]
  },
  {
   "cell_type": "code",
   "execution_count": 11,
   "metadata": {
    "id": "ebyG03foVs__"
   },
   "outputs": [],
   "source": [
    "closed_labs = labs[labs.Notes.str.contains(\"losed\")==True]"
   ]
  },
  {
   "cell_type": "code",
   "execution_count": 12,
   "metadata": {
    "id": "TD_57CG3Wk-g"
   },
   "outputs": [],
   "source": [
    "valid_labs = labs[~labs.index.isin(closed_labs.index)]"
   ]
  },
  {
   "cell_type": "code",
   "execution_count": 14,
   "metadata": {},
   "outputs": [
    {
     "name": "stdout",
     "output_type": "stream",
     "text": [
      "The total of the valid labs is 62\n"
     ]
    }
   ],
   "source": [
    "print(\"The total of the valid labs is %s\" % valid_labs.shape[0])"
   ]
  },
  {
   "cell_type": "markdown",
   "metadata": {},
   "source": [
    "show the first 10 in the dataset"
   ]
  },
  {
   "cell_type": "code",
   "execution_count": 15,
   "metadata": {
    "colab": {
     "base_uri": "https://localhost:8080/",
     "height": 1000
    },
    "id": "RiXqtjCnquha",
    "outputId": "1b6e353a-9246-4fb4-97ed-679f60c3240a"
   },
   "outputs": [
    {
     "data": {
      "text/html": [
       "<div>\n",
       "<style scoped>\n",
       "    .dataframe tbody tr th:only-of-type {\n",
       "        vertical-align: middle;\n",
       "    }\n",
       "\n",
       "    .dataframe tbody tr th {\n",
       "        vertical-align: top;\n",
       "    }\n",
       "\n",
       "    .dataframe thead th {\n",
       "        text-align: right;\n",
       "    }\n",
       "</style>\n",
       "<table border=\"1\" class=\"dataframe\">\n",
       "  <thead>\n",
       "    <tr style=\"text-align: right;\">\n",
       "      <th></th>\n",
       "      <th>Name</th>\n",
       "      <th>Type</th>\n",
       "      <th>City</th>\n",
       "      <th>Cluster</th>\n",
       "      <th>Address</th>\n",
       "      <th>CAP</th>\n",
       "      <th>Lat</th>\n",
       "      <th>Long</th>\n",
       "      <th>Source</th>\n",
       "      <th>URL</th>\n",
       "      <th>Notes</th>\n",
       "    </tr>\n",
       "  </thead>\n",
       "  <tbody>\n",
       "    <tr>\n",
       "      <th>0</th>\n",
       "      <td>Fab Lab Barcelona</td>\n",
       "      <td>Fab Lab</td>\n",
       "      <td>Barcelona</td>\n",
       "      <td>BCN</td>\n",
       "      <td>Carrer de Pujades, 102</td>\n",
       "      <td>8005.0</td>\n",
       "      <td>41.396925</td>\n",
       "      <td>2.194335</td>\n",
       "      <td>Fablabs.io</td>\n",
       "      <td>https://fablabbcn.org/</td>\n",
       "      <td>NaN</td>\n",
       "    </tr>\n",
       "    <tr>\n",
       "      <th>1</th>\n",
       "      <td>MADE Makerspace Barcelona</td>\n",
       "      <td>Fab Lab</td>\n",
       "      <td>Barcelona</td>\n",
       "      <td>BCN</td>\n",
       "      <td>Carrer Noguera Pallaresa 59-61</td>\n",
       "      <td>8014.0</td>\n",
       "      <td>41.373238</td>\n",
       "      <td>2.141084</td>\n",
       "      <td>Fablabs.io, Hackerspaces.org, Makerspaces.make.co</td>\n",
       "      <td>NaN</td>\n",
       "      <td>NaN</td>\n",
       "    </tr>\n",
       "    <tr>\n",
       "      <th>2</th>\n",
       "      <td>Soko Tech</td>\n",
       "      <td>Fab Lab</td>\n",
       "      <td>Barcelona</td>\n",
       "      <td>BCN</td>\n",
       "      <td>Carrer de Vallès i Ribot, 36</td>\n",
       "      <td>8027.0</td>\n",
       "      <td>41.424535</td>\n",
       "      <td>2.188883</td>\n",
       "      <td>Fablabs.io</td>\n",
       "      <td>https://soko.tech/</td>\n",
       "      <td>NaN</td>\n",
       "    </tr>\n",
       "    <tr>\n",
       "      <th>3</th>\n",
       "      <td>LSCongres</td>\n",
       "      <td>Fab Lab</td>\n",
       "      <td>Barcelona</td>\n",
       "      <td>BCN</td>\n",
       "      <td>Carrer del Cardenal Tedeschini, 50</td>\n",
       "      <td>8027.0</td>\n",
       "      <td>41.426002</td>\n",
       "      <td>2.182026</td>\n",
       "      <td>Fablabs.io</td>\n",
       "      <td>https://fablabs.io/labs/lscongres</td>\n",
       "      <td>NaN</td>\n",
       "    </tr>\n",
       "    <tr>\n",
       "      <th>4</th>\n",
       "      <td>Green Fab Lab</td>\n",
       "      <td>Fab Lab</td>\n",
       "      <td>Cerdanyola del Vallès</td>\n",
       "      <td>BCN</td>\n",
       "      <td>Ctra. BV-1415 (Horta-Cerdanyola), km 7</td>\n",
       "      <td>8290.0</td>\n",
       "      <td>41.450394</td>\n",
       "      <td>2.133441</td>\n",
       "      <td>Fablabs.io</td>\n",
       "      <td>NaN</td>\n",
       "      <td>NaN</td>\n",
       "    </tr>\n",
       "    <tr>\n",
       "      <th>5</th>\n",
       "      <td>Barcelona Mobility LAB</td>\n",
       "      <td>Fab Lab</td>\n",
       "      <td>Barcelona</td>\n",
       "      <td>BCN</td>\n",
       "      <td>Passatge del Torrent de l'Estadella 56</td>\n",
       "      <td>8030.0</td>\n",
       "      <td>41.432152</td>\n",
       "      <td>2.199793</td>\n",
       "      <td>Fablabs.io</td>\n",
       "      <td>NaN</td>\n",
       "      <td>NaN</td>\n",
       "    </tr>\n",
       "    <tr>\n",
       "      <th>6</th>\n",
       "      <td>Fab Lab Sant Cugat</td>\n",
       "      <td>Fab Lab</td>\n",
       "      <td>Sant Cugat del Vallès</td>\n",
       "      <td>BCN</td>\n",
       "      <td>Avinguda de la Torre Blanca, 57</td>\n",
       "      <td>8712.0</td>\n",
       "      <td>41.467569</td>\n",
       "      <td>2.091704</td>\n",
       "      <td>Fablabs.io</td>\n",
       "      <td>NaN</td>\n",
       "      <td>NaN</td>\n",
       "    </tr>\n",
       "    <tr>\n",
       "      <th>8</th>\n",
       "      <td>The FabLab: Make in Milano</td>\n",
       "      <td>Fab Lab</td>\n",
       "      <td>Milan</td>\n",
       "      <td>MI</td>\n",
       "      <td>Via Arcivescovo Calabiana, 6</td>\n",
       "      <td>20139.0</td>\n",
       "      <td>45.444046</td>\n",
       "      <td>9.207913</td>\n",
       "      <td>Fablabs.io</td>\n",
       "      <td>NaN</td>\n",
       "      <td>NaN</td>\n",
       "    </tr>\n",
       "    <tr>\n",
       "      <th>9</th>\n",
       "      <td>Vectorealism FabLab</td>\n",
       "      <td>Service</td>\n",
       "      <td>Milan</td>\n",
       "      <td>MI</td>\n",
       "      <td>Via Carlo Boncompagni, 57</td>\n",
       "      <td>20139.0</td>\n",
       "      <td>45.438305</td>\n",
       "      <td>9.231811</td>\n",
       "      <td>Fablabs.io</td>\n",
       "      <td>https://fablabs.io/labs/vectorealismfablab</td>\n",
       "      <td>NaN</td>\n",
       "    </tr>\n",
       "    <tr>\n",
       "      <th>10</th>\n",
       "      <td>DamASpace</td>\n",
       "      <td>Fab Lab</td>\n",
       "      <td>Milan</td>\n",
       "      <td>MI</td>\n",
       "      <td>Corso S. Gottardo, 19</td>\n",
       "      <td>20136.0</td>\n",
       "      <td>45.452457</td>\n",
       "      <td>9.179818</td>\n",
       "      <td>Fablabs.io</td>\n",
       "      <td>https://fablabs.io/labs/DamASpaceFablab</td>\n",
       "      <td>NaN</td>\n",
       "    </tr>\n",
       "  </tbody>\n",
       "</table>\n",
       "</div>"
      ],
      "text/plain": [
       "                          Name     Type                   City Cluster  \\\n",
       "0            Fab Lab Barcelona  Fab Lab              Barcelona     BCN   \n",
       "1    MADE Makerspace Barcelona  Fab Lab              Barcelona     BCN   \n",
       "2                    Soko Tech  Fab Lab              Barcelona     BCN   \n",
       "3                    LSCongres  Fab Lab              Barcelona     BCN   \n",
       "4                Green Fab Lab  Fab Lab  Cerdanyola del Vallès     BCN   \n",
       "5       Barcelona Mobility LAB  Fab Lab              Barcelona     BCN   \n",
       "6           Fab Lab Sant Cugat  Fab Lab  Sant Cugat del Vallès     BCN   \n",
       "8   The FabLab: Make in Milano  Fab Lab                  Milan      MI   \n",
       "9          Vectorealism FabLab  Service                  Milan      MI   \n",
       "10                   DamASpace  Fab Lab                  Milan      MI   \n",
       "\n",
       "                                   Address      CAP        Lat      Long  \\\n",
       "0                   Carrer de Pujades, 102   8005.0  41.396925  2.194335   \n",
       "1           Carrer Noguera Pallaresa 59-61   8014.0  41.373238  2.141084   \n",
       "2             Carrer de Vallès i Ribot, 36   8027.0  41.424535  2.188883   \n",
       "3       Carrer del Cardenal Tedeschini, 50   8027.0  41.426002  2.182026   \n",
       "4   Ctra. BV-1415 (Horta-Cerdanyola), km 7   8290.0  41.450394  2.133441   \n",
       "5   Passatge del Torrent de l'Estadella 56   8030.0  41.432152  2.199793   \n",
       "6          Avinguda de la Torre Blanca, 57   8712.0  41.467569  2.091704   \n",
       "8             Via Arcivescovo Calabiana, 6  20139.0  45.444046  9.207913   \n",
       "9                Via Carlo Boncompagni, 57  20139.0  45.438305  9.231811   \n",
       "10                   Corso S. Gottardo, 19  20136.0  45.452457  9.179818   \n",
       "\n",
       "                                               Source  \\\n",
       "0                                          Fablabs.io   \n",
       "1   Fablabs.io, Hackerspaces.org, Makerspaces.make.co   \n",
       "2                                          Fablabs.io   \n",
       "3                                          Fablabs.io   \n",
       "4                                          Fablabs.io   \n",
       "5                                          Fablabs.io   \n",
       "6                                          Fablabs.io   \n",
       "8                                          Fablabs.io   \n",
       "9                                          Fablabs.io   \n",
       "10                                         Fablabs.io   \n",
       "\n",
       "                                           URL Notes  \n",
       "0                       https://fablabbcn.org/   NaN  \n",
       "1                                          NaN   NaN  \n",
       "2                           https://soko.tech/   NaN  \n",
       "3            https://fablabs.io/labs/lscongres   NaN  \n",
       "4                                          NaN   NaN  \n",
       "5                                          NaN   NaN  \n",
       "6                                          NaN   NaN  \n",
       "8                                          NaN   NaN  \n",
       "9   https://fablabs.io/labs/vectorealismfablab   NaN  \n",
       "10     https://fablabs.io/labs/DamASpaceFablab   NaN  "
      ]
     },
     "execution_count": 15,
     "metadata": {},
     "output_type": "execute_result"
    }
   ],
   "source": [
    "valid_labs.head(10)"
   ]
  },
  {
   "cell_type": "markdown",
   "metadata": {},
   "source": [
    "save the dataset on the filesystem"
   ]
  },
  {
   "cell_type": "code",
   "execution_count": 21,
   "metadata": {},
   "outputs": [],
   "source": [
    "valid_labs.to_csv('data' + os.sep + 'valid_labs.csv')"
   ]
  },
  {
   "cell_type": "markdown",
   "metadata": {},
   "source": [
    "## Calculation of the isochrones for each lab\n",
    "the calculation is based on OpenRouteService using 15 minutes walking distance as the maximum time."
   ]
  },
  {
   "cell_type": "markdown",
   "metadata": {},
   "source": [
    "convert the Lat and Long in float to manage the geospatial information"
   ]
  },
  {
   "cell_type": "code",
   "execution_count": 22,
   "metadata": {
    "id": "VcZV3VbXA-kB"
   },
   "outputs": [],
   "source": [
    "valid_labs = valid_labs.astype({\"Lat\": float, \"Long\": float})"
   ]
  },
  {
   "cell_type": "markdown",
   "metadata": {},
   "source": [
    "creation of the request for calculation of the isochrones to OpenRouteService according to the [API](https://openrouteservice.org/dev/#/api-docs/v2/isochrones) syntax\n",
    "\n",
    "900 seconds = 15 minutes (city)\n"
   ]
  },
  {
   "cell_type": "code",
   "execution_count": 27,
   "metadata": {
    "id": "rDWyOWBeBSLm"
   },
   "outputs": [],
   "source": [
    "body = {\"locations\":[],\"range\":[900],\"attributes\":[\"total_pop\",\"area\",\"reachfactor\"],\"range_type\":\"time\",\"interval\":900,\"area_units\":\"m\",\"location_type\":\"start\"}\n",
    "locations = {}"
   ]
  },
  {
   "cell_type": "code",
   "execution_count": 28,
   "metadata": {
    "id": "wVSjnlGtLFBp"
   },
   "outputs": [],
   "source": [
    "# check if the latitude and longitude for each lab is valid\n",
    "for index, row in valid_labs.iterrows():\n",
    "    if np.isnan(row[\"Lat\"]) == False and np.isnan(row[\"Long\"]) == False:\n",
    "      locations[row[\"Name\"]] = [row[\"Long\"], row[\"Lat\"]]"
   ]
  },
  {
   "cell_type": "code",
   "execution_count": 33,
   "metadata": {
    "colab": {
     "base_uri": "https://localhost:8080/"
    },
    "id": "qP4aH3m5xy_f",
    "outputId": "c854391e-5f76-44e5-c305-94c231a7fdcd"
   },
   "outputs": [
    {
     "name": "stdout",
     "output_type": "stream",
     "text": [
      "We have 62 where the latitude and longitude is present\n"
     ]
    }
   ],
   "source": [
    "print(\"We have %s where the latitude and longitude is present\" % str(len(locations)))"
   ]
  },
  {
   "cell_type": "markdown",
   "metadata": {},
   "source": [
    "organize the header for the API request"
   ]
  },
  {
   "cell_type": "code",
   "execution_count": 35,
   "metadata": {
    "id": "hSvgaxh1B0ou"
   },
   "outputs": [],
   "source": [
    "headers = {\n",
    "    'Accept': 'application/json, application/geo+json, application/gpx+xml, img/png; charset=utf-8',\n",
    "    'Authorization': api_key_ors,\n",
    "    'Content-Type': 'application/json; charset=utf-8'\n",
    "}"
   ]
  },
  {
   "cell_type": "markdown",
   "metadata": {},
   "source": [
    "start with the requests.<Br/>\n",
    "Attention:<Br/>\n",
    "it is necessary to limit the number of requests per second"
   ]
  },
  {
   "cell_type": "code",
   "execution_count": null,
   "metadata": {
    "colab": {
     "base_uri": "https://localhost:8080/"
    },
    "id": "VGKc563WLSU0",
    "outputId": "09838299-8693-483f-b66c-ed06bfbae86f"
   },
   "outputs": [],
   "source": [
    "body[\"locations\"] = []\n",
    "data = []\n",
    "for k,i in enumerate(locations):\n",
    "    print(i, locations[i])\n",
    "    body[\"locations\"].append(locations[i])\n",
    "    # 15 minutes city, at walking distance\n",
    "    call = requests.post('https://api.openrouteservice.org/v2/isochrones/foot-walking', json=body, headers=headers)\n",
    "    body[\"locations\"] = []\n",
    "    print(call.status_code, call.reason)\n",
    "    lab_dict = call.json()\n",
    "    lab_dict[\"name\"] = i\n",
    "    data.append(lab_dict)\n",
    "    print(\"---\")\n",
    "    time.sleep(30)"
   ]
  },
  {
   "cell_type": "code",
   "execution_count": 15,
   "metadata": {},
   "outputs": [
    {
     "data": {
      "text/plain": [
       "{'type': 'FeatureCollection',\n",
       " 'bbox': [2.181814, 41.386679, 2.206919, 41.408053],\n",
       " 'features': [{'type': 'Feature',\n",
       "   'properties': {'group_index': 0,\n",
       "    'value': 900.0,\n",
       "    'center': [2.1943253081862886, 41.396932544923246],\n",
       "    'area': 4414692.78,\n",
       "    'reachfactor': 0.8994,\n",
       "    'total_pop': 85512.0},\n",
       "   'geometry': {'coordinates': [[[2.181814, 41.394814],\n",
       "      [2.181818, 41.394634],\n",
       "      [2.181969, 41.39116],\n",
       "      [2.182512, 41.388045],\n",
       "      [2.182594, 41.387901],\n",
       "      [2.182729, 41.387688],\n",
       "      [2.182745, 41.387677],\n",
       "      [2.186288, 41.387211],\n",
       "      [2.189545, 41.387251],\n",
       "      [2.192458, 41.386679],\n",
       "      [2.194172, 41.38668],\n",
       "      [2.199413, 41.386923],\n",
       "      [2.20173, 41.387252],\n",
       "      [2.201769, 41.38728],\n",
       "      [2.20611, 41.391197],\n",
       "      [2.206369, 41.391261],\n",
       "      [2.206478, 41.3914],\n",
       "      [2.20658, 41.39185],\n",
       "      [2.206919, 41.395455],\n",
       "      [2.206873, 41.397327],\n",
       "      [2.206578, 41.402674],\n",
       "      [2.205493, 41.406096],\n",
       "      [2.205303, 41.406236],\n",
       "      [2.200017, 41.407745],\n",
       "      [2.199048, 41.408053],\n",
       "      [2.194236, 41.40745],\n",
       "      [2.188462, 41.407141],\n",
       "      [2.18612, 41.40658],\n",
       "      [2.183001, 41.404405],\n",
       "      [2.182823, 41.404038],\n",
       "      [2.18213, 41.40215],\n",
       "      [2.182082, 41.401735],\n",
       "      [2.181904, 41.399704],\n",
       "      [2.181815, 41.396635],\n",
       "      [2.181814, 41.396189],\n",
       "      [2.181814, 41.394814]]],\n",
       "    'type': 'Polygon'}}],\n",
       " 'metadata': {'attribution': 'openrouteservice.org | OpenStreetMap contributors',\n",
       "  'service': 'isochrones',\n",
       "  'timestamp': 1639431238222,\n",
       "  'query': {'locations': [[2.194335155490849, 41.39692498100806]],\n",
       "   'location_type': 'start',\n",
       "   'range': [900.0],\n",
       "   'range_type': 'time',\n",
       "   'area_units': 'm',\n",
       "   'attributes': ['total_pop', 'area', 'reachfactor'],\n",
       "   'interval': 900.0},\n",
       "  'engine': {'version': '6.6.1',\n",
       "   'build_date': '2021-07-05T10:57:48Z',\n",
       "   'graph_date': '2021-12-07T03:11:24Z'}},\n",
       " 'name': 'Fab Lab Barcelona'}"
      ]
     },
     "execution_count": 15,
     "metadata": {},
     "output_type": "execute_result"
    }
   ],
   "source": [
    "# Check the data, first lab\n",
    "data[0]"
   ]
  },
  {
   "cell_type": "markdown",
   "metadata": {},
   "source": [
    "store the data in the \"data\" folder as json file"
   ]
  },
  {
   "cell_type": "code",
   "execution_count": 16,
   "metadata": {
    "id": "90Vg8qZfx3Qo"
   },
   "outputs": [],
   "source": [
    "with open(\"data\" + os.sep + \"isochrones.json\", 'w') as outfile:\n",
    "    json.dump(data, outfile)"
   ]
  }
 ],
 "metadata": {
  "accelerator": "GPU",
  "colab": {
   "collapsed_sections": [],
   "name": "isochrone_fablab_v2_DATADOWNLOAD.ipynb",
   "provenance": []
  },
  "kernelspec": {
   "display_name": "Python 3 (ipykernel)",
   "language": "python",
   "name": "python3"
  },
  "language_info": {
   "codemirror_mode": {
    "name": "ipython",
    "version": 3
   },
   "file_extension": ".py",
   "mimetype": "text/x-python",
   "name": "python",
   "nbconvert_exporter": "python",
   "pygments_lexer": "ipython3",
   "version": "3.9.7"
  }
 },
 "nbformat": 4,
 "nbformat_minor": 1
}
