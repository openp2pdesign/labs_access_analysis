{
 "cells": [
  {
   "cell_type": "markdown",
   "metadata": {
    "id": "r8PwlWa_aICI"
   },
   "source": [
    "# Labs Access Analysis: 06 Population Analysis with Facebook Data - No overlaps between isochrones"
   ]
  },
  {
   "cell_type": "markdown",
   "metadata": {
    "id": "wBAiEmdqaRCO"
   },
   "source": [
    "## Setup"
   ]
  },
  {
   "cell_type": "code",
   "execution_count": 1,
   "metadata": {
    "id": "mKMbMvPRaEbD"
   },
   "outputs": [
    {
     "name": "stderr",
     "output_type": "stream",
     "text": [
      "/Users/massimo/Documents/GitHub/labs_access_analysis/env/lib/python3.9/site-packages/geopandas/_compat.py:111: UserWarning: The Shapely GEOS version (3.8.0-CAPI-1.13.1 ) is incompatible with the GEOS version PyGEOS was compiled with (3.9.1-CAPI-1.14.2). Conversions between both will be slow.\n",
      "  warnings.warn(\n"
     ]
    }
   ],
   "source": [
    "import pandas as pd\n",
    "import geopandas as gpd\n",
    "import seaborn as sns\n",
    "import matplotlib\n",
    "import matplotlib.pyplot as plt\n",
    "from shapely.geometry import Polygon\n",
    "import os\n",
    "import gc\n",
    "from matplotlib.patches import Patch\n",
    "\n",
    "# Change the font\n",
    "sns.set_context(\"poster\", font_scale=1.5)\n",
    "sns.set_style(style=\"whitegrid\")\n",
    "matplotlib.rc('font', family='serif', serif='Fira Sans')"
   ]
  },
  {
   "cell_type": "code",
   "execution_count": 2,
   "metadata": {},
   "outputs": [],
   "source": [
    "# Load data, csv\n",
    "data_csv = pd.read_csv('data/valid_labs.csv')\n",
    "data_csv['Lat'] = data_csv['Lat'].astype(float)\n",
    "data_csv['Long'] = data_csv['Long'].astype(float)\n",
    "data_csv = data_csv[(((~data_csv.Lat.isnull()) & (~data_csv.Long.isnull())))]"
   ]
  },
  {
   "cell_type": "code",
   "execution_count": 3,
   "metadata": {},
   "outputs": [],
   "source": [
    "data_labs = gpd.GeoDataFrame(\n",
    "    data_csv,\n",
    "    crs='EPSG:4326',\n",
    "    geometry=gpd.points_from_xy(data_csv.Long, data_csv.Lat))"
   ]
  },
  {
   "cell_type": "code",
   "execution_count": 4,
   "metadata": {},
   "outputs": [
    {
     "data": {
      "text/html": [
       "<div>\n",
       "<style scoped>\n",
       "    .dataframe tbody tr th:only-of-type {\n",
       "        vertical-align: middle;\n",
       "    }\n",
       "\n",
       "    .dataframe tbody tr th {\n",
       "        vertical-align: top;\n",
       "    }\n",
       "\n",
       "    .dataframe thead th {\n",
       "        text-align: right;\n",
       "    }\n",
       "</style>\n",
       "<table border=\"1\" class=\"dataframe\">\n",
       "  <thead>\n",
       "    <tr style=\"text-align: right;\">\n",
       "      <th></th>\n",
       "      <th>Unnamed: 0</th>\n",
       "      <th>Name</th>\n",
       "      <th>Type</th>\n",
       "      <th>City</th>\n",
       "      <th>Cluster</th>\n",
       "      <th>Address</th>\n",
       "      <th>CAP</th>\n",
       "      <th>Lat</th>\n",
       "      <th>Long</th>\n",
       "      <th>Source</th>\n",
       "      <th>URL</th>\n",
       "      <th>Notes</th>\n",
       "      <th>geometry</th>\n",
       "    </tr>\n",
       "  </thead>\n",
       "  <tbody>\n",
       "    <tr>\n",
       "      <th>0</th>\n",
       "      <td>0</td>\n",
       "      <td>Fab Lab Barcelona</td>\n",
       "      <td>Fab Lab</td>\n",
       "      <td>Barcelona</td>\n",
       "      <td>BCN</td>\n",
       "      <td>Carrer de Pujades, 102</td>\n",
       "      <td>8005.0</td>\n",
       "      <td>41.396925</td>\n",
       "      <td>2.194335</td>\n",
       "      <td>Fablabs.io</td>\n",
       "      <td>https://fablabbcn.org/</td>\n",
       "      <td>NaN</td>\n",
       "      <td>POINT (2.19434 41.39692)</td>\n",
       "    </tr>\n",
       "    <tr>\n",
       "      <th>1</th>\n",
       "      <td>1</td>\n",
       "      <td>MADE Makerspace Barcelona</td>\n",
       "      <td>Fab Lab</td>\n",
       "      <td>Barcelona</td>\n",
       "      <td>BCN</td>\n",
       "      <td>Carrer Noguera Pallaresa 59-61</td>\n",
       "      <td>8014.0</td>\n",
       "      <td>41.373238</td>\n",
       "      <td>2.141084</td>\n",
       "      <td>Fablabs.io, Hackerspaces.org, Makerspaces.make.co</td>\n",
       "      <td>NaN</td>\n",
       "      <td>NaN</td>\n",
       "      <td>POINT (2.14108 41.37324)</td>\n",
       "    </tr>\n",
       "    <tr>\n",
       "      <th>2</th>\n",
       "      <td>2</td>\n",
       "      <td>Soko Tech</td>\n",
       "      <td>Fab Lab</td>\n",
       "      <td>Barcelona</td>\n",
       "      <td>BCN</td>\n",
       "      <td>Carrer de Vallès i Ribot, 36</td>\n",
       "      <td>8027.0</td>\n",
       "      <td>41.424535</td>\n",
       "      <td>2.188883</td>\n",
       "      <td>Fablabs.io</td>\n",
       "      <td>https://soko.tech/</td>\n",
       "      <td>NaN</td>\n",
       "      <td>POINT (2.18888 41.42454)</td>\n",
       "    </tr>\n",
       "    <tr>\n",
       "      <th>3</th>\n",
       "      <td>3</td>\n",
       "      <td>LSCongres</td>\n",
       "      <td>Fab Lab</td>\n",
       "      <td>Barcelona</td>\n",
       "      <td>BCN</td>\n",
       "      <td>Carrer del Cardenal Tedeschini, 50</td>\n",
       "      <td>8027.0</td>\n",
       "      <td>41.426002</td>\n",
       "      <td>2.182026</td>\n",
       "      <td>Fablabs.io</td>\n",
       "      <td>https://fablabs.io/labs/lscongres</td>\n",
       "      <td>NaN</td>\n",
       "      <td>POINT (2.18203 41.42600)</td>\n",
       "    </tr>\n",
       "    <tr>\n",
       "      <th>4</th>\n",
       "      <td>4</td>\n",
       "      <td>Green Fab Lab</td>\n",
       "      <td>Fab Lab</td>\n",
       "      <td>Cerdanyola del Vallès</td>\n",
       "      <td>BCN</td>\n",
       "      <td>Ctra. BV-1415 (Horta-Cerdanyola), km 7</td>\n",
       "      <td>8290.0</td>\n",
       "      <td>41.450394</td>\n",
       "      <td>2.133441</td>\n",
       "      <td>Fablabs.io</td>\n",
       "      <td>NaN</td>\n",
       "      <td>NaN</td>\n",
       "      <td>POINT (2.13344 41.45039)</td>\n",
       "    </tr>\n",
       "  </tbody>\n",
       "</table>\n",
       "</div>"
      ],
      "text/plain": [
       "   Unnamed: 0                       Name     Type                   City  \\\n",
       "0           0          Fab Lab Barcelona  Fab Lab              Barcelona   \n",
       "1           1  MADE Makerspace Barcelona  Fab Lab              Barcelona   \n",
       "2           2                  Soko Tech  Fab Lab              Barcelona   \n",
       "3           3                  LSCongres  Fab Lab              Barcelona   \n",
       "4           4              Green Fab Lab  Fab Lab  Cerdanyola del Vallès   \n",
       "\n",
       "  Cluster                                 Address     CAP        Lat  \\\n",
       "0     BCN                  Carrer de Pujades, 102  8005.0  41.396925   \n",
       "1     BCN          Carrer Noguera Pallaresa 59-61  8014.0  41.373238   \n",
       "2     BCN            Carrer de Vallès i Ribot, 36  8027.0  41.424535   \n",
       "3     BCN      Carrer del Cardenal Tedeschini, 50  8027.0  41.426002   \n",
       "4     BCN  Ctra. BV-1415 (Horta-Cerdanyola), km 7  8290.0  41.450394   \n",
       "\n",
       "       Long                                             Source  \\\n",
       "0  2.194335                                         Fablabs.io   \n",
       "1  2.141084  Fablabs.io, Hackerspaces.org, Makerspaces.make.co   \n",
       "2  2.188883                                         Fablabs.io   \n",
       "3  2.182026                                         Fablabs.io   \n",
       "4  2.133441                                         Fablabs.io   \n",
       "\n",
       "                                 URL  Notes                  geometry  \n",
       "0             https://fablabbcn.org/    NaN  POINT (2.19434 41.39692)  \n",
       "1                                NaN    NaN  POINT (2.14108 41.37324)  \n",
       "2                 https://soko.tech/    NaN  POINT (2.18888 41.42454)  \n",
       "3  https://fablabs.io/labs/lscongres    NaN  POINT (2.18203 41.42600)  \n",
       "4                                NaN    NaN  POINT (2.13344 41.45039)  "
      ]
     },
     "execution_count": 4,
     "metadata": {},
     "output_type": "execute_result"
    }
   ],
   "source": [
    "data_labs.head()"
   ]
  },
  {
   "cell_type": "code",
   "execution_count": 5,
   "metadata": {},
   "outputs": [],
   "source": [
    "data_labs.set_index('Unnamed: 0', inplace=True)\n",
    "data_labs.index.names = ['']"
   ]
  },
  {
   "cell_type": "code",
   "execution_count": 6,
   "metadata": {},
   "outputs": [
    {
     "data": {
      "text/html": [
       "<div style=\"width:100%;\"><div style=\"position:relative;width:100%;height:0;padding-bottom:60%;\"><span style=\"color:#565656\">Make this Notebook Trusted to load map: File -> Trust Notebook</span><iframe src=\"about:blank\" style=\"position:absolute;width:100%;height:100%;left:0;top:0;border:none !important;\" data-html=%3C%21DOCTYPE%20html%3E%0A%3Chead%3E%20%20%20%20%0A%20%20%20%20%3Cmeta%20http-equiv%3D%22content-type%22%20content%3D%22text/html%3B%20charset%3DUTF-8%22%20/%3E%0A%20%20%20%20%0A%20%20%20%20%20%20%20%20%3Cscript%3E%0A%20%20%20%20%20%20%20%20%20%20%20%20L_NO_TOUCH%20%3D%20false%3B%0A%20%20%20%20%20%20%20%20%20%20%20%20L_DISABLE_3D%20%3D%20false%3B%0A%20%20%20%20%20%20%20%20%3C/script%3E%0A%20%20%20%20%0A%20%20%20%20%3Cstyle%3Ehtml%2C%20body%20%7Bwidth%3A%20100%25%3Bheight%3A%20100%25%3Bmargin%3A%200%3Bpadding%3A%200%3B%7D%3C/style%3E%0A%20%20%20%20%3Cstyle%3E%23map%20%7Bposition%3Aabsolute%3Btop%3A0%3Bbottom%3A0%3Bright%3A0%3Bleft%3A0%3B%7D%3C/style%3E%0A%20%20%20%20%3Cscript%20src%3D%22https%3A//cdn.jsdelivr.net/npm/leaflet%401.6.0/dist/leaflet.js%22%3E%3C/script%3E%0A%20%20%20%20%3Cscript%20src%3D%22https%3A//code.jquery.com/jquery-1.12.4.min.js%22%3E%3C/script%3E%0A%20%20%20%20%3Cscript%20src%3D%22https%3A//maxcdn.bootstrapcdn.com/bootstrap/3.2.0/js/bootstrap.min.js%22%3E%3C/script%3E%0A%20%20%20%20%3Cscript%20src%3D%22https%3A//cdnjs.cloudflare.com/ajax/libs/Leaflet.awesome-markers/2.0.2/leaflet.awesome-markers.js%22%3E%3C/script%3E%0A%20%20%20%20%3Clink%20rel%3D%22stylesheet%22%20href%3D%22https%3A//cdn.jsdelivr.net/npm/leaflet%401.6.0/dist/leaflet.css%22/%3E%0A%20%20%20%20%3Clink%20rel%3D%22stylesheet%22%20href%3D%22https%3A//maxcdn.bootstrapcdn.com/bootstrap/3.2.0/css/bootstrap.min.css%22/%3E%0A%20%20%20%20%3Clink%20rel%3D%22stylesheet%22%20href%3D%22https%3A//maxcdn.bootstrapcdn.com/bootstrap/3.2.0/css/bootstrap-theme.min.css%22/%3E%0A%20%20%20%20%3Clink%20rel%3D%22stylesheet%22%20href%3D%22https%3A//maxcdn.bootstrapcdn.com/font-awesome/4.6.3/css/font-awesome.min.css%22/%3E%0A%20%20%20%20%3Clink%20rel%3D%22stylesheet%22%20href%3D%22https%3A//cdnjs.cloudflare.com/ajax/libs/Leaflet.awesome-markers/2.0.2/leaflet.awesome-markers.css%22/%3E%0A%20%20%20%20%3Clink%20rel%3D%22stylesheet%22%20href%3D%22https%3A//cdn.jsdelivr.net/gh/python-visualization/folium/folium/templates/leaflet.awesome.rotate.min.css%22/%3E%0A%20%20%20%20%0A%20%20%20%20%20%20%20%20%20%20%20%20%3Cmeta%20name%3D%22viewport%22%20content%3D%22width%3Ddevice-width%2C%0A%20%20%20%20%20%20%20%20%20%20%20%20%20%20%20%20initial-scale%3D1.0%2C%20maximum-scale%3D1.0%2C%20user-scalable%3Dno%22%20/%3E%0A%20%20%20%20%20%20%20%20%20%20%20%20%3Cstyle%3E%0A%20%20%20%20%20%20%20%20%20%20%20%20%20%20%20%20%23map_c76973633bd44a4e9fb6898ff6d7e193%20%7B%0A%20%20%20%20%20%20%20%20%20%20%20%20%20%20%20%20%20%20%20%20position%3A%20relative%3B%0A%20%20%20%20%20%20%20%20%20%20%20%20%20%20%20%20%20%20%20%20width%3A%20100.0%25%3B%0A%20%20%20%20%20%20%20%20%20%20%20%20%20%20%20%20%20%20%20%20height%3A%20100.0%25%3B%0A%20%20%20%20%20%20%20%20%20%20%20%20%20%20%20%20%20%20%20%20left%3A%200.0%25%3B%0A%20%20%20%20%20%20%20%20%20%20%20%20%20%20%20%20%20%20%20%20top%3A%200.0%25%3B%0A%20%20%20%20%20%20%20%20%20%20%20%20%20%20%20%20%7D%0A%20%20%20%20%20%20%20%20%20%20%20%20%3C/style%3E%0A%20%20%20%20%20%20%20%20%0A%20%20%20%20%0A%20%20%20%20%20%20%20%20%20%20%20%20%20%20%20%20%20%20%20%20%3Cstyle%3E%0A%20%20%20%20%20%20%20%20%20%20%20%20%20%20%20%20%20%20%20%20%20%20%20%20.foliumtooltip%20%7B%0A%20%20%20%20%20%20%20%20%20%20%20%20%20%20%20%20%20%20%20%20%20%20%20%20%20%20%20%20%0A%20%20%20%20%20%20%20%20%20%20%20%20%20%20%20%20%20%20%20%20%20%20%20%20%7D%0A%20%20%20%20%20%20%20%20%20%20%20%20%20%20%20%20%20%20%20%20%20%20%20.foliumtooltip%20table%7B%0A%20%20%20%20%20%20%20%20%20%20%20%20%20%20%20%20%20%20%20%20%20%20%20%20%20%20%20%20margin%3A%20auto%3B%0A%20%20%20%20%20%20%20%20%20%20%20%20%20%20%20%20%20%20%20%20%20%20%20%20%7D%0A%20%20%20%20%20%20%20%20%20%20%20%20%20%20%20%20%20%20%20%20%20%20%20%20.foliumtooltip%20tr%7B%0A%20%20%20%20%20%20%20%20%20%20%20%20%20%20%20%20%20%20%20%20%20%20%20%20%20%20%20%20text-align%3A%20left%3B%0A%20%20%20%20%20%20%20%20%20%20%20%20%20%20%20%20%20%20%20%20%20%20%20%20%7D%0A%20%20%20%20%20%20%20%20%20%20%20%20%20%20%20%20%20%20%20%20%20%20%20%20.foliumtooltip%20th%7B%0A%20%20%20%20%20%20%20%20%20%20%20%20%20%20%20%20%20%20%20%20%20%20%20%20%20%20%20%20padding%3A%202px%3B%20padding-right%3A%208px%3B%0A%20%20%20%20%20%20%20%20%20%20%20%20%20%20%20%20%20%20%20%20%20%20%20%20%7D%0A%20%20%20%20%20%20%20%20%20%20%20%20%20%20%20%20%20%20%20%20%3C/style%3E%0A%20%20%20%20%20%20%20%20%20%20%20%20%0A%3C/head%3E%0A%3Cbody%3E%20%20%20%20%0A%20%20%20%20%0A%20%20%20%20%20%20%20%20%20%20%20%20%3Cdiv%20class%3D%22folium-map%22%20id%3D%22map_c76973633bd44a4e9fb6898ff6d7e193%22%20%3E%3C/div%3E%0A%20%20%20%20%20%20%20%20%0A%3C/body%3E%0A%3Cscript%3E%20%20%20%20%0A%20%20%20%20%0A%20%20%20%20%20%20%20%20%20%20%20%20var%20map_c76973633bd44a4e9fb6898ff6d7e193%20%3D%20L.map%28%0A%20%20%20%20%20%20%20%20%20%20%20%20%20%20%20%20%22map_c76973633bd44a4e9fb6898ff6d7e193%22%2C%0A%20%20%20%20%20%20%20%20%20%20%20%20%20%20%20%20%7B%0A%20%20%20%20%20%20%20%20%20%20%20%20%20%20%20%20%20%20%20%20center%3A%20%5B43.41830295580387%2C%205.617040012304652%5D%2C%0A%20%20%20%20%20%20%20%20%20%20%20%20%20%20%20%20%20%20%20%20crs%3A%20L.CRS.EPSG3857%2C%0A%20%20%20%20%20%20%20%20%20%20%20%20%20%20%20%20%20%20%20%20zoom%3A%2010%2C%0A%20%20%20%20%20%20%20%20%20%20%20%20%20%20%20%20%20%20%20%20zoomControl%3A%20true%2C%0A%20%20%20%20%20%20%20%20%20%20%20%20%20%20%20%20%20%20%20%20preferCanvas%3A%20false%2C%0A%20%20%20%20%20%20%20%20%20%20%20%20%20%20%20%20%7D%0A%20%20%20%20%20%20%20%20%20%20%20%20%29%3B%0A%20%20%20%20%20%20%20%20%20%20%20%20L.control.scale%28%29.addTo%28map_c76973633bd44a4e9fb6898ff6d7e193%29%3B%0A%0A%20%20%20%20%20%20%20%20%20%20%20%20%0A%0A%20%20%20%20%20%20%20%20%0A%20%20%20%20%0A%20%20%20%20%20%20%20%20%20%20%20%20var%20tile_layer_52dbd54f735f4990ae9300750a2b344f%20%3D%20L.tileLayer%28%0A%20%20%20%20%20%20%20%20%20%20%20%20%20%20%20%20%22https%3A//%7Bs%7D.tile.openstreetmap.org/%7Bz%7D/%7Bx%7D/%7By%7D.png%22%2C%0A%20%20%20%20%20%20%20%20%20%20%20%20%20%20%20%20%7B%22attribution%22%3A%20%22Data%20by%20%5Cu0026copy%3B%20%5Cu003ca%20href%3D%5C%22http%3A//openstreetmap.org%5C%22%5Cu003eOpenStreetMap%5Cu003c/a%5Cu003e%2C%20under%20%5Cu003ca%20href%3D%5C%22http%3A//www.openstreetmap.org/copyright%5C%22%5Cu003eODbL%5Cu003c/a%5Cu003e.%22%2C%20%22detectRetina%22%3A%20false%2C%20%22maxNativeZoom%22%3A%2018%2C%20%22maxZoom%22%3A%2018%2C%20%22minZoom%22%3A%200%2C%20%22noWrap%22%3A%20false%2C%20%22opacity%22%3A%201%2C%20%22subdomains%22%3A%20%22abc%22%2C%20%22tms%22%3A%20false%7D%0A%20%20%20%20%20%20%20%20%20%20%20%20%29.addTo%28map_c76973633bd44a4e9fb6898ff6d7e193%29%3B%0A%20%20%20%20%20%20%20%20%0A%20%20%20%20%0A%20%20%20%20%20%20%20%20%20%20%20%20map_c76973633bd44a4e9fb6898ff6d7e193.fitBounds%28%0A%20%20%20%20%20%20%20%20%20%20%20%20%20%20%20%20%5B%5B41.27620125260372%2C%201.988950553636468%5D%2C%20%5B45.56040465900402%2C%209.245129470972836%5D%5D%2C%0A%20%20%20%20%20%20%20%20%20%20%20%20%20%20%20%20%7B%7D%0A%20%20%20%20%20%20%20%20%20%20%20%20%29%3B%0A%20%20%20%20%20%20%20%20%0A%20%20%20%20%0A%20%20%20%20%20%20%20%20function%20geo_json_1253d8fc68334bd4a490088b5b0cec54_styler%28feature%29%20%7B%0A%20%20%20%20%20%20%20%20%20%20%20%20switch%28feature.id%29%20%7B%0A%20%20%20%20%20%20%20%20%20%20%20%20%20%20%20%20default%3A%0A%20%20%20%20%20%20%20%20%20%20%20%20%20%20%20%20%20%20%20%20return%20%7B%22fillOpacity%22%3A%200.5%2C%20%22weight%22%3A%202%7D%3B%0A%20%20%20%20%20%20%20%20%20%20%20%20%7D%0A%20%20%20%20%20%20%20%20%7D%0A%20%20%20%20%20%20%20%20function%20geo_json_1253d8fc68334bd4a490088b5b0cec54_highlighter%28feature%29%20%7B%0A%20%20%20%20%20%20%20%20%20%20%20%20switch%28feature.id%29%20%7B%0A%20%20%20%20%20%20%20%20%20%20%20%20%20%20%20%20default%3A%0A%20%20%20%20%20%20%20%20%20%20%20%20%20%20%20%20%20%20%20%20return%20%7B%22fillOpacity%22%3A%200.75%7D%3B%0A%20%20%20%20%20%20%20%20%20%20%20%20%7D%0A%20%20%20%20%20%20%20%20%7D%0A%20%20%20%20%20%20%20%20function%20geo_json_1253d8fc68334bd4a490088b5b0cec54_pointToLayer%28feature%2C%20latlng%29%20%7B%0A%20%20%20%20%20%20%20%20%20%20%20%20var%20opts%20%3D%20%7B%22bubblingMouseEvents%22%3A%20true%2C%20%22color%22%3A%20%22%233388ff%22%2C%20%22dashArray%22%3A%20null%2C%20%22dashOffset%22%3A%20null%2C%20%22fill%22%3A%20true%2C%20%22fillColor%22%3A%20%22%233388ff%22%2C%20%22fillOpacity%22%3A%200.2%2C%20%22fillRule%22%3A%20%22evenodd%22%2C%20%22lineCap%22%3A%20%22round%22%2C%20%22lineJoin%22%3A%20%22round%22%2C%20%22opacity%22%3A%201.0%2C%20%22radius%22%3A%202%2C%20%22stroke%22%3A%20true%2C%20%22weight%22%3A%203%7D%3B%0A%20%20%20%20%20%20%20%20%20%20%20%20%0A%20%20%20%20%20%20%20%20%20%20%20%20let%20style%20%3D%20geo_json_1253d8fc68334bd4a490088b5b0cec54_styler%28feature%29%0A%20%20%20%20%20%20%20%20%20%20%20%20Object.assign%28opts%2C%20style%29%0A%20%20%20%20%20%20%20%20%20%20%20%20%0A%20%20%20%20%20%20%20%20%20%20%20%20return%20new%20L.CircleMarker%28latlng%2C%20opts%29%0A%20%20%20%20%20%20%20%20%7D%0A%0A%20%20%20%20%20%20%20%20function%20geo_json_1253d8fc68334bd4a490088b5b0cec54_onEachFeature%28feature%2C%20layer%29%20%7B%0A%20%20%20%20%20%20%20%20%20%20%20%20layer.on%28%7B%0A%20%20%20%20%20%20%20%20%20%20%20%20%20%20%20%20mouseout%3A%20function%28e%29%20%7B%0A%20%20%20%20%20%20%20%20%20%20%20%20%20%20%20%20%20%20%20%20if%28typeof%20e.target.setStyle%20%3D%3D%3D%20%22function%22%29%7B%0A%20%20%20%20%20%20%20%20%20%20%20%20%20%20%20%20%20%20%20%20%20%20%20%20geo_json_1253d8fc68334bd4a490088b5b0cec54.resetStyle%28e.target%29%3B%0A%20%20%20%20%20%20%20%20%20%20%20%20%20%20%20%20%20%20%20%20%7D%0A%20%20%20%20%20%20%20%20%20%20%20%20%20%20%20%20%7D%2C%0A%20%20%20%20%20%20%20%20%20%20%20%20%20%20%20%20mouseover%3A%20function%28e%29%20%7B%0A%20%20%20%20%20%20%20%20%20%20%20%20%20%20%20%20%20%20%20%20if%28typeof%20e.target.setStyle%20%3D%3D%3D%20%22function%22%29%7B%0A%20%20%20%20%20%20%20%20%20%20%20%20%20%20%20%20%20%20%20%20%20%20%20%20const%20highlightStyle%20%3D%20geo_json_1253d8fc68334bd4a490088b5b0cec54_highlighter%28e.target.feature%29%0A%20%20%20%20%20%20%20%20%20%20%20%20%20%20%20%20%20%20%20%20%20%20%20%20e.target.setStyle%28highlightStyle%29%3B%0A%20%20%20%20%20%20%20%20%20%20%20%20%20%20%20%20%20%20%20%20%7D%0A%20%20%20%20%20%20%20%20%20%20%20%20%20%20%20%20%7D%2C%0A%20%20%20%20%20%20%20%20%20%20%20%20%7D%29%3B%0A%20%20%20%20%20%20%20%20%7D%3B%0A%20%20%20%20%20%20%20%20var%20geo_json_1253d8fc68334bd4a490088b5b0cec54%20%3D%20L.geoJson%28null%2C%20%7B%0A%20%20%20%20%20%20%20%20%20%20%20%20%20%20%20%20onEachFeature%3A%20geo_json_1253d8fc68334bd4a490088b5b0cec54_onEachFeature%2C%0A%20%20%20%20%20%20%20%20%20%20%20%20%0A%20%20%20%20%20%20%20%20%20%20%20%20%20%20%20%20style%3A%20geo_json_1253d8fc68334bd4a490088b5b0cec54_styler%2C%0A%20%20%20%20%20%20%20%20%20%20%20%20%20%20%20%20pointToLayer%3A%20geo_json_1253d8fc68334bd4a490088b5b0cec54_pointToLayer%0A%20%20%20%20%20%20%20%20%7D%29%3B%0A%0A%20%20%20%20%20%20%20%20function%20geo_json_1253d8fc68334bd4a490088b5b0cec54_add%20%28data%29%20%7B%0A%20%20%20%20%20%20%20%20%20%20%20%20geo_json_1253d8fc68334bd4a490088b5b0cec54%0A%20%20%20%20%20%20%20%20%20%20%20%20%20%20%20%20.addData%28data%29%0A%20%20%20%20%20%20%20%20%20%20%20%20%20%20%20%20.addTo%28map_c76973633bd44a4e9fb6898ff6d7e193%29%3B%0A%20%20%20%20%20%20%20%20%7D%0A%20%20%20%20%20%20%20%20%20%20%20%20geo_json_1253d8fc68334bd4a490088b5b0cec54_add%28%7B%22bbox%22%3A%20%5B1.988950553636468%2C%2041.27620125260372%2C%209.245129470972836%2C%2045.56040465900402%5D%2C%20%22features%22%3A%20%5B%7B%22bbox%22%3A%20%5B2.194335155490849%2C%2041.39692498100806%2C%202.194335155490849%2C%2041.39692498100806%5D%2C%20%22geometry%22%3A%20%7B%22coordinates%22%3A%20%5B2.194335155490849%2C%2041.39692498100806%5D%2C%20%22type%22%3A%20%22Point%22%7D%2C%20%22id%22%3A%20%220%22%2C%20%22properties%22%3A%20%7B%22%22%3A%200%2C%20%22Address%22%3A%20%22Carrer%20de%20Pujades%2C%20102%22%2C%20%22CAP%22%3A%208005.0%2C%20%22City%22%3A%20%22Barcelona%22%2C%20%22Cluster%22%3A%20%22BCN%22%2C%20%22Lat%22%3A%2041.39692498100806%2C%20%22Long%22%3A%202.194335155490849%2C%20%22Name%22%3A%20%22Fab%20Lab%20Barcelona%22%2C%20%22Notes%22%3A%20null%2C%20%22Source%22%3A%20%22Fablabs.io%22%2C%20%22Type%22%3A%20%22Fab%20Lab%22%2C%20%22URL%22%3A%20%22https%3A//fablabbcn.org/%22%7D%2C%20%22type%22%3A%20%22Feature%22%7D%2C%20%7B%22bbox%22%3A%20%5B2.141084282475449%2C%2041.373238104403214%2C%202.141084282475449%2C%2041.373238104403214%5D%2C%20%22geometry%22%3A%20%7B%22coordinates%22%3A%20%5B2.141084282475449%2C%2041.373238104403214%5D%2C%20%22type%22%3A%20%22Point%22%7D%2C%20%22id%22%3A%20%221%22%2C%20%22properties%22%3A%20%7B%22%22%3A%201%2C%20%22Address%22%3A%20%22Carrer%20Noguera%20Pallaresa%2059-61%22%2C%20%22CAP%22%3A%208014.0%2C%20%22City%22%3A%20%22Barcelona%22%2C%20%22Cluster%22%3A%20%22BCN%22%2C%20%22Lat%22%3A%2041.373238104403214%2C%20%22Long%22%3A%202.141084282475449%2C%20%22Name%22%3A%20%22MADE%20Makerspace%20Barcelona%22%2C%20%22Notes%22%3A%20null%2C%20%22Source%22%3A%20%22Fablabs.io%2C%20Hackerspaces.org%2C%20Makerspaces.make.co%22%2C%20%22Type%22%3A%20%22Fab%20Lab%22%2C%20%22URL%22%3A%20null%7D%2C%20%22type%22%3A%20%22Feature%22%7D%2C%20%7B%22bbox%22%3A%20%5B2.1888825978201867%2C%2041.42453540945304%2C%202.1888825978201867%2C%2041.42453540945304%5D%2C%20%22geometry%22%3A%20%7B%22coordinates%22%3A%20%5B2.1888825978201867%2C%2041.42453540945304%5D%2C%20%22type%22%3A%20%22Point%22%7D%2C%20%22id%22%3A%20%222%22%2C%20%22properties%22%3A%20%7B%22%22%3A%202%2C%20%22Address%22%3A%20%22Carrer%20de%20Vall%5Cu00e8s%20i%20Ribot%2C%2036%22%2C%20%22CAP%22%3A%208027.0%2C%20%22City%22%3A%20%22Barcelona%22%2C%20%22Cluster%22%3A%20%22BCN%22%2C%20%22Lat%22%3A%2041.42453540945304%2C%20%22Long%22%3A%202.1888825978201867%2C%20%22Name%22%3A%20%22Soko%20Tech%22%2C%20%22Notes%22%3A%20null%2C%20%22Source%22%3A%20%22Fablabs.io%22%2C%20%22Type%22%3A%20%22Fab%20Lab%22%2C%20%22URL%22%3A%20%22https%3A//soko.tech/%22%7D%2C%20%22type%22%3A%20%22Feature%22%7D%2C%20%7B%22bbox%22%3A%20%5B2.1820259689844854%2C%2041.426002192952815%2C%202.1820259689844854%2C%2041.426002192952815%5D%2C%20%22geometry%22%3A%20%7B%22coordinates%22%3A%20%5B2.1820259689844854%2C%2041.426002192952815%5D%2C%20%22type%22%3A%20%22Point%22%7D%2C%20%22id%22%3A%20%223%22%2C%20%22properties%22%3A%20%7B%22%22%3A%203%2C%20%22Address%22%3A%20%22Carrer%20del%20Cardenal%20Tedeschini%2C%2050%22%2C%20%22CAP%22%3A%208027.0%2C%20%22City%22%3A%20%22Barcelona%22%2C%20%22Cluster%22%3A%20%22BCN%22%2C%20%22Lat%22%3A%2041.426002192952815%2C%20%22Long%22%3A%202.1820259689844854%2C%20%22Name%22%3A%20%22LSCongres%22%2C%20%22Notes%22%3A%20null%2C%20%22Source%22%3A%20%22Fablabs.io%22%2C%20%22Type%22%3A%20%22Fab%20Lab%22%2C%20%22URL%22%3A%20%22https%3A//fablabs.io/labs/lscongres%22%7D%2C%20%22type%22%3A%20%22Feature%22%7D%2C%20%7B%22bbox%22%3A%20%5B2.133441411313727%2C%2041.45039383574725%2C%202.133441411313727%2C%2041.45039383574725%5D%2C%20%22geometry%22%3A%20%7B%22coordinates%22%3A%20%5B2.133441411313727%2C%2041.45039383574725%5D%2C%20%22type%22%3A%20%22Point%22%7D%2C%20%22id%22%3A%20%224%22%2C%20%22properties%22%3A%20%7B%22%22%3A%204%2C%20%22Address%22%3A%20%22Ctra.%20BV-1415%20%28Horta-Cerdanyola%29%2C%20km%207%22%2C%20%22CAP%22%3A%208290.0%2C%20%22City%22%3A%20%22Cerdanyola%20del%20Vall%5Cu00e8s%22%2C%20%22Cluster%22%3A%20%22BCN%22%2C%20%22Lat%22%3A%2041.45039383574725%2C%20%22Long%22%3A%202.133441411313727%2C%20%22Name%22%3A%20%22Green%20Fab%20Lab%22%2C%20%22Notes%22%3A%20null%2C%20%22Source%22%3A%20%22Fablabs.io%22%2C%20%22Type%22%3A%20%22Fab%20Lab%22%2C%20%22URL%22%3A%20null%7D%2C%20%22type%22%3A%20%22Feature%22%7D%2C%20%7B%22bbox%22%3A%20%5B2.199793097820458%2C%2041.43215238774583%2C%202.199793097820458%2C%2041.43215238774583%5D%2C%20%22geometry%22%3A%20%7B%22coordinates%22%3A%20%5B2.199793097820458%2C%2041.43215238774583%5D%2C%20%22type%22%3A%20%22Point%22%7D%2C%20%22id%22%3A%20%225%22%2C%20%22properties%22%3A%20%7B%22%22%3A%205%2C%20%22Address%22%3A%20%22Passatge%20del%20Torrent%20de%20l%5Cu0027Estadella%2056%22%2C%20%22CAP%22%3A%208030.0%2C%20%22City%22%3A%20%22Barcelona%22%2C%20%22Cluster%22%3A%20%22BCN%22%2C%20%22Lat%22%3A%2041.43215238774583%2C%20%22Long%22%3A%202.199793097820458%2C%20%22Name%22%3A%20%22Barcelona%20Mobility%20LAB%22%2C%20%22Notes%22%3A%20null%2C%20%22Source%22%3A%20%22Fablabs.io%22%2C%20%22Type%22%3A%20%22Fab%20Lab%22%2C%20%22URL%22%3A%20null%7D%2C%20%22type%22%3A%20%22Feature%22%7D%2C%20%7B%22bbox%22%3A%20%5B2.0917035978216068%2C%2041.46756916570972%2C%202.0917035978216068%2C%2041.46756916570972%5D%2C%20%22geometry%22%3A%20%7B%22coordinates%22%3A%20%5B2.0917035978216068%2C%2041.46756916570972%5D%2C%20%22type%22%3A%20%22Point%22%7D%2C%20%22id%22%3A%20%226%22%2C%20%22properties%22%3A%20%7B%22%22%3A%206%2C%20%22Address%22%3A%20%22Avinguda%20de%20la%20Torre%20Blanca%2C%2057%22%2C%20%22CAP%22%3A%208712.0%2C%20%22City%22%3A%20%22Sant%20Cugat%20del%20Vall%5Cu00e8s%22%2C%20%22Cluster%22%3A%20%22BCN%22%2C%20%22Lat%22%3A%2041.46756916570972%2C%20%22Long%22%3A%202.0917035978216068%2C%20%22Name%22%3A%20%22Fab%20Lab%20Sant%20Cugat%22%2C%20%22Notes%22%3A%20null%2C%20%22Source%22%3A%20%22Fablabs.io%22%2C%20%22Type%22%3A%20%22Fab%20Lab%22%2C%20%22URL%22%3A%20null%7D%2C%20%22type%22%3A%20%22Feature%22%7D%2C%20%7B%22bbox%22%3A%20%5B9.207912905011613%2C%2045.4440458211788%2C%209.207912905011613%2C%2045.4440458211788%5D%2C%20%22geometry%22%3A%20%7B%22coordinates%22%3A%20%5B9.207912905011613%2C%2045.4440458211788%5D%2C%20%22type%22%3A%20%22Point%22%7D%2C%20%22id%22%3A%20%227%22%2C%20%22properties%22%3A%20%7B%22%22%3A%208%2C%20%22Address%22%3A%20%22Via%20Arcivescovo%20Calabiana%2C%206%22%2C%20%22CAP%22%3A%2020139.0%2C%20%22City%22%3A%20%22Milan%22%2C%20%22Cluster%22%3A%20%22MI%22%2C%20%22Lat%22%3A%2045.4440458211788%2C%20%22Long%22%3A%209.207912905011613%2C%20%22Name%22%3A%20%22The%20FabLab%3A%20Make%20in%20Milano%22%2C%20%22Notes%22%3A%20null%2C%20%22Source%22%3A%20%22Fablabs.io%22%2C%20%22Type%22%3A%20%22Fab%20Lab%22%2C%20%22URL%22%3A%20null%7D%2C%20%22type%22%3A%20%22Feature%22%7D%2C%20%7B%22bbox%22%3A%20%5B9.231811340285022%2C%2045.43830458381551%2C%209.231811340285022%2C%2045.43830458381551%5D%2C%20%22geometry%22%3A%20%7B%22coordinates%22%3A%20%5B9.231811340285022%2C%2045.43830458381551%5D%2C%20%22type%22%3A%20%22Point%22%7D%2C%20%22id%22%3A%20%228%22%2C%20%22properties%22%3A%20%7B%22%22%3A%209%2C%20%22Address%22%3A%20%22Via%20Carlo%20Boncompagni%2C%2057%22%2C%20%22CAP%22%3A%2020139.0%2C%20%22City%22%3A%20%22Milan%22%2C%20%22Cluster%22%3A%20%22MI%22%2C%20%22Lat%22%3A%2045.43830458381551%2C%20%22Long%22%3A%209.231811340285022%2C%20%22Name%22%3A%20%22Vectorealism%20FabLab%22%2C%20%22Notes%22%3A%20null%2C%20%22Source%22%3A%20%22Fablabs.io%22%2C%20%22Type%22%3A%20%22Service%22%2C%20%22URL%22%3A%20%22https%3A//fablabs.io/labs/vectorealismfablab%22%7D%2C%20%22type%22%3A%20%22Feature%22%7D%2C%20%7B%22bbox%22%3A%20%5B9.1798175115845%2C%2045.45245728345691%2C%209.1798175115845%2C%2045.45245728345691%5D%2C%20%22geometry%22%3A%20%7B%22coordinates%22%3A%20%5B9.1798175115845%2C%2045.45245728345691%5D%2C%20%22type%22%3A%20%22Point%22%7D%2C%20%22id%22%3A%20%229%22%2C%20%22properties%22%3A%20%7B%22%22%3A%2010%2C%20%22Address%22%3A%20%22Corso%20S.%20Gottardo%2C%2019%22%2C%20%22CAP%22%3A%2020136.0%2C%20%22City%22%3A%20%22Milan%22%2C%20%22Cluster%22%3A%20%22MI%22%2C%20%22Lat%22%3A%2045.45245728345691%2C%20%22Long%22%3A%209.1798175115845%2C%20%22Name%22%3A%20%22DamASpace%22%2C%20%22Notes%22%3A%20null%2C%20%22Source%22%3A%20%22Fablabs.io%22%2C%20%22Type%22%3A%20%22Fab%20Lab%22%2C%20%22URL%22%3A%20%22https%3A//fablabs.io/labs/DamASpaceFablab%22%7D%2C%20%22type%22%3A%20%22Feature%22%7D%2C%20%7B%22bbox%22%3A%20%5B9.16895578261383%2C%2045.44821912386584%2C%209.16895578261383%2C%2045.44821912386584%5D%2C%20%22geometry%22%3A%20%7B%22coordinates%22%3A%20%5B9.16895578261383%2C%2045.44821912386584%5D%2C%20%22type%22%3A%20%22Point%22%7D%2C%20%22id%22%3A%20%2210%22%2C%20%22properties%22%3A%20%7B%22%22%3A%2011%2C%20%22Address%22%3A%20%22via%20argelati%2035%22%2C%20%22CAP%22%3A%2020143.0%2C%20%22City%22%3A%20%22Milan%22%2C%20%22Cluster%22%3A%20%22MI%22%2C%20%22Lat%22%3A%2045.44821912386584%2C%20%22Long%22%3A%209.16895578261383%2C%20%22Name%22%3A%20%22Miocugino%20-%20officina%20di%20gesta%20e%20ingegno%22%2C%20%22Notes%22%3A%20null%2C%20%22Source%22%3A%20%22Fablabs.io%22%2C%20%22Type%22%3A%20%22Makerspace%22%2C%20%22URL%22%3A%20%22https%3A//fablabs.io/labs/miocugino%22%7D%2C%20%22type%22%3A%20%22Feature%22%7D%2C%20%7B%22bbox%22%3A%20%5B9.22096801664852%2C%2045.45034823105788%2C%209.22096801664852%2C%2045.45034823105788%5D%2C%20%22geometry%22%3A%20%7B%22coordinates%22%3A%20%5B9.22096801664852%2C%2045.45034823105788%5D%2C%20%22type%22%3A%20%22Point%22%7D%2C%20%22id%22%3A%20%2211%22%2C%20%22properties%22%3A%20%7B%22%22%3A%2012%2C%20%22Address%22%3A%20%22Via%20Tertulliano%2C%2070%22%2C%20%22CAP%22%3A%2020137.0%2C%20%22City%22%3A%20%22Milan%22%2C%20%22Cluster%22%3A%20%22MI%22%2C%20%22Lat%22%3A%2045.45034823105788%2C%20%22Long%22%3A%209.22096801664852%2C%20%22Name%22%3A%20%22Opendot%22%2C%20%22Notes%22%3A%20null%2C%20%22Source%22%3A%20%22Fablabs.io%22%2C%20%22Type%22%3A%20%22Fab%20Lab%22%2C%20%22URL%22%3A%20%22https%3A//fablabs.io/labs/opendot%22%7D%2C%20%22type%22%3A%20%22Feature%22%7D%2C%20%7B%22bbox%22%3A%20%5B9.166295669123226%2C%2045.506449418184594%2C%209.166295669123226%2C%2045.506449418184594%5D%2C%20%22geometry%22%3A%20%7B%22coordinates%22%3A%20%5B9.166295669123226%2C%2045.506449418184594%5D%2C%20%22type%22%3A%20%22Point%22%7D%2C%20%22id%22%3A%20%2212%22%2C%20%22properties%22%3A%20%7B%22%22%3A%2013%2C%20%22Address%22%3A%20%22Via%20Privata%20Simone%20Schiaffino%2C%2022-30%22%2C%20%22CAP%22%3A%2020158.0%2C%20%22City%22%3A%20%22Milan%22%2C%20%22Cluster%22%3A%20%22MI%22%2C%20%22Lat%22%3A%2045.506449418184594%2C%20%22Long%22%3A%209.166295669123226%2C%20%22Name%22%3A%20%22Polifactory%22%2C%20%22Notes%22%3A%20null%2C%20%22Source%22%3A%20%22Fablabs.io%22%2C%20%22Type%22%3A%20%22University%20Lab%22%2C%20%22URL%22%3A%20%22https%3A//fablabs.io/labs/polifactory%22%7D%2C%20%22type%22%3A%20%22Feature%22%7D%2C%20%7B%22bbox%22%3A%20%5B9.1751237151523%2C%2045.499039020857865%2C%209.1751237151523%2C%2045.499039020857865%5D%2C%20%22geometry%22%3A%20%7B%22coordinates%22%3A%20%5B9.1751237151523%2C%2045.499039020857865%5D%2C%20%22type%22%3A%20%22Point%22%7D%2C%20%22id%22%3A%20%2213%22%2C%20%22properties%22%3A%20%7B%22%22%3A%2014%2C%20%22Address%22%3A%20%22Via%20Giuseppe%20Guerzoni%2C%2023%22%2C%20%22CAP%22%3A%2020158.0%2C%20%22City%22%3A%20%22Milan%22%2C%20%22Cluster%22%3A%20%22MI%22%2C%20%22Lat%22%3A%2045.499039020857865%2C%20%22Long%22%3A%209.1751237151523%2C%20%22Name%22%3A%20%22WeMake%20%7C%20Makerspace%20Fablab%22%2C%20%22Notes%22%3A%20null%2C%20%22Source%22%3A%20%22Fablabs.io%22%2C%20%22Type%22%3A%20%22Fab%20Lab%22%2C%20%22URL%22%3A%20%22https%3A//fablabs.io/labs/wemake%22%7D%2C%20%22type%22%3A%20%22Feature%22%7D%2C%20%7B%22bbox%22%3A%20%5B9.245129470972836%2C%2045.4842083864999%2C%209.245129470972836%2C%2045.4842083864999%5D%2C%20%22geometry%22%3A%20%7B%22coordinates%22%3A%20%5B9.245129470972836%2C%2045.4842083864999%5D%2C%20%22type%22%3A%20%22Point%22%7D%2C%20%22id%22%3A%20%2214%22%2C%20%22properties%22%3A%20%7B%22%22%3A%2015%2C%20%22Address%22%3A%20%22Via%20Privata%20Giovanni%20Ventura%2C%2020%22%2C%20%22CAP%22%3A%2020134.0%2C%20%22City%22%3A%20%22Milan%22%2C%20%22Cluster%22%3A%20%22MI%22%2C%20%22Lat%22%3A%2045.4842083864999%2C%20%22Long%22%3A%209.245129470972836%2C%20%22Name%22%3A%20%22FabLab%20Ventura%22%2C%20%22Notes%22%3A%20null%2C%20%22Source%22%3A%20%22Fablabs.io%22%2C%20%22Type%22%3A%20%22Fab%20Lab%22%2C%20%22URL%22%3A%20%22https%3A//fablabs.io/labs/fablabventura%22%7D%2C%20%22type%22%3A%20%22Feature%22%7D%2C%20%7B%22bbox%22%3A%20%5B9.152947547090642%2C%2045.50542134145349%2C%209.152947547090642%2C%2045.50542134145349%5D%2C%20%22geometry%22%3A%20%7B%22coordinates%22%3A%20%5B9.152947547090642%2C%2045.50542134145349%5D%2C%20%22type%22%3A%20%22Point%22%7D%2C%20%22id%22%3A%20%2215%22%2C%20%22properties%22%3A%20%7B%22%22%3A%2016%2C%20%22Address%22%3A%20%22Via%20Lambruschini%2036%22%2C%20%22CAP%22%3A%2020156.0%2C%20%22City%22%3A%20%22Milan%22%2C%20%22Cluster%22%3A%20%22MI%22%2C%20%22Lat%22%3A%2045.50542134145349%2C%20%22Long%22%3A%209.152947547090642%2C%20%22Name%22%3A%20%22FabLabMilano%20-%20Fare%20le%20Idee%22%2C%20%22Notes%22%3A%20null%2C%20%22Source%22%3A%20%22Fablabs.io%22%2C%20%22Type%22%3A%20%22Fab%20Lab%22%2C%20%22URL%22%3A%20%22https%3A//fablabs.io/labs/fablabmilano%22%7D%2C%20%22type%22%3A%20%22Feature%22%7D%2C%20%7B%22bbox%22%3A%20%5B9.145409811447047%2C%2045.37621908135071%2C%209.145409811447047%2C%2045.37621908135071%5D%2C%20%22geometry%22%3A%20%7B%22coordinates%22%3A%20%5B9.145409811447047%2C%2045.37621908135071%5D%2C%20%22type%22%3A%20%22Point%22%7D%2C%20%22id%22%3A%20%2216%22%2C%20%22properties%22%3A%20%7B%22%22%3A%2017%2C%20%22Address%22%3A%20%22Via%20Matteotti%2033%22%2C%20%22CAP%22%3A%2020089.0%2C%20%22City%22%3A%20%22Rozzano%22%2C%20%22Cluster%22%3A%20%22MI%22%2C%20%22Lat%22%3A%2045.37621908135071%2C%20%22Long%22%3A%209.145409811447047%2C%20%22Name%22%3A%20%22Multilab%20Rozzano%22%2C%20%22Notes%22%3A%20null%2C%20%22Source%22%3A%20%22Fablabs.io%22%2C%20%22Type%22%3A%20%22Fab%20Lab%22%2C%20%22URL%22%3A%20%22https%3A//fablabs.io/labs/multilabrozzano%22%7D%2C%20%22type%22%3A%20%22Feature%22%7D%2C%20%7B%22bbox%22%3A%20%5B1.988950553636468%2C%2041.27620125260372%2C%201.988950553636468%2C%2041.27620125260372%5D%2C%20%22geometry%22%3A%20%7B%22coordinates%22%3A%20%5B1.988950553636468%2C%2041.27620125260372%5D%2C%20%22type%22%3A%20%22Point%22%7D%2C%20%22id%22%3A%20%2217%22%2C%20%22properties%22%3A%20%7B%22%22%3A%2018%2C%20%22Address%22%3A%20%22PMT-UPC%2C%20RDIT%20Building%2C%20C/Esteve%20Terradas%2C%201%22%2C%20%22CAP%22%3A%208860.0%2C%20%22City%22%3A%20%22Castelldefels%22%2C%20%22Cluster%22%3A%20%22BCN%22%2C%20%22Lat%22%3A%2041.27620125260372%2C%20%22Long%22%3A%201.988950553636468%2C%20%22Name%22%3A%20%22Fab%20Lab%20Tinkerers%22%2C%20%22Notes%22%3A%20null%2C%20%22Source%22%3A%20%22Fablabs.io%22%2C%20%22Type%22%3A%20%22Fab%20Lab%22%2C%20%22URL%22%3A%20%22https%3A//fablabs.io/labs/Tinkerers%22%7D%2C%20%22type%22%3A%20%22Feature%22%7D%2C%20%7B%22bbox%22%3A%20%5B2.014245119250698%2C%2041.31567763555224%2C%202.014245119250698%2C%2041.31567763555224%5D%2C%20%22geometry%22%3A%20%7B%22coordinates%22%3A%20%5B2.014245119250698%2C%2041.31567763555224%5D%2C%20%22type%22%3A%20%22Point%22%7D%2C%20%22id%22%3A%20%2218%22%2C%20%22properties%22%3A%20%7B%22%22%3A%2019%2C%20%22Address%22%3A%20%22Parc%20de%20Can%20Xic%2C%201%22%2C%20%22CAP%22%3A%208840.0%2C%20%22City%22%3A%20%22Viladecans%22%2C%20%22Cluster%22%3A%20%22BCN%22%2C%20%22Lat%22%3A%2041.31567763555224%2C%20%22Long%22%3A%202.014245119250698%2C%20%22Name%22%3A%20%22W%21LAB%22%2C%20%22Notes%22%3A%20null%2C%20%22Source%22%3A%20%22Fablabs.io%22%2C%20%22Type%22%3A%20%22Fab%20Lab%22%2C%20%22URL%22%3A%20%22https%3A//fablabs.io/labs/wilab%22%7D%2C%20%22type%22%3A%20%22Feature%22%7D%2C%20%7B%22bbox%22%3A%20%5B9.230417983925612%2C%2045.47734705354876%2C%209.230417983925612%2C%2045.47734705354876%5D%2C%20%22geometry%22%3A%20%7B%22coordinates%22%3A%20%5B9.230417983925612%2C%2045.47734705354876%5D%2C%20%22type%22%3A%20%22Point%22%7D%2C%20%22id%22%3A%20%2219%22%2C%20%22properties%22%3A%20%7B%22%22%3A%2020%2C%20%22Address%22%3A%20%22Via%20Giovanni%20Celoria%207%22%2C%20%22CAP%22%3A%2020133.0%2C%20%22City%22%3A%20%22Milan%22%2C%20%22Cluster%22%3A%20%22MI%22%2C%20%22Lat%22%3A%2045.47734705354876%2C%20%22Long%22%3A%209.230417983925612%2C%20%22Name%22%3A%20%22Politecnico%20Open%20unix%20Labs%22%2C%20%22Notes%22%3A%20null%2C%20%22Source%22%3A%20%22Hackerspaces.org%22%2C%20%22Type%22%3A%20%22Hackerspace%22%2C%20%22URL%22%3A%20%22https%3A//wiki.hackerspaces.org/Politecnico_Open_unix_Labs%22%7D%2C%20%22type%22%3A%20%22Feature%22%7D%2C%20%7B%22bbox%22%3A%20%5B2.2039598266554594%2C%2041.40800712230815%2C%202.2039598266554594%2C%2041.40800712230815%5D%2C%20%22geometry%22%3A%20%7B%22coordinates%22%3A%20%5B2.2039598266554594%2C%2041.40800712230815%5D%2C%20%22type%22%3A%20%22Point%22%7D%2C%20%22id%22%3A%20%2220%22%2C%20%22properties%22%3A%20%7B%22%22%3A%2021%2C%20%22Address%22%3A%20%22Av.%20Diagonal%20114%22%2C%20%22CAP%22%3A%208019.0%2C%20%22City%22%3A%20%22Barcelona%22%2C%20%22Cluster%22%3A%20%22BCN%22%2C%20%22Lat%22%3A%2041.40800712230815%2C%20%22Long%22%3A%202.2039598266554594%2C%20%22Name%22%3A%20%22Danaus%22%2C%20%22Notes%22%3A%20null%2C%20%22Source%22%3A%20%22Hackerspaces.org%2C%20Makerspaces.make.co%22%2C%20%22Type%22%3A%20%22Hackerspace%22%2C%20%22URL%22%3A%20%22https%3A//wiki.hackerspaces.org/Danaus%22%7D%2C%20%22type%22%3A%20%22Feature%22%7D%2C%20%7B%22bbox%22%3A%20%5B2.1911459401482185%2C%2041.41105433376162%2C%202.1911459401482185%2C%2041.41105433376162%5D%2C%20%22geometry%22%3A%20%7B%22coordinates%22%3A%20%5B2.1911459401482185%2C%2041.41105433376162%5D%2C%20%22type%22%3A%20%22Point%22%7D%2C%20%22id%22%3A%20%2221%22%2C%20%22properties%22%3A%20%7B%22%22%3A%2022%2C%20%22Address%22%3A%20%22carrer%20de%20la%20verneda%2C%2017%20loc1%22%2C%20%22CAP%22%3A%208018.0%2C%20%22City%22%3A%20%22Barcelona%22%2C%20%22Cluster%22%3A%20%22BCN%22%2C%20%22Lat%22%3A%2041.41105433376162%2C%20%22Long%22%3A%202.1911459401482185%2C%20%22Name%22%3A%20%22AKASHA%20Hub%20Barcelona%22%2C%20%22Notes%22%3A%20null%2C%20%22Source%22%3A%20%22Hackerspaces.org%22%2C%20%22Type%22%3A%20%22Hackerspace%22%2C%20%22URL%22%3A%20%22https%3A//wiki.hackerspaces.org/AKASHA_Hub_Barcelona%22%7D%2C%20%22type%22%3A%20%22Feature%22%7D%2C%20%7B%22bbox%22%3A%20%5B2.154250240147326%2C%2041.38304792762858%2C%202.154250240147326%2C%2041.38304792762858%5D%2C%20%22geometry%22%3A%20%7B%22coordinates%22%3A%20%5B2.154250240147326%2C%2041.38304792762858%5D%2C%20%22type%22%3A%20%22Point%22%7D%2C%20%22id%22%3A%20%2222%22%2C%20%22properties%22%3A%20%7B%22%22%3A%2025%2C%20%22Address%22%3A%20%22Carrer%20Consell%20de%20Cent%20159%22%2C%20%22CAP%22%3A%208015.0%2C%20%22City%22%3A%20%22Barcelona%22%2C%20%22Cluster%22%3A%20%22BCN%22%2C%20%22Lat%22%3A%2041.38304792762858%2C%20%22Long%22%3A%202.154250240147326%2C%20%22Name%22%3A%20%22DIY%20Bio%20Barcelona%22%2C%20%22Notes%22%3A%20null%2C%20%22Source%22%3A%20%22diybio.org%22%2C%20%22Type%22%3A%20%22DIYBio%20Lab%22%2C%20%22URL%22%3A%20%22https%3A//sphere.diybio.org/labs/diybiobcn/%22%7D%2C%20%22type%22%3A%20%22Feature%22%7D%2C%20%7B%22bbox%22%3A%20%5B2.181013540147452%2C%2041.38773741427568%2C%202.181013540147452%2C%2041.38773741427568%5D%2C%20%22geometry%22%3A%20%7B%22coordinates%22%3A%20%5B2.181013540147452%2C%2041.38773741427568%5D%2C%20%22type%22%3A%20%22Point%22%7D%2C%20%22id%22%3A%20%2223%22%2C%20%22properties%22%3A%20%7B%22%22%3A%2026%2C%20%22Address%22%3A%20%22Pla%5Cu00e7a%20de%20l%5Cu2019Acad%5Cu00e8mia%20s/n%22%2C%20%22CAP%22%3A%208003.0%2C%20%22City%22%3A%20%22Barcelona%22%2C%20%22Cluster%22%3A%20%22BCN%22%2C%20%22Lat%22%3A%2041.38773741427568%2C%20%22Long%22%3A%202.181013540147452%2C%20%22Name%22%3A%20%22Maker%20Convent%22%2C%20%22Notes%22%3A%20null%2C%20%22Source%22%3A%20%22Makerspaces.make.co%22%2C%20%22Type%22%3A%20%22Makerspace%22%2C%20%22URL%22%3A%20%22https%3A//conventagusti.com/maker/%22%7D%2C%20%22type%22%3A%20%22Feature%22%7D%2C%20%7B%22bbox%22%3A%20%5B2.135464167132671%2C%2041.38366087714364%2C%202.135464167132671%2C%2041.38366087714364%5D%2C%20%22geometry%22%3A%20%7B%22coordinates%22%3A%20%5B2.135464167132671%2C%2041.38366087714364%5D%2C%20%22type%22%3A%20%22Point%22%7D%2C%20%22id%22%3A%20%2224%22%2C%20%22properties%22%3A%20%7B%22%22%3A%2028%2C%20%22Address%22%3A%20%22c/%20Evarist%20Arn%5Cu00fas%2059%20i%20c/%20Comtes%20de%20Bell-Lloc%20192%22%2C%20%22CAP%22%3A%208014.0%2C%20%22City%22%3A%20%22Barcelona%22%2C%20%22Cluster%22%3A%20%22BCN%22%2C%20%22Lat%22%3A%2041.38366087714364%2C%20%22Long%22%3A%202.135464167132671%2C%20%22Name%22%3A%20%22Ateneu%20de%20Fabricaci%5Cu00f3%20Les%20Corts%22%2C%20%22Notes%22%3A%20null%2C%20%22Source%22%3A%20%22Ajuntament.barcelona.cat%22%2C%20%22Type%22%3A%20%22Ateneu%20de%20Fabricaci%5Cu00f3%22%2C%20%22URL%22%3A%20%22https%3A//ajuntament.barcelona.cat/ateneusdefabricacio/en/fab-labs-directory/%22%7D%2C%20%22type%22%3A%20%22Feature%22%7D%2C%20%7B%22bbox%22%3A%20%5B2.191718180625283%2C%2041.382352379582926%2C%202.191718180625283%2C%2041.382352379582926%5D%2C%20%22geometry%22%3A%20%7B%22coordinates%22%3A%20%5B2.191718180625283%2C%2041.382352379582926%5D%2C%20%22type%22%3A%20%22Point%22%7D%2C%20%22id%22%3A%20%2225%22%2C%20%22properties%22%3A%20%7B%22%22%3A%2029%2C%20%22Address%22%3A%20%22Passeig%20de%20Salvat%20Papasseit%2C%201%22%2C%20%22CAP%22%3A%208003.0%2C%20%22City%22%3A%20%22Barcelona%22%2C%20%22Cluster%22%3A%20%22BCN%22%2C%20%22Lat%22%3A%2041.382352379582926%2C%20%22Long%22%3A%202.191718180625283%2C%20%22Name%22%3A%20%22Ateneu%20de%20Fabricaci%5Cu00f3%20La%20F%5Cu00e0brica%20del%20Sol%22%2C%20%22Notes%22%3A%20null%2C%20%22Source%22%3A%20%22Ajuntament.barcelona.cat%22%2C%20%22Type%22%3A%20%22Ateneu%20de%20Fabricaci%5Cu00f3%22%2C%20%22URL%22%3A%20%22https%3A//ajuntament.barcelona.cat/ateneusdefabricacio/en/fab-labs-directory/%22%7D%2C%20%22type%22%3A%20%22Feature%22%7D%2C%20%7B%22bbox%22%3A%20%5B2.1698723266571536%2C%2041.460459824619406%2C%202.1698723266571536%2C%2041.460459824619406%5D%2C%20%22geometry%22%3A%20%7B%22coordinates%22%3A%20%5B2.1698723266571536%2C%2041.460459824619406%5D%2C%20%22type%22%3A%20%22Point%22%7D%2C%20%22id%22%3A%20%2226%22%2C%20%22properties%22%3A%20%7B%22%22%3A%2030%2C%20%22Address%22%3A%20%22Av.%20de%20Rasos%20de%20Peguera%2C%20232%22%2C%20%22CAP%22%3A%208033.0%2C%20%22City%22%3A%20%22Barcelona%22%2C%20%22Cluster%22%3A%20%22BCN%22%2C%20%22Lat%22%3A%2041.460459824619406%2C%20%22Long%22%3A%202.1698723266571536%2C%20%22Name%22%3A%20%22Ateneu%20de%20Fabricaci%5Cu00f3%20Ciutat%20Meridiana%22%2C%20%22Notes%22%3A%20null%2C%20%22Source%22%3A%20%22Ajuntament.barcelona.cat%22%2C%20%22Type%22%3A%20%22Ateneu%20de%20Fabricaci%5Cu00f3%22%2C%20%22URL%22%3A%20%22https%3A//ajuntament.barcelona.cat/ateneusdefabricacio/en/fab-labs-directory/%22%7D%2C%20%22type%22%3A%20%22Feature%22%7D%2C%20%7B%22bbox%22%3A%20%5B2.1689552843279274%2C%2041.436964660556576%2C%202.1689552843279274%2C%2041.436964660556576%5D%2C%20%22geometry%22%3A%20%7B%22coordinates%22%3A%20%5B2.1689552843279274%2C%2041.436964660556576%5D%2C%20%22type%22%3A%20%22Point%22%7D%2C%20%22id%22%3A%20%2227%22%2C%20%22properties%22%3A%20%7B%22%22%3A%2031%2C%20%22Address%22%3A%20%22Carrer%20de%20Marie%20Curie%2C%208-14%22%2C%20%22CAP%22%3A%208042.0%2C%20%22City%22%3A%20%22Barcelona%22%2C%20%22Cluster%22%3A%20%22BCN%22%2C%20%22Lat%22%3A%2041.436964660556576%2C%20%22Long%22%3A%202.1689552843279274%2C%20%22Name%22%3A%20%22Ateneu%20de%20Fabricaci%5Cu00f3%20Parc%20Tecnol%5Cu00f3gic%22%2C%20%22Notes%22%3A%20null%2C%20%22Source%22%3A%20%22Ajuntament.barcelona.cat%22%2C%20%22Type%22%3A%20%22Ateneu%20de%20Fabricaci%5Cu00f3%22%2C%20%22URL%22%3A%20%22https%3A//ajuntament.barcelona.cat/ateneusdefabricacio/en/fab-labs-directory/%22%7D%2C%20%22type%22%3A%20%22Feature%22%7D%2C%20%7B%22bbox%22%3A%20%5B2.1611670113120494%2C%2041.39936443324356%2C%202.1611670113120494%2C%2041.39936443324356%5D%2C%20%22geometry%22%3A%20%7B%22coordinates%22%3A%20%5B2.1611670113120494%2C%2041.39936443324356%5D%2C%20%22type%22%3A%20%22Point%22%7D%2C%20%22id%22%3A%20%2228%22%2C%20%22properties%22%3A%20%7B%22%22%3A%2032%2C%20%22Address%22%3A%20%22Carrer%20Perill%208%22%2C%20%22CAP%22%3A%208012.0%2C%20%22City%22%3A%20%22Barcelona%22%2C%20%22Cluster%22%3A%20%22BCN%22%2C%20%22Lat%22%3A%2041.39936443324356%2C%20%22Long%22%3A%202.1611670113120494%2C%20%22Name%22%3A%20%22Ateneu%20de%20Fabricaci%5Cu00f3%20Gr%5Cu00e0cia%22%2C%20%22Notes%22%3A%20null%2C%20%22Source%22%3A%20%22Ajuntament.barcelona.cat%22%2C%20%22Type%22%3A%20%22Ateneu%20de%20Fabricaci%5Cu00f3%22%2C%20%22URL%22%3A%20%22https%3A//ajuntament.barcelona.cat/ateneusdefabricacio/en/fab-labs-directory/%22%7D%2C%20%22type%22%3A%20%22Feature%22%7D%2C%20%7B%22bbox%22%3A%20%5B2.203873110704254%2C%2041.41078570052905%2C%202.203873110704254%2C%2041.41078570052905%5D%2C%20%22geometry%22%3A%20%7B%22coordinates%22%3A%20%5B2.203873110704254%2C%2041.41078570052905%5D%2C%20%22type%22%3A%20%22Point%22%7D%2C%20%22id%22%3A%20%2229%22%2C%20%22properties%22%3A%20%7B%22%22%3A%2034%2C%20%22Address%22%3A%20%22Carrer%20de%20Pere%20IV%2C%20362%22%2C%20%22CAP%22%3A%208019.0%2C%20%22City%22%3A%20%22Barcelona%22%2C%20%22Cluster%22%3A%20%22BCN%22%2C%20%22Lat%22%3A%2041.41078570052905%2C%20%22Long%22%3A%202.203873110704254%2C%20%22Name%22%3A%20%22Ateneu%20Ca%20L%5Cu0027Alier%22%2C%20%22Notes%22%3A%20null%2C%20%22Source%22%3A%20%22Manually%20added%22%2C%20%22Type%22%3A%20%22Ateneu%20de%20Fabricaci%5Cu00f3%22%2C%20%22URL%22%3A%20null%7D%2C%20%22type%22%3A%20%22Feature%22%7D%2C%20%7B%22bbox%22%3A%20%5B2.140514455999282%2C%2041.37698885014896%2C%202.140514455999282%2C%2041.37698885014896%5D%2C%20%22geometry%22%3A%20%7B%22coordinates%22%3A%20%5B2.140514455999282%2C%2041.37698885014896%5D%2C%20%22type%22%3A%20%22Point%22%7D%2C%20%22id%22%3A%20%2230%22%2C%20%22properties%22%3A%20%7B%22%22%3A%2035%2C%20%22Address%22%3A%20%22Carrer%20de%20Muntadas%2C%205%22%2C%20%22CAP%22%3A%208014.0%2C%20%22City%22%3A%20%22Barcelona%22%2C%20%22Cluster%22%3A%20%22BCN%22%2C%20%22Lat%22%3A%2041.37698885014896%2C%20%22Long%22%3A%202.140514455999282%2C%20%22Name%22%3A%20%22Fab%20Casa%20del%20Mig%22%2C%20%22Notes%22%3A%20null%2C%20%22Source%22%3A%20%22Manually%20added%22%2C%20%22Type%22%3A%20%22City%20Space%22%2C%20%22URL%22%3A%20%22https%3A//www.puntmultimedia.org/%22%7D%2C%20%22type%22%3A%20%22Feature%22%7D%2C%20%7B%22bbox%22%3A%20%5B2.141575611310696%2C%2041.35827229815483%2C%202.141575611310696%2C%2041.35827229815483%5D%2C%20%22geometry%22%3A%20%7B%22coordinates%22%3A%20%5B2.141575611310696%2C%2041.35827229815483%5D%2C%20%22type%22%3A%20%22Point%22%7D%2C%20%22id%22%3A%20%2231%22%2C%20%22properties%22%3A%20%7B%22%22%3A%2036%2C%20%22Address%22%3A%20%22Casa%20del%20Rellotge%22%2C%20%22CAP%22%3A%208037.0%2C%20%22City%22%3A%20%22Barcelona%22%2C%20%22Cluster%22%3A%20%22BCN%22%2C%20%22Lat%22%3A%2041.35827229815483%2C%20%22Long%22%3A%202.141575611310696%2C%20%22Name%22%3A%20%22Punt%20Multim%5Cu00e8dia%20La%20Marina%22%2C%20%22Notes%22%3A%20null%2C%20%22Source%22%3A%20%22Manually%20added%22%2C%20%22Type%22%3A%20%22City%20Space%22%2C%20%22URL%22%3A%20%22https%3A//puntmultimedialamarina.cat/%22%7D%2C%20%22type%22%3A%20%22Feature%22%7D%2C%20%7B%22bbox%22%3A%20%5B2.1912362419994%2C%2041.43476043833471%2C%202.1912362419994%2C%2041.43476043833471%5D%2C%20%22geometry%22%3A%20%7B%22coordinates%22%3A%20%5B2.1912362419994%2C%2041.43476043833471%5D%2C%20%22type%22%3A%20%22Point%22%7D%2C%20%22id%22%3A%20%2232%22%2C%20%22properties%22%3A%20%7B%22%22%3A%2037%2C%20%22Address%22%3A%20%22Carrer%20del%20Segre%2C%2024%22%2C%20%22CAP%22%3A%208030.0%2C%20%22City%22%3A%20%22Barcelona%22%2C%20%22Cluster%22%3A%20%22BCN%22%2C%20%22Lat%22%3A%2041.43476043833471%2C%20%22Long%22%3A%202.1912362419994%2C%20%22Name%22%3A%20%22Club%20Maker%20de%20l%5Cu0027American%20Space%20-%20Biblioteca%20Fabra%20i%20Coats%22%2C%20%22Notes%22%3A%20null%2C%20%22Source%22%3A%20%22Manually%20added%22%2C%20%22Type%22%3A%20%22Library%22%2C%20%22URL%22%3A%20%22https%3A//ajuntament.barcelona.cat/biblioteques/bibcanfabra/ca/detail/american-space-club-maker-2021-2022-a-carrec-de-ferran-fabregas_99400655092%22%7D%2C%20%22type%22%3A%20%22Feature%22%7D%2C%20%7B%22bbox%22%3A%20%5B2.157535855490096%2C%2041.37298180510111%2C%202.157535855490096%2C%2041.37298180510111%5D%2C%20%22geometry%22%3A%20%7B%22coordinates%22%3A%20%5B2.157535855490096%2C%2041.37298180510111%5D%2C%20%22type%22%3A%20%22Point%22%7D%2C%20%22id%22%3A%20%2233%22%2C%20%22properties%22%3A%20%7B%22%22%3A%2038%2C%20%22Address%22%3A%20%22Carrer%20de%20Ricart%2036%22%2C%20%22CAP%22%3A%208004.0%2C%20%22City%22%3A%20%22Barcelona%22%2C%20%22Cluster%22%3A%20%22BCN%22%2C%20%22Lat%22%3A%2041.37298180510111%2C%20%22Long%22%3A%202.157535855490096%2C%20%22Name%22%3A%20%22Makers%20Zone%20BCN%22%2C%20%22Notes%22%3A%20null%2C%20%22Source%22%3A%20%22Manually%20added%22%2C%20%22Type%22%3A%20%22Makerspace%22%2C%20%22URL%22%3A%20%22https%3A//mzbcn.es/%22%7D%2C%20%22type%22%3A%20%22Feature%22%7D%2C%20%7B%22bbox%22%3A%20%5B2.17718274014759%2C%2041.39201229743223%2C%202.17718274014759%2C%2041.39201229743223%5D%2C%20%22geometry%22%3A%20%7B%22coordinates%22%3A%20%5B2.17718274014759%2C%2041.39201229743223%5D%2C%20%22type%22%3A%20%22Point%22%7D%2C%20%22id%22%3A%20%2234%22%2C%20%22properties%22%3A%20%7B%22%22%3A%2039%2C%20%22Address%22%3A%20%22Carrer%20de%20Bail%5Cu00e8n%2C%2011%22%2C%20%22CAP%22%3A%208010.0%2C%20%22City%22%3A%20%22Barcelona%22%2C%20%22Cluster%22%3A%20%22BCN%22%2C%20%22Lat%22%3A%2041.39201229743223%2C%20%22Long%22%3A%202.17718274014759%2C%20%22Name%22%3A%20%22FabCaf%5Cu00e9%20Barcelona%22%2C%20%22Notes%22%3A%20null%2C%20%22Source%22%3A%20%22Manually%20added%22%2C%20%22Type%22%3A%20%22FabCaf%5Cu00e9%22%2C%20%22URL%22%3A%20%22https%3A//fabcafe.com/es/barcelona/%22%7D%2C%20%22type%22%3A%20%22Feature%22%7D%2C%20%7B%22bbox%22%3A%20%5B2.199644726656069%2C%2041.42674586957263%2C%202.199644726656069%2C%2041.42674586957263%5D%2C%20%22geometry%22%3A%20%7B%22coordinates%22%3A%20%5B2.199644726656069%2C%2041.42674586957263%5D%2C%20%22type%22%3A%20%22Point%22%7D%2C%20%22id%22%3A%20%2235%22%2C%20%22properties%22%3A%20%7B%22%22%3A%2040%2C%20%22Address%22%3A%20%22Rambla%20de%20Prim%2C%20258%22%2C%20%22CAP%22%3A%208020.0%2C%20%22City%22%3A%20%22Barcelona%22%2C%20%22Cluster%22%3A%20%22BCN%22%2C%20%22Lat%22%3A%2041.42674586957263%2C%20%22Long%22%3A%202.199644726656069%2C%20%22Name%22%3A%20%22TMDC%22%2C%20%22Notes%22%3A%20null%2C%20%22Source%22%3A%20%22Manually%20added%22%2C%20%22Type%22%3A%20%22Makerspace%22%2C%20%22URL%22%3A%20%22https%3A//www.tmdc.es/%22%7D%2C%20%22type%22%3A%20%22Feature%22%7D%2C%20%7B%22bbox%22%3A%20%5B2.1114291554942506%2C%2041.50068700446783%2C%202.1114291554942506%2C%2041.50068700446783%5D%2C%20%22geometry%22%3A%20%7B%22coordinates%22%3A%20%5B2.1114291554942506%2C%2041.50068700446783%5D%2C%20%22type%22%3A%20%22Point%22%7D%2C%20%22id%22%3A%20%2236%22%2C%20%22properties%22%3A%20%7B%22%22%3A%2041%2C%20%22Address%22%3A%20%22C/%20Sitges%20S/N.%20Escola%20Enginyeria%2C%20Universitat%20Autonoma%20de%20Barcelona.%20%22%2C%20%22CAP%22%3A%208193.0%2C%20%22City%22%3A%20%22Cerdanyola%20del%20Vall%5Cu00e8s%22%2C%20%22Cluster%22%3A%20%22BCN%22%2C%20%22Lat%22%3A%2041.50068700446783%2C%20%22Long%22%3A%202.1114291554942506%2C%20%22Name%22%3A%20%22Disseny%20Lab%20UAB%22%2C%20%22Notes%22%3A%20null%2C%20%22Source%22%3A%20%22Manually%20added%22%2C%20%22Type%22%3A%20%22Makerspace%22%2C%20%22URL%22%3A%20%22https%3A//www.uab.cat/web/espacios/disseny-lab/equipamiento-del-design-lab-1345823382113.html%22%7D%2C%20%22type%22%3A%20%22Feature%22%7D%2C%20%7B%22bbox%22%3A%20%5B2.189540141998292%2C%2041.40031808724662%2C%202.189540141998292%2C%2041.40031808724662%5D%2C%20%22geometry%22%3A%20%7B%22coordinates%22%3A%20%5B2.189540141998292%2C%2041.40031808724662%5D%2C%20%22type%22%3A%20%22Point%22%7D%2C%20%22id%22%3A%20%2237%22%2C%20%22properties%22%3A%20%7B%22%22%3A%2043%2C%20%22Address%22%3A%20%22Carrer%20de%20T%5Cu00e0nger%2C%2033%22%2C%20%22CAP%22%3A%208018.0%2C%20%22City%22%3A%20%22Barcelona%22%2C%20%22Cluster%22%3A%20%22BCN%22%2C%20%22Lat%22%3A%2041.40031808724662%2C%20%22Long%22%3A%202.189540141998292%2C%20%22Name%22%3A%20%22ATTA33%22%2C%20%22Notes%22%3A%20null%2C%20%22Source%22%3A%20%22Manually%20added%22%2C%20%22Type%22%3A%20%22Service%22%2C%20%22URL%22%3A%20%22https%3A//atta33.com/%22%7D%2C%20%22type%22%3A%20%22Feature%22%7D%2C%20%7B%22bbox%22%3A%20%5B9.137325384465216%2C%2045.47542892969495%2C%209.137325384465216%2C%2045.47542892969495%5D%2C%20%22geometry%22%3A%20%7B%22coordinates%22%3A%20%5B9.137325384465216%2C%2045.47542892969495%5D%2C%20%22type%22%3A%20%22Point%22%7D%2C%20%22id%22%3A%20%2238%22%2C%20%22properties%22%3A%20%7B%22%22%3A%2044%2C%20%22Address%22%3A%20%22Piazza%20Segesta%203%22%2C%20%22CAP%22%3A%2020148.0%2C%20%22City%22%3A%20%22Milan%22%2C%20%22Cluster%22%3A%20%22MI%22%2C%20%22Lat%22%3A%2045.47542892969495%2C%20%22Long%22%3A%209.137325384465216%2C%20%22Name%22%3A%20%22Kinlab%22%2C%20%22Notes%22%3A%20null%2C%20%22Source%22%3A%20%22Manually%20added%22%2C%20%22Type%22%3A%20%22DIYBio%20Lab%22%2C%20%22URL%22%3A%20%22http%3A//kinlab.it/%22%7D%2C%20%22type%22%3A%20%22Feature%22%7D%2C%20%7B%22bbox%22%3A%20%5B9.173071843986556%2C%2045.45759422962854%2C%209.173071843986556%2C%2045.45759422962854%5D%2C%20%22geometry%22%3A%20%7B%22coordinates%22%3A%20%5B9.173071843986556%2C%2045.45759422962854%5D%2C%20%22type%22%3A%20%22Point%22%7D%2C%20%22id%22%3A%20%2239%22%2C%20%22properties%22%3A%20%7B%22%22%3A%2045%2C%20%22Address%22%3A%20%22Via%20Fabio%20Mangone%2C%201/A%2C%22%2C%20%22CAP%22%3A%2020123.0%2C%20%22City%22%3A%20%22Milan%22%2C%20%22Cluster%22%3A%20%22MI%22%2C%20%22Lat%22%3A%2045.45759422962854%2C%20%22Long%22%3A%209.173071843986556%2C%20%22Name%22%3A%20%22SuperForma%22%2C%20%22Notes%22%3A%20null%2C%20%22Source%22%3A%20%22Manually%20added%22%2C%20%22Type%22%3A%20%22Service%22%2C%20%22URL%22%3A%20%22http%3A//www.superforma.xyz/%22%7D%2C%20%22type%22%3A%20%22Feature%22%7D%2C%20%7B%22bbox%22%3A%20%5B9.163090625635787%2C%2045.50743694550688%2C%209.163090625635787%2C%2045.50743694550688%5D%2C%20%22geometry%22%3A%20%7B%22coordinates%22%3A%20%5B9.163090625635787%2C%2045.50743694550688%5D%2C%20%22type%22%3A%20%22Point%22%7D%2C%20%22id%22%3A%20%2240%22%2C%20%22properties%22%3A%20%7B%22%22%3A%2046%2C%20%22Address%22%3A%20%22Via%20Enrico%20Cosenz%2C%2044/4%22%2C%20%22CAP%22%3A%2020158.0%2C%20%22City%22%3A%20%22Milan%22%2C%20%22Cluster%22%3A%20%22MI%22%2C%20%22Lat%22%3A%2045.50743694550688%2C%20%22Long%22%3A%209.163090625635787%2C%20%22Name%22%3A%20%22Makers%20Hub%22%2C%20%22Notes%22%3A%20null%2C%20%22Source%22%3A%20%22Manually%20added%22%2C%20%22Type%22%3A%20%22Makerspace%22%2C%20%22URL%22%3A%20%22https%3A//www.makershub.it/%22%7D%2C%20%22type%22%3A%20%22Feature%22%7D%2C%20%7B%22bbox%22%3A%20%5B9.184259894565583%2C%2045.4832816922208%2C%209.184259894565583%2C%2045.4832816922208%5D%2C%20%22geometry%22%3A%20%7B%22coordinates%22%3A%20%5B9.184259894565583%2C%2045.4832816922208%5D%2C%20%22type%22%3A%20%22Point%22%7D%2C%20%22id%22%3A%20%2241%22%2C%20%22properties%22%3A%20%7B%22%22%3A%2047%2C%20%22Address%22%3A%20%22Via%20Massimo%20D%5Cu0027Azeglio%2C%203%22%2C%20%22CAP%22%3A%2020154.0%2C%20%22City%22%3A%20%22Milan%22%2C%20%22Cluster%22%3A%20%22MI%22%2C%20%22Lat%22%3A%2045.4832816922208%2C%20%22Long%22%3A%209.184259894565583%2C%20%22Name%22%3A%20%22Milano%20Luiss%20Hub%22%2C%20%22Notes%22%3A%20null%2C%20%22Source%22%3A%20%22Manually%20added%22%2C%20%22Type%22%3A%20%22Makerspace%22%2C%20%22URL%22%3A%20%22http%3A//www.milanoluisshub.it/%22%7D%2C%20%22type%22%3A%20%22Feature%22%7D%2C%20%7B%22bbox%22%3A%20%5B9.182956814039898%2C%2045.48277607438585%2C%209.182956814039898%2C%2045.48277607438585%5D%2C%20%22geometry%22%3A%20%7B%22coordinates%22%3A%20%5B9.182956814039898%2C%2045.48277607438585%5D%2C%20%22type%22%3A%20%22Point%22%7D%2C%20%22id%22%3A%20%2242%22%2C%20%22properties%22%3A%20%7B%22%22%3A%2048%2C%20%22Address%22%3A%20%22Viale%20Pasubio%2C%2014%22%2C%20%22CAP%22%3A%2020154.0%2C%20%22City%22%3A%20%22Milan%22%2C%20%22Cluster%22%3A%20%22MI%22%2C%20%22Lat%22%3A%2045.48277607438585%2C%20%22Long%22%3A%209.182956814039898%2C%20%22Name%22%3A%20%22YATTA%22%2C%20%22Notes%22%3A%20null%2C%20%22Source%22%3A%20%22Manually%20added%22%2C%20%22Type%22%3A%20%22Makerspace%22%2C%20%22URL%22%3A%20%22https%3A//www.yatta.xyz/%22%7D%2C%20%22type%22%3A%20%22Feature%22%7D%2C%20%7B%22bbox%22%3A%20%5B2.164598368982968%2C%2041.37881289202178%2C%202.164598368982968%2C%2041.37881289202178%5D%2C%20%22geometry%22%3A%20%7B%22coordinates%22%3A%20%5B2.164598368982968%2C%2041.37881289202178%5D%2C%20%22type%22%3A%20%22Point%22%7D%2C%20%22id%22%3A%20%2243%22%2C%20%22properties%22%3A%20%7B%22%22%3A%2049%2C%20%22Address%22%3A%20%22Carrer%20dels%20Salvador%2C%208%22%2C%20%22CAP%22%3A%208001.0%2C%20%22City%22%3A%20%22Barcelona%22%2C%20%22Cluster%22%3A%20%22BCN%22%2C%20%22Lat%22%3A%2041.37881289202178%2C%20%22Long%22%3A%202.164598368982968%2C%20%22Name%22%3A%20%22RavalFab%22%2C%20%22Notes%22%3A%20null%2C%20%22Source%22%3A%20%22Manually%20added%22%2C%20%22Type%22%3A%20%22Fab%20Lab%22%2C%20%22URL%22%3A%20%22https%3A//colectic.coop/projecte/ravalfab%22%7D%2C%20%22type%22%3A%20%22Feature%22%7D%2C%20%7B%22bbox%22%3A%20%5B2.238114638501468%2C%2041.44280114524807%2C%202.238114638501468%2C%2041.44280114524807%5D%2C%20%22geometry%22%3A%20%7B%22coordinates%22%3A%20%5B2.238114638501468%2C%2041.44280114524807%5D%2C%20%22type%22%3A%20%22Point%22%7D%2C%20%22id%22%3A%20%2244%22%2C%20%22properties%22%3A%20%7B%22%22%3A%2050%2C%20%22Address%22%3A%20%22Carrer%20del%20General%20Weyler%2C%20128%22%2C%20%22CAP%22%3A%208912.0%2C%20%22City%22%3A%20%22Badalona%22%2C%20%22Cluster%22%3A%20%22BCN%22%2C%20%22Lat%22%3A%2041.44280114524807%2C%20%22Long%22%3A%202.238114638501468%2C%20%22Name%22%3A%20%22BDN%20Lab%22%2C%20%22Notes%22%3A%20null%2C%20%22Source%22%3A%20%22Manually%20added%22%2C%20%22Type%22%3A%20%22Fab%20Lab%22%2C%20%22URL%22%3A%20%22https%3A//bdnlab.org/%22%7D%2C%20%22type%22%3A%20%22Feature%22%7D%2C%20%7B%22bbox%22%3A%20%5B2.1546215176439025%2C%2041.40511327003595%2C%202.1546215176439025%2C%2041.40511327003595%5D%2C%20%22geometry%22%3A%20%7B%22coordinates%22%3A%20%5B2.1546215176439025%2C%2041.40511327003595%5D%2C%20%22type%22%3A%20%22Point%22%7D%2C%20%22id%22%3A%20%2245%22%2C%20%22properties%22%3A%20%7B%22%22%3A%2051%2C%20%22Address%22%3A%20%22Carrer%20de%20Biada%2C%206%22%2C%20%22CAP%22%3A%208012.0%2C%20%22City%22%3A%20%22Barcelona%22%2C%20%22Cluster%22%3A%20%22BCN%22%2C%20%22Lat%22%3A%2041.40511327003595%2C%20%22Long%22%3A%202.1546215176439025%2C%20%22Name%22%3A%20%22IED%20Maker%20Lab%22%2C%20%22Notes%22%3A%20null%2C%20%22Source%22%3A%20%22Manually%20added%22%2C%20%22Type%22%3A%20%22University%20Lab%22%2C%20%22URL%22%3A%20%22https%3A//www.ied.edu/envira/barcelona-maker-lab%22%7D%2C%20%22type%22%3A%20%22Feature%22%7D%2C%20%7B%22bbox%22%3A%20%5B2.175498282477786%2C%2041.444393125834125%2C%202.175498282477786%2C%2041.444393125834125%5D%2C%20%22geometry%22%3A%20%7B%22coordinates%22%3A%20%5B2.175498282477786%2C%2041.444393125834125%5D%2C%20%22type%22%3A%20%22Point%22%7D%2C%20%22id%22%3A%20%2246%22%2C%20%22properties%22%3A%20%7B%22%22%3A%2052%2C%20%22Address%22%3A%20%22Carrer%20Luz%20Casanova%2C%208%22%2C%20%22CAP%22%3A%208042.0%2C%20%22City%22%3A%20%22Barcelona%22%2C%20%22Cluster%22%3A%20%22BCN%22%2C%20%22Lat%22%3A%2041.444393125834125%2C%20%22Long%22%3A%202.175498282477786%2C%20%22Name%22%3A%20%22Punt%20%5Cu00d2mnia%20Casal%20C%5Cu00edvic%20Barcelona%20-%20Verdum%20-%20Fundaci%5Cu00f3%20Pare%20Manel%22%2C%20%22Notes%22%3A%20null%2C%20%22Source%22%3A%20%22Manually%20added%22%2C%20%22Type%22%3A%20%22City%20Space%22%2C%20%22URL%22%3A%20%22https%3A//xarxaomnia.gencat.cat/punt-omnia/punt-mnia-casal-c-vic-barcelona-verdum-fundaci-pare-manel%22%7D%2C%20%22type%22%3A%20%22Feature%22%7D%2C%20%7B%22bbox%22%3A%20%5B2.1380187460266384%2C%2041.33648723444821%2C%202.1380187460266384%2C%2041.33648723444821%5D%2C%20%22geometry%22%3A%20%7B%22coordinates%22%3A%20%5B2.1380187460266384%2C%2041.33648723444821%5D%2C%20%22type%22%3A%20%22Point%22%7D%2C%20%22id%22%3A%20%2247%22%2C%20%22properties%22%3A%20%7B%22%22%3A%2053%2C%20%22Address%22%3A%20%22Carrer%2027%2C%2010-16%20Sector%20BZ%20Zona%20Franca%22%2C%20%22CAP%22%3A%208040.0%2C%20%22City%22%3A%20%22Barcelona%22%2C%20%22Cluster%22%3A%20%22BCN%22%2C%20%22Lat%22%3A%2041.33648723444821%2C%20%22Long%22%3A%202.1380187460266384%2C%20%22Name%22%3A%20%22DFactory%20Barcelona%22%2C%20%22Notes%22%3A%20null%2C%20%22Source%22%3A%20%22Manually%20added%22%2C%20%22Type%22%3A%20%22Incubator/Accelerator%22%2C%20%22URL%22%3A%20%22https%3A//www.dfactorybcn.org/%22%7D%2C%20%22type%22%3A%20%22Feature%22%7D%2C%20%7B%22bbox%22%3A%20%5B9.173905038143518%2C%2045.48916944106436%2C%209.173905038143518%2C%2045.48916944106436%5D%2C%20%22geometry%22%3A%20%7B%22coordinates%22%3A%20%5B9.173905038143518%2C%2045.48916944106436%5D%2C%20%22type%22%3A%20%22Point%22%7D%2C%20%22id%22%3A%20%2248%22%2C%20%22properties%22%3A%20%7B%22%22%3A%2054%2C%20%22Address%22%3A%20%22Via%20Galileo%20Ferraris%201%22%2C%20%22CAP%22%3A%2020154.0%2C%20%22City%22%3A%20%22Milan%22%2C%20%22Cluster%22%3A%20%22MI%22%2C%20%22Lat%22%3A%2045.48916944106436%2C%20%22Long%22%3A%209.173905038143518%2C%20%22Name%22%3A%20%22Locanda%20Officina%20Monumentale%22%2C%20%22Notes%22%3A%20null%2C%20%22Source%22%3A%20%22Manually%20added%22%2C%20%22Type%22%3A%20%22Incubator/Accelerator%22%2C%20%22URL%22%3A%20%22https%3A//www.lommilano.it/%22%7D%2C%20%22type%22%3A%20%22Feature%22%7D%2C%20%7B%22bbox%22%3A%20%5B9.166396115376823%2C%2045.51120517808544%2C%209.166396115376823%2C%2045.51120517808544%5D%2C%20%22geometry%22%3A%20%7B%22coordinates%22%3A%20%5B9.166396115376823%2C%2045.51120517808544%5D%2C%20%22type%22%3A%20%22Point%22%7D%2C%20%22id%22%3A%20%2249%22%2C%20%22properties%22%3A%20%7B%22%22%3A%2055%2C%20%22Address%22%3A%20%22Via%20Enrico%20Cosenz%2C%2044/4%22%2C%20%22CAP%22%3A%2020158.0%2C%20%22City%22%3A%20%22Milan%22%2C%20%22Cluster%22%3A%20%22MI%22%2C%20%22Lat%22%3A%2045.51120517808544%2C%20%22Long%22%3A%209.166396115376823%2C%20%22Name%22%3A%20%22Ideas%20Bit%20Factory%22%2C%20%22Notes%22%3A%20null%2C%20%22Source%22%3A%20%22Manually%20added%22%2C%20%22Type%22%3A%20%22Service%22%2C%20%22URL%22%3A%20%22https%3A//www.ideas-bit-factory.it/%22%7D%2C%20%22type%22%3A%20%22Feature%22%7D%2C%20%7B%22bbox%22%3A%20%5B9.177184693543932%2C%2045.56040465900402%2C%209.177184693543932%2C%2045.56040465900402%5D%2C%20%22geometry%22%3A%20%7B%22coordinates%22%3A%20%5B9.177184693543932%2C%2045.56040465900402%5D%2C%20%22type%22%3A%20%22Point%22%7D%2C%20%22id%22%3A%20%2250%22%2C%20%22properties%22%3A%20%7B%22%22%3A%2056%2C%20%22Address%22%3A%20%22Via%20Giuseppe%20Zucchi%2C%2039/G/Interno%2020%22%2C%20%22CAP%22%3A%2020095.0%2C%20%22City%22%3A%20%22Cusano%20Milanino%22%2C%20%22Cluster%22%3A%20%22MI%22%2C%20%22Lat%22%3A%2045.56040465900402%2C%20%22Long%22%3A%209.177184693543932%2C%20%22Name%22%3A%20%22Share%20Makerspace%22%2C%20%22Notes%22%3A%20null%2C%20%22Source%22%3A%20%22Manually%20added%22%2C%20%22Type%22%3A%20%22Makerspace%22%2C%20%22URL%22%3A%20%22https%3A//www.sharemakers.it/%22%7D%2C%20%22type%22%3A%20%22Feature%22%7D%2C%20%7B%22bbox%22%3A%20%5B9.148734090413498%2C%2045.501912961893474%2C%209.148734090413498%2C%2045.501912961893474%5D%2C%20%22geometry%22%3A%20%7B%22coordinates%22%3A%20%5B9.148734090413498%2C%2045.501912961893474%5D%2C%20%22type%22%3A%20%22Point%22%7D%2C%20%22id%22%3A%20%2251%22%2C%20%22properties%22%3A%20%7B%22%22%3A%2057%2C%20%22Address%22%3A%20%22via%20Villapizzone%2010%22%2C%20%22CAP%22%3A%2020156.0%2C%20%22City%22%3A%20%22Milan%22%2C%20%22Cluster%22%3A%20%22MI%22%2C%20%22Lat%22%3A%2045.501912961893474%2C%20%22Long%22%3A%209.148734090413498%2C%20%22Name%22%3A%20%22Recipient%22%2C%20%22Notes%22%3A%20null%2C%20%22Source%22%3A%20%22Manually%20added%22%2C%20%22Type%22%3A%20%22Makerspace%22%2C%20%22URL%22%3A%20%22http%3A//recipient.cc/%22%7D%2C%20%22type%22%3A%20%22Feature%22%7D%2C%20%7B%22bbox%22%3A%20%5B2.1113697963011724%2C%2041.38878736307806%2C%202.1113697963011724%2C%2041.38878736307806%5D%2C%20%22geometry%22%3A%20%7B%22coordinates%22%3A%20%5B2.1113697963011724%2C%2041.38878736307806%5D%2C%20%22type%22%3A%20%22Point%22%7D%2C%20%22id%22%3A%20%2252%22%2C%20%22properties%22%3A%20%7B%22%22%3A%2058%2C%20%22Address%22%3A%20%22%5Cu200bC/%20Jordi%20Girona%201-3%22%2C%20%22CAP%22%3A%208034.0%2C%20%22City%22%3A%20%22Barcelona%22%2C%20%22Cluster%22%3A%20%22BCN%22%2C%20%22Lat%22%3A%2041.38878736307806%2C%20%22Long%22%3A%202.1113697963011724%2C%20%22Name%22%3A%20%22Camins%20Makers%22%2C%20%22Notes%22%3A%20null%2C%20%22Source%22%3A%20%22Manually%20added%22%2C%20%22Type%22%3A%20%22University%20Lab%22%2C%20%22URL%22%3A%20%22https%3A//caminsmakers.upc.edu/%22%7D%2C%20%22type%22%3A%20%22Feature%22%7D%5D%2C%20%22type%22%3A%20%22FeatureCollection%22%7D%29%3B%0A%0A%20%20%20%20%20%20%20%20%0A%20%20%20%20%0A%20%20%20%20geo_json_1253d8fc68334bd4a490088b5b0cec54.bindTooltip%28%0A%20%20%20%20function%28layer%29%7B%0A%20%20%20%20let%20div%20%3D%20L.DomUtil.create%28%27div%27%29%3B%0A%20%20%20%20%0A%20%20%20%20let%20handleObject%20%3D%20feature%3D%3Etypeof%28feature%29%3D%3D%27object%27%20%3F%20JSON.stringify%28feature%29%20%3A%20feature%3B%0A%20%20%20%20let%20fields%20%3D%20%5B%22%22%2C%20%22Name%22%2C%20%22Type%22%2C%20%22City%22%2C%20%22Cluster%22%2C%20%22Address%22%2C%20%22CAP%22%2C%20%22Lat%22%2C%20%22Long%22%2C%20%22Source%22%2C%20%22URL%22%2C%20%22Notes%22%5D%3B%0A%20%20%20%20let%20aliases%20%3D%20%5B%22%22%2C%20%22Name%22%2C%20%22Type%22%2C%20%22City%22%2C%20%22Cluster%22%2C%20%22Address%22%2C%20%22CAP%22%2C%20%22Lat%22%2C%20%22Long%22%2C%20%22Source%22%2C%20%22URL%22%2C%20%22Notes%22%5D%3B%0A%20%20%20%20let%20table%20%3D%20%27%3Ctable%3E%27%20%2B%0A%20%20%20%20%20%20%20%20String%28%0A%20%20%20%20%20%20%20%20fields.map%28%0A%20%20%20%20%20%20%20%20%28v%2Ci%29%3D%3E%0A%20%20%20%20%20%20%20%20%60%3Ctr%3E%0A%20%20%20%20%20%20%20%20%20%20%20%20%3Cth%3E%24%7Baliases%5Bi%5D%7D%3C/th%3E%0A%20%20%20%20%20%20%20%20%20%20%20%20%0A%20%20%20%20%20%20%20%20%20%20%20%20%3Ctd%3E%24%7BhandleObject%28layer.feature.properties%5Bv%5D%29%7D%3C/td%3E%0A%20%20%20%20%20%20%20%20%3C/tr%3E%60%29.join%28%27%27%29%29%0A%20%20%20%20%2B%27%3C/table%3E%27%3B%0A%20%20%20%20div.innerHTML%3Dtable%3B%0A%20%20%20%20%0A%20%20%20%20return%20div%0A%20%20%20%20%7D%0A%20%20%20%20%2C%7B%22className%22%3A%20%22foliumtooltip%22%2C%20%22sticky%22%3A%20true%7D%29%3B%0A%20%20%20%20%20%20%20%20%20%20%20%20%20%20%20%20%20%20%20%20%20%0A%3C/script%3E onload=\"this.contentDocument.open();this.contentDocument.write(    decodeURIComponent(this.getAttribute('data-html')));this.contentDocument.close();\" allowfullscreen webkitallowfullscreen mozallowfullscreen></iframe></div></div>"
      ],
      "text/plain": [
       "<folium.folium.Map at 0x120755550>"
      ]
     },
     "execution_count": 6,
     "metadata": {},
     "output_type": "execute_result"
    }
   ],
   "source": [
    "data_labs.explore()"
   ]
  },
  {
   "cell_type": "code",
   "execution_count": 7,
   "metadata": {},
   "outputs": [],
   "source": [
    "isochrones = pd.read_json(\"data/isochrones.json\")"
   ]
  },
  {
   "cell_type": "code",
   "execution_count": 8,
   "metadata": {},
   "outputs": [
    {
     "data": {
      "text/html": [
       "<div>\n",
       "<style scoped>\n",
       "    .dataframe tbody tr th:only-of-type {\n",
       "        vertical-align: middle;\n",
       "    }\n",
       "\n",
       "    .dataframe tbody tr th {\n",
       "        vertical-align: top;\n",
       "    }\n",
       "\n",
       "    .dataframe thead th {\n",
       "        text-align: right;\n",
       "    }\n",
       "</style>\n",
       "<table border=\"1\" class=\"dataframe\">\n",
       "  <thead>\n",
       "    <tr style=\"text-align: right;\">\n",
       "      <th></th>\n",
       "      <th>type</th>\n",
       "      <th>bbox</th>\n",
       "      <th>features</th>\n",
       "      <th>metadata</th>\n",
       "      <th>name</th>\n",
       "    </tr>\n",
       "  </thead>\n",
       "  <tbody>\n",
       "    <tr>\n",
       "      <th>0</th>\n",
       "      <td>FeatureCollection</td>\n",
       "      <td>[2.181814, 41.386685, 2.206919, 41.408001]</td>\n",
       "      <td>[{'type': 'Feature', 'properties': {'group_ind...</td>\n",
       "      <td>{'attribution': 'openrouteservice.org | OpenSt...</td>\n",
       "      <td>Fab Lab Barcelona</td>\n",
       "    </tr>\n",
       "    <tr>\n",
       "      <th>1</th>\n",
       "      <td>FeatureCollection</td>\n",
       "      <td>[2.127469, 41.362337, 2.156052, 41.384602]</td>\n",
       "      <td>[{'type': 'Feature', 'properties': {'group_ind...</td>\n",
       "      <td>{'attribution': 'openrouteservice.org | OpenSt...</td>\n",
       "      <td>MADE Makerspace Barcelona</td>\n",
       "    </tr>\n",
       "    <tr>\n",
       "      <th>2</th>\n",
       "      <td>FeatureCollection</td>\n",
       "      <td>[2.174851, 41.412242, 2.201856, 41.435695]</td>\n",
       "      <td>[{'type': 'Feature', 'properties': {'group_ind...</td>\n",
       "      <td>{'attribution': 'openrouteservice.org | OpenSt...</td>\n",
       "      <td>Soko Tech</td>\n",
       "    </tr>\n",
       "    <tr>\n",
       "      <th>3</th>\n",
       "      <td>FeatureCollection</td>\n",
       "      <td>[2.167014, 41.414324, 2.195139, 41.437322]</td>\n",
       "      <td>[{'type': 'Feature', 'properties': {'group_ind...</td>\n",
       "      <td>{'attribution': 'openrouteservice.org | OpenSt...</td>\n",
       "      <td>LSCongres</td>\n",
       "    </tr>\n",
       "    <tr>\n",
       "      <th>4</th>\n",
       "      <td>FeatureCollection</td>\n",
       "      <td>[2.130189, 41.443331, 2.143093, 41.453097]</td>\n",
       "      <td>[{'type': 'Feature', 'properties': {'group_ind...</td>\n",
       "      <td>{'attribution': 'openrouteservice.org | OpenSt...</td>\n",
       "      <td>Green Fab Lab</td>\n",
       "    </tr>\n",
       "  </tbody>\n",
       "</table>\n",
       "</div>"
      ],
      "text/plain": [
       "                type                                        bbox  \\\n",
       "0  FeatureCollection  [2.181814, 41.386685, 2.206919, 41.408001]   \n",
       "1  FeatureCollection  [2.127469, 41.362337, 2.156052, 41.384602]   \n",
       "2  FeatureCollection  [2.174851, 41.412242, 2.201856, 41.435695]   \n",
       "3  FeatureCollection  [2.167014, 41.414324, 2.195139, 41.437322]   \n",
       "4  FeatureCollection  [2.130189, 41.443331, 2.143093, 41.453097]   \n",
       "\n",
       "                                            features  \\\n",
       "0  [{'type': 'Feature', 'properties': {'group_ind...   \n",
       "1  [{'type': 'Feature', 'properties': {'group_ind...   \n",
       "2  [{'type': 'Feature', 'properties': {'group_ind...   \n",
       "3  [{'type': 'Feature', 'properties': {'group_ind...   \n",
       "4  [{'type': 'Feature', 'properties': {'group_ind...   \n",
       "\n",
       "                                            metadata  \\\n",
       "0  {'attribution': 'openrouteservice.org | OpenSt...   \n",
       "1  {'attribution': 'openrouteservice.org | OpenSt...   \n",
       "2  {'attribution': 'openrouteservice.org | OpenSt...   \n",
       "3  {'attribution': 'openrouteservice.org | OpenSt...   \n",
       "4  {'attribution': 'openrouteservice.org | OpenSt...   \n",
       "\n",
       "                        name  \n",
       "0          Fab Lab Barcelona  \n",
       "1  MADE Makerspace Barcelona  \n",
       "2                  Soko Tech  \n",
       "3                  LSCongres  \n",
       "4              Green Fab Lab  "
      ]
     },
     "execution_count": 8,
     "metadata": {},
     "output_type": "execute_result"
    }
   ],
   "source": [
    "isochrones.head()"
   ]
  },
  {
   "cell_type": "markdown",
   "metadata": {},
   "source": [
    "## Transform data for geodataframe"
   ]
  },
  {
   "cell_type": "code",
   "execution_count": 9,
   "metadata": {},
   "outputs": [],
   "source": [
    "isochrones['longitude'] = isochrones['metadata'].apply(lambda x: x['query']['locations'][0][0])\n",
    "isochrones['latitude'] = isochrones['metadata'].apply(lambda x: x['query']['locations'][0][1])\n",
    "isochrones['area_units'] = isochrones['metadata'].apply(lambda x: x['query']['area_units'])"
   ]
  },
  {
   "cell_type": "code",
   "execution_count": 10,
   "metadata": {},
   "outputs": [],
   "source": [
    "isochrones['total_pop'] = isochrones['features'].apply(lambda x: x[0]['properties']['total_pop'])\n",
    "isochrones['area'] = isochrones['features'].apply(lambda x:x[0]['properties']['area'])\n",
    "isochrones['reachfactor'] = isochrones['features'].apply(lambda x: x[0]['properties']['reachfactor'])"
   ]
  },
  {
   "cell_type": "code",
   "execution_count": 11,
   "metadata": {},
   "outputs": [],
   "source": [
    "isochrones['coordinates'] = isochrones['features'].apply(lambda x: x[0]['geometry']['coordinates'])\n",
    "isochrones['geometry_type'] = isochrones['features'].apply(lambda x: x[0]['geometry']['type'])"
   ]
  },
  {
   "cell_type": "code",
   "execution_count": 12,
   "metadata": {},
   "outputs": [],
   "source": [
    "isochrones['geometry'] = isochrones['coordinates'].apply(lambda x: Polygon(x[0]))"
   ]
  },
  {
   "cell_type": "code",
   "execution_count": 13,
   "metadata": {},
   "outputs": [],
   "source": [
    "isochrones = isochrones[['name','longitude','latitude','total_pop','area','reachfactor','geometry']]"
   ]
  },
  {
   "cell_type": "code",
   "execution_count": 14,
   "metadata": {},
   "outputs": [],
   "source": [
    "isochrones = gpd.GeoDataFrame(\n",
    "    isochrones,\n",
    "    geometry=isochrones.geometry,\n",
    "    crs='EPSG:4326')"
   ]
  },
  {
   "cell_type": "code",
   "execution_count": 15,
   "metadata": {},
   "outputs": [
    {
     "data": {
      "text/html": [
       "<div style=\"width:100%;\"><div style=\"position:relative;width:100%;height:0;padding-bottom:60%;\"><span style=\"color:#565656\">Make this Notebook Trusted to load map: File -> Trust Notebook</span><iframe src=\"about:blank\" style=\"position:absolute;width:100%;height:100%;left:0;top:0;border:none !important;\" data-html=%3C%21DOCTYPE%20html%3E%0A%3Chead%3E%20%20%20%20%0A%20%20%20%20%3Cmeta%20http-equiv%3D%22content-type%22%20content%3D%22text/html%3B%20charset%3DUTF-8%22%20/%3E%0A%20%20%20%20%0A%20%20%20%20%20%20%20%20%3Cscript%3E%0A%20%20%20%20%20%20%20%20%20%20%20%20L_NO_TOUCH%20%3D%20false%3B%0A%20%20%20%20%20%20%20%20%20%20%20%20L_DISABLE_3D%20%3D%20false%3B%0A%20%20%20%20%20%20%20%20%3C/script%3E%0A%20%20%20%20%0A%20%20%20%20%3Cstyle%3Ehtml%2C%20body%20%7Bwidth%3A%20100%25%3Bheight%3A%20100%25%3Bmargin%3A%200%3Bpadding%3A%200%3B%7D%3C/style%3E%0A%20%20%20%20%3Cstyle%3E%23map%20%7Bposition%3Aabsolute%3Btop%3A0%3Bbottom%3A0%3Bright%3A0%3Bleft%3A0%3B%7D%3C/style%3E%0A%20%20%20%20%3Cscript%20src%3D%22https%3A//cdn.jsdelivr.net/npm/leaflet%401.6.0/dist/leaflet.js%22%3E%3C/script%3E%0A%20%20%20%20%3Cscript%20src%3D%22https%3A//code.jquery.com/jquery-1.12.4.min.js%22%3E%3C/script%3E%0A%20%20%20%20%3Cscript%20src%3D%22https%3A//maxcdn.bootstrapcdn.com/bootstrap/3.2.0/js/bootstrap.min.js%22%3E%3C/script%3E%0A%20%20%20%20%3Cscript%20src%3D%22https%3A//cdnjs.cloudflare.com/ajax/libs/Leaflet.awesome-markers/2.0.2/leaflet.awesome-markers.js%22%3E%3C/script%3E%0A%20%20%20%20%3Clink%20rel%3D%22stylesheet%22%20href%3D%22https%3A//cdn.jsdelivr.net/npm/leaflet%401.6.0/dist/leaflet.css%22/%3E%0A%20%20%20%20%3Clink%20rel%3D%22stylesheet%22%20href%3D%22https%3A//maxcdn.bootstrapcdn.com/bootstrap/3.2.0/css/bootstrap.min.css%22/%3E%0A%20%20%20%20%3Clink%20rel%3D%22stylesheet%22%20href%3D%22https%3A//maxcdn.bootstrapcdn.com/bootstrap/3.2.0/css/bootstrap-theme.min.css%22/%3E%0A%20%20%20%20%3Clink%20rel%3D%22stylesheet%22%20href%3D%22https%3A//maxcdn.bootstrapcdn.com/font-awesome/4.6.3/css/font-awesome.min.css%22/%3E%0A%20%20%20%20%3Clink%20rel%3D%22stylesheet%22%20href%3D%22https%3A//cdnjs.cloudflare.com/ajax/libs/Leaflet.awesome-markers/2.0.2/leaflet.awesome-markers.css%22/%3E%0A%20%20%20%20%3Clink%20rel%3D%22stylesheet%22%20href%3D%22https%3A//cdn.jsdelivr.net/gh/python-visualization/folium/folium/templates/leaflet.awesome.rotate.min.css%22/%3E%0A%20%20%20%20%0A%20%20%20%20%20%20%20%20%20%20%20%20%3Cmeta%20name%3D%22viewport%22%20content%3D%22width%3Ddevice-width%2C%0A%20%20%20%20%20%20%20%20%20%20%20%20%20%20%20%20initial-scale%3D1.0%2C%20maximum-scale%3D1.0%2C%20user-scalable%3Dno%22%20/%3E%0A%20%20%20%20%20%20%20%20%20%20%20%20%3Cstyle%3E%0A%20%20%20%20%20%20%20%20%20%20%20%20%20%20%20%20%23map_8cc12b2fef314166a18d153308009809%20%7B%0A%20%20%20%20%20%20%20%20%20%20%20%20%20%20%20%20%20%20%20%20position%3A%20relative%3B%0A%20%20%20%20%20%20%20%20%20%20%20%20%20%20%20%20%20%20%20%20width%3A%20100.0%25%3B%0A%20%20%20%20%20%20%20%20%20%20%20%20%20%20%20%20%20%20%20%20height%3A%20100.0%25%3B%0A%20%20%20%20%20%20%20%20%20%20%20%20%20%20%20%20%20%20%20%20left%3A%200.0%25%3B%0A%20%20%20%20%20%20%20%20%20%20%20%20%20%20%20%20%20%20%20%20top%3A%200.0%25%3B%0A%20%20%20%20%20%20%20%20%20%20%20%20%20%20%20%20%7D%0A%20%20%20%20%20%20%20%20%20%20%20%20%3C/style%3E%0A%20%20%20%20%20%20%20%20%0A%20%20%20%20%0A%20%20%20%20%20%20%20%20%20%20%20%20%20%20%20%20%20%20%20%20%3Cstyle%3E%0A%20%20%20%20%20%20%20%20%20%20%20%20%20%20%20%20%20%20%20%20%20%20%20%20.foliumtooltip%20%7B%0A%20%20%20%20%20%20%20%20%20%20%20%20%20%20%20%20%20%20%20%20%20%20%20%20%20%20%20%20%0A%20%20%20%20%20%20%20%20%20%20%20%20%20%20%20%20%20%20%20%20%20%20%20%20%7D%0A%20%20%20%20%20%20%20%20%20%20%20%20%20%20%20%20%20%20%20%20%20%20%20.foliumtooltip%20table%7B%0A%20%20%20%20%20%20%20%20%20%20%20%20%20%20%20%20%20%20%20%20%20%20%20%20%20%20%20%20margin%3A%20auto%3B%0A%20%20%20%20%20%20%20%20%20%20%20%20%20%20%20%20%20%20%20%20%20%20%20%20%7D%0A%20%20%20%20%20%20%20%20%20%20%20%20%20%20%20%20%20%20%20%20%20%20%20%20.foliumtooltip%20tr%7B%0A%20%20%20%20%20%20%20%20%20%20%20%20%20%20%20%20%20%20%20%20%20%20%20%20%20%20%20%20text-align%3A%20left%3B%0A%20%20%20%20%20%20%20%20%20%20%20%20%20%20%20%20%20%20%20%20%20%20%20%20%7D%0A%20%20%20%20%20%20%20%20%20%20%20%20%20%20%20%20%20%20%20%20%20%20%20%20.foliumtooltip%20th%7B%0A%20%20%20%20%20%20%20%20%20%20%20%20%20%20%20%20%20%20%20%20%20%20%20%20%20%20%20%20padding%3A%202px%3B%20padding-right%3A%208px%3B%0A%20%20%20%20%20%20%20%20%20%20%20%20%20%20%20%20%20%20%20%20%20%20%20%20%7D%0A%20%20%20%20%20%20%20%20%20%20%20%20%20%20%20%20%20%20%20%20%3C/style%3E%0A%20%20%20%20%20%20%20%20%20%20%20%20%0A%3C/head%3E%0A%3Cbody%3E%20%20%20%20%0A%20%20%20%20%0A%20%20%20%20%20%20%20%20%20%20%20%20%3Cdiv%20class%3D%22folium-map%22%20id%3D%22map_8cc12b2fef314166a18d153308009809%22%20%3E%3C/div%3E%0A%20%20%20%20%20%20%20%20%0A%3C/body%3E%0A%3Cscript%3E%20%20%20%20%0A%20%20%20%20%0A%20%20%20%20%20%20%20%20%20%20%20%20var%20map_8cc12b2fef314166a18d153308009809%20%3D%20L.map%28%0A%20%20%20%20%20%20%20%20%20%20%20%20%20%20%20%20%22map_8cc12b2fef314166a18d153308009809%22%2C%0A%20%20%20%20%20%20%20%20%20%20%20%20%20%20%20%20%7B%0A%20%20%20%20%20%20%20%20%20%20%20%20%20%20%20%20%20%20%20%20center%3A%20%5B43.417601000000005%2C%205.617534%5D%2C%0A%20%20%20%20%20%20%20%20%20%20%20%20%20%20%20%20%20%20%20%20crs%3A%20L.CRS.EPSG3857%2C%0A%20%20%20%20%20%20%20%20%20%20%20%20%20%20%20%20%20%20%20%20zoom%3A%2010%2C%0A%20%20%20%20%20%20%20%20%20%20%20%20%20%20%20%20%20%20%20%20zoomControl%3A%20true%2C%0A%20%20%20%20%20%20%20%20%20%20%20%20%20%20%20%20%20%20%20%20preferCanvas%3A%20false%2C%0A%20%20%20%20%20%20%20%20%20%20%20%20%20%20%20%20%7D%0A%20%20%20%20%20%20%20%20%20%20%20%20%29%3B%0A%20%20%20%20%20%20%20%20%20%20%20%20L.control.scale%28%29.addTo%28map_8cc12b2fef314166a18d153308009809%29%3B%0A%0A%20%20%20%20%20%20%20%20%20%20%20%20%0A%0A%20%20%20%20%20%20%20%20%0A%20%20%20%20%0A%20%20%20%20%20%20%20%20%20%20%20%20var%20tile_layer_0c89deed45074b618ae280c51366f998%20%3D%20L.tileLayer%28%0A%20%20%20%20%20%20%20%20%20%20%20%20%20%20%20%20%22https%3A//%7Bs%7D.tile.openstreetmap.org/%7Bz%7D/%7Bx%7D/%7By%7D.png%22%2C%0A%20%20%20%20%20%20%20%20%20%20%20%20%20%20%20%20%7B%22attribution%22%3A%20%22Data%20by%20%5Cu0026copy%3B%20%5Cu003ca%20href%3D%5C%22http%3A//openstreetmap.org%5C%22%5Cu003eOpenStreetMap%5Cu003c/a%5Cu003e%2C%20under%20%5Cu003ca%20href%3D%5C%22http%3A//www.openstreetmap.org/copyright%5C%22%5Cu003eODbL%5Cu003c/a%5Cu003e.%22%2C%20%22detectRetina%22%3A%20false%2C%20%22maxNativeZoom%22%3A%2018%2C%20%22maxZoom%22%3A%2018%2C%20%22minZoom%22%3A%200%2C%20%22noWrap%22%3A%20false%2C%20%22opacity%22%3A%201%2C%20%22subdomains%22%3A%20%22abc%22%2C%20%22tms%22%3A%20false%7D%0A%20%20%20%20%20%20%20%20%20%20%20%20%29.addTo%28map_8cc12b2fef314166a18d153308009809%29%3B%0A%20%20%20%20%20%20%20%20%0A%20%20%20%20%0A%20%20%20%20%20%20%20%20%20%20%20%20map_8cc12b2fef314166a18d153308009809.fitBounds%28%0A%20%20%20%20%20%20%20%20%20%20%20%20%20%20%20%20%5B%5B41.266309%2C%201.975744%5D%2C%20%5B45.568893%2C%209.259324%5D%5D%2C%0A%20%20%20%20%20%20%20%20%20%20%20%20%20%20%20%20%7B%7D%0A%20%20%20%20%20%20%20%20%20%20%20%20%29%3B%0A%20%20%20%20%20%20%20%20%0A%20%20%20%20%0A%20%20%20%20%20%20%20%20function%20geo_json_660a82f5427f47ef9fef2f731cea292c_styler%28feature%29%20%7B%0A%20%20%20%20%20%20%20%20%20%20%20%20switch%28feature.id%29%20%7B%0A%20%20%20%20%20%20%20%20%20%20%20%20%20%20%20%20default%3A%0A%20%20%20%20%20%20%20%20%20%20%20%20%20%20%20%20%20%20%20%20return%20%7B%22fillOpacity%22%3A%200.5%2C%20%22weight%22%3A%202%7D%3B%0A%20%20%20%20%20%20%20%20%20%20%20%20%7D%0A%20%20%20%20%20%20%20%20%7D%0A%20%20%20%20%20%20%20%20function%20geo_json_660a82f5427f47ef9fef2f731cea292c_highlighter%28feature%29%20%7B%0A%20%20%20%20%20%20%20%20%20%20%20%20switch%28feature.id%29%20%7B%0A%20%20%20%20%20%20%20%20%20%20%20%20%20%20%20%20default%3A%0A%20%20%20%20%20%20%20%20%20%20%20%20%20%20%20%20%20%20%20%20return%20%7B%22fillOpacity%22%3A%200.75%7D%3B%0A%20%20%20%20%20%20%20%20%20%20%20%20%7D%0A%20%20%20%20%20%20%20%20%7D%0A%20%20%20%20%20%20%20%20function%20geo_json_660a82f5427f47ef9fef2f731cea292c_pointToLayer%28feature%2C%20latlng%29%20%7B%0A%20%20%20%20%20%20%20%20%20%20%20%20var%20opts%20%3D%20%7B%22bubblingMouseEvents%22%3A%20true%2C%20%22color%22%3A%20%22%233388ff%22%2C%20%22dashArray%22%3A%20null%2C%20%22dashOffset%22%3A%20null%2C%20%22fill%22%3A%20true%2C%20%22fillColor%22%3A%20%22%233388ff%22%2C%20%22fillOpacity%22%3A%200.2%2C%20%22fillRule%22%3A%20%22evenodd%22%2C%20%22lineCap%22%3A%20%22round%22%2C%20%22lineJoin%22%3A%20%22round%22%2C%20%22opacity%22%3A%201.0%2C%20%22radius%22%3A%202%2C%20%22stroke%22%3A%20true%2C%20%22weight%22%3A%203%7D%3B%0A%20%20%20%20%20%20%20%20%20%20%20%20%0A%20%20%20%20%20%20%20%20%20%20%20%20let%20style%20%3D%20geo_json_660a82f5427f47ef9fef2f731cea292c_styler%28feature%29%0A%20%20%20%20%20%20%20%20%20%20%20%20Object.assign%28opts%2C%20style%29%0A%20%20%20%20%20%20%20%20%20%20%20%20%0A%20%20%20%20%20%20%20%20%20%20%20%20return%20new%20L.CircleMarker%28latlng%2C%20opts%29%0A%20%20%20%20%20%20%20%20%7D%0A%0A%20%20%20%20%20%20%20%20function%20geo_json_660a82f5427f47ef9fef2f731cea292c_onEachFeature%28feature%2C%20layer%29%20%7B%0A%20%20%20%20%20%20%20%20%20%20%20%20layer.on%28%7B%0A%20%20%20%20%20%20%20%20%20%20%20%20%20%20%20%20mouseout%3A%20function%28e%29%20%7B%0A%20%20%20%20%20%20%20%20%20%20%20%20%20%20%20%20%20%20%20%20if%28typeof%20e.target.setStyle%20%3D%3D%3D%20%22function%22%29%7B%0A%20%20%20%20%20%20%20%20%20%20%20%20%20%20%20%20%20%20%20%20%20%20%20%20geo_json_660a82f5427f47ef9fef2f731cea292c.resetStyle%28e.target%29%3B%0A%20%20%20%20%20%20%20%20%20%20%20%20%20%20%20%20%20%20%20%20%7D%0A%20%20%20%20%20%20%20%20%20%20%20%20%20%20%20%20%7D%2C%0A%20%20%20%20%20%20%20%20%20%20%20%20%20%20%20%20mouseover%3A%20function%28e%29%20%7B%0A%20%20%20%20%20%20%20%20%20%20%20%20%20%20%20%20%20%20%20%20if%28typeof%20e.target.setStyle%20%3D%3D%3D%20%22function%22%29%7B%0A%20%20%20%20%20%20%20%20%20%20%20%20%20%20%20%20%20%20%20%20%20%20%20%20const%20highlightStyle%20%3D%20geo_json_660a82f5427f47ef9fef2f731cea292c_highlighter%28e.target.feature%29%0A%20%20%20%20%20%20%20%20%20%20%20%20%20%20%20%20%20%20%20%20%20%20%20%20e.target.setStyle%28highlightStyle%29%3B%0A%20%20%20%20%20%20%20%20%20%20%20%20%20%20%20%20%20%20%20%20%7D%0A%20%20%20%20%20%20%20%20%20%20%20%20%20%20%20%20%7D%2C%0A%20%20%20%20%20%20%20%20%20%20%20%20%7D%29%3B%0A%20%20%20%20%20%20%20%20%7D%3B%0A%20%20%20%20%20%20%20%20var%20geo_json_660a82f5427f47ef9fef2f731cea292c%20%3D%20L.geoJson%28null%2C%20%7B%0A%20%20%20%20%20%20%20%20%20%20%20%20%20%20%20%20onEachFeature%3A%20geo_json_660a82f5427f47ef9fef2f731cea292c_onEachFeature%2C%0A%20%20%20%20%20%20%20%20%20%20%20%20%0A%20%20%20%20%20%20%20%20%20%20%20%20%20%20%20%20style%3A%20geo_json_660a82f5427f47ef9fef2f731cea292c_styler%2C%0A%20%20%20%20%20%20%20%20%20%20%20%20%20%20%20%20pointToLayer%3A%20geo_json_660a82f5427f47ef9fef2f731cea292c_pointToLayer%0A%20%20%20%20%20%20%20%20%7D%29%3B%0A%0A%20%20%20%20%20%20%20%20function%20geo_json_660a82f5427f47ef9fef2f731cea292c_add%20%28data%29%20%7B%0A%20%20%20%20%20%20%20%20%20%20%20%20geo_json_660a82f5427f47ef9fef2f731cea292c%0A%20%20%20%20%20%20%20%20%20%20%20%20%20%20%20%20.addData%28data%29%0A%20%20%20%20%20%20%20%20%20%20%20%20%20%20%20%20.addTo%28map_8cc12b2fef314166a18d153308009809%29%3B%0A%20%20%20%20%20%20%20%20%7D%0A%20%20%20%20%20%20%20%20%20%20%20%20geo_json_660a82f5427f47ef9fef2f731cea292c_add%28%7B%22bbox%22%3A%20%5B1.975744%2C%2041.266309%2C%209.259324%2C%2045.568893%5D%2C%20%22features%22%3A%20%5B%7B%22bbox%22%3A%20%5B2.181814%2C%2041.386685%2C%202.206919%2C%2041.408001%5D%2C%20%22geometry%22%3A%20%7B%22coordinates%22%3A%20%5B%5B%5B2.181814%2C%2041.396189%5D%2C%20%5B2.181819%2C%2041.394633%5D%2C%20%5B2.181969%2C%2041.39116%5D%2C%20%5B2.182512%2C%2041.388045%5D%2C%20%5B2.182594%2C%2041.387901%5D%2C%20%5B2.182729%2C%2041.387688%5D%2C%20%5B2.182745%2C%2041.387677%5D%2C%20%5B2.186288%2C%2041.387211%5D%2C%20%5B2.189545%2C%2041.387251%5D%2C%20%5B2.19245%2C%2041.386685%5D%2C%20%5B2.194135%2C%2041.386709%5D%2C%20%5B2.199411%2C%2041.386922%5D%2C%20%5B2.201339%2C%2041.387235%5D%2C%20%5B2.201357%2C%2041.387248%5D%2C%20%5B2.204328%2C%2041.391354%5D%2C%20%5B2.20611%2C%2041.391197%5D%2C%20%5B2.206369%2C%2041.391261%5D%2C%20%5B2.206478%2C%2041.3914%5D%2C%20%5B2.20658%2C%2041.39185%5D%2C%20%5B2.206919%2C%2041.395455%5D%2C%20%5B2.206873%2C%2041.397327%5D%2C%20%5B2.206578%2C%2041.402674%5D%2C%20%5B2.205493%2C%2041.406096%5D%2C%20%5B2.205303%2C%2041.406236%5D%2C%20%5B2.200025%2C%2041.407739%5D%2C%20%5B2.199121%2C%2041.408001%5D%2C%20%5B2.197388%2C%2041.407775%5D%2C%20%5B2.194236%2C%2041.40745%5D%2C%20%5B2.188462%2C%2041.407141%5D%2C%20%5B2.188148%2C%2041.406969%5D%2C%20%5B2.18302%2C%2041.40441%5D%2C%20%5B2.182823%2C%2041.404038%5D%2C%20%5B2.182142%2C%2041.40201%5D%2C%20%5B2.182082%2C%2041.401735%5D%2C%20%5B2.181904%2C%2041.399704%5D%2C%20%5B2.181816%2C%2041.396636%5D%2C%20%5B2.181814%2C%2041.396189%5D%5D%5D%2C%20%22type%22%3A%20%22Polygon%22%7D%2C%20%22id%22%3A%20%220%22%2C%20%22properties%22%3A%20%7B%22area%22%3A%204351089.58%2C%20%22latitude%22%3A%2041.39692498100806%2C%20%22longitude%22%3A%202.1943351554908492%2C%20%22name%22%3A%20%22Fab%20Lab%20Barcelona%22%2C%20%22reachfactor%22%3A%200.8864000000000001%2C%20%22total_pop%22%3A%2084175.0%7D%2C%20%22type%22%3A%20%22Feature%22%7D%2C%20%7B%22bbox%22%3A%20%5B2.127469%2C%2041.362337%2C%202.156052%2C%2041.384602%5D%2C%20%22geometry%22%3A%20%7B%22coordinates%22%3A%20%5B%5B%5B2.127469%2C%2041.374827%5D%2C%20%5B2.128301%2C%2041.370212%5D%2C%20%5B2.128597%2C%2041.366887%5D%2C%20%5B2.1286680000000002%2C%2041.366696%5D%2C%20%5B2.128905%2C%2041.366387%5D%2C%20%5B2.128961%2C%2041.366322%5D%2C%20%5B2.131208%2C%2041.364809%5D%2C%20%5B2.134425%2C%2041.363571%5D%2C%20%5B2.138189%2C%2041.362675%5D%2C%20%5B2.141524%2C%2041.362337%5D%2C%20%5B2.1418%2C%2041.362347%5D%2C%20%5B2.145861%2C%2041.363738%5D%2C%20%5B2.146774%2C%2041.364074%5D%2C%20%5B2.151223%2C%2041.367256%5D%2C%20%5B2.152773%2C%2041.368482%5D%2C%20%5B2.153737%2C%2041.370295%5D%2C%20%5B2.155735%2C%2041.374073%5D%2C%20%5B2.156052%2C%2041.37503%5D%2C%20%5B2.156036%2C%2041.375245%5D%2C%20%5B2.154413%2C%2041.378912%5D%2C%20%5B2.154284%2C%2041.379099%5D%2C%20%5B2.154266%2C%2041.379113%5D%2C%20%5B2.152343%2C%2041.380467%5D%2C%20%5B2.148317%2C%2041.381902%5D%2C%20%5B2.146206%2C%2041.383816%5D%2C%20%5B2.146158%2C%2041.38386%5D%2C%20%5B2.146139%2C%2041.383874%5D%2C%20%5B2.142641%2C%2041.384602%5D%2C%20%5B2.138608%2C%2041.384257%5D%2C%20%5B2.136081%2C%2041.384015%5D%2C%20%5B2.134816%2C%2041.383555%5D%2C%20%5B2.132194%2C%2041.381401%5D%2C%20%5B2.131263%2C%2041.380436%5D%2C%20%5B2.129789%2C%2041.378754%5D%2C%20%5B2.128581%2C%2041.377287%5D%2C%20%5B2.127469%2C%2041.374875%5D%2C%20%5B2.127469%2C%2041.374827%5D%5D%5D%2C%20%22type%22%3A%20%22Polygon%22%7D%2C%20%22id%22%3A%20%221%22%2C%20%22properties%22%3A%20%7B%22area%22%3A%204388156.04%2C%20%22latitude%22%3A%2041.373238104403214%2C%20%22longitude%22%3A%202.141084282475449%2C%20%22name%22%3A%20%22MADE%20Makerspace%20Barcelona%22%2C%20%22reachfactor%22%3A%200.8939%2C%20%22total_pop%22%3A%2088686.0%7D%2C%20%22type%22%3A%20%22Feature%22%7D%2C%20%7B%22bbox%22%3A%20%5B2.174851%2C%2041.412242%2C%202.201856%2C%2041.435695%5D%2C%20%22geometry%22%3A%20%7B%22coordinates%22%3A%20%5B%5B%5B2.174851%2C%2041.424714%5D%2C%20%5B2.174888%2C%2041.423775%5D%2C%20%5B2.175497%2C%2041.42255%5D%2C%20%5B2.177074%2C%2041.417741%5D%2C%20%5B2.179811%2C%2041.415104%5D%2C%20%5B2.179906%2C%2041.415037%5D%2C%20%5B2.183689%2C%2041.413199%5D%2C%20%5B2.187275%2C%2041.412242%5D%2C%20%5B2.1877969999999998%2C%2041.412288%5D%2C%20%5B2.193601%2C%2041.413417%5D%2C%20%5B2.194102%2C%2041.413458%5D%2C%20%5B2.194493%2C%2041.413744%5D%2C%20%5B2.194908%2C%2041.414057%5D%2C%20%5B2.195228%2C%2041.414306%5D%2C%20%5B2.199912%2C%2041.417838%5D%2C%20%5B2.2015000000000002%2C%2041.418854%5D%2C%20%5B2.201792%2C%2041.419254%5D%2C%20%5B2.201856%2C%2041.422918%5D%2C%20%5B2.201687%2C%2041.42494%5D%2C%20%5B2.201622%2C%2041.425126%5D%2C%20%5B2.201526%2C%2041.425144%5D%2C%20%5B2.198556%2C%2041.42603%5D%2C%20%5B2.196131%2C%2041.429808%5D%2C%20%5B2.197212%2C%2041.432082%5D%2C%20%5B2.197175%2C%2041.432195%5D%2C%20%5B2.194164%2C%2041.434405%5D%2C%20%5B2.192938%2C%2041.434823%5D%2C%20%5B2.189469%2C%2041.435695%5D%2C%20%5B2.189014%2C%2041.435678%5D%2C%20%5B2.184433%2C%2041.435024%5D%2C%20%5B2.1804%2C%2041.434115%5D%2C%20%5B2.179629%2C%2041.433611%5D%2C%20%5B2.17935%2C%2041.433333%5D%2C%20%5B2.178082%2C%2041.431669%5D%2C%20%5B2.175523%2C%2041.428702%5D%2C%20%5B2.17536%2C%2041.428316%5D%2C%20%5B2.175349%2C%2041.428273%5D%2C%20%5B2.174851%2C%2041.424714%5D%5D%5D%2C%20%22type%22%3A%20%22Polygon%22%7D%2C%20%22id%22%3A%20%222%22%2C%20%22properties%22%3A%20%7B%22area%22%3A%204342469.36%2C%20%22latitude%22%3A%2041.42453540945304%2C%20%22longitude%22%3A%202.188882597820186%2C%20%22name%22%3A%20%22Soko%20Tech%22%2C%20%22reachfactor%22%3A%200.8846%2C%20%22total_pop%22%3A%2090167.0%7D%2C%20%22type%22%3A%20%22Feature%22%7D%2C%20%7B%22bbox%22%3A%20%5B2.167014%2C%2041.414324%2C%202.195139%2C%2041.437322%5D%2C%20%22geometry%22%3A%20%7B%22coordinates%22%3A%20%5B%5B%5B2.167014%2C%2041.427727%5D%2C%20%5B2.167345%2C%2041.426543%5D%2C%20%5B2.167378%2C%2041.426494%5D%2C%20%5B2.168081%2C%2041.425649%5D%2C%20%5B2.170706%2C%2041.420636%5D%2C%20%5B2.171887%2C%2041.418308%5D%2C%20%5B2.171911%2C%2041.418261%5D%2C%20%5B2.172976%2C%2041.416785%5D%2C%20%5B2.174209%2C%2041.415737%5D%2C%20%5B2.174266%2C%2041.415712%5D%2C%20%5B2.174301%2C%2041.415698%5D%2C%20%5B2.17433%2C%2041.415688%5D%2C%20%5B2.175709%2C%2041.415244%5D%2C%20%5B2.176024%2C%2041.41518%5D%2C%20%5B2.181487%2C%2041.414324%5D%2C%20%5B2.185889%2C%2041.414874%5D%2C%20%5B2.187443%2C%2041.415267%5D%2C%20%5B2.190727%2C%2041.416246%5D%2C%20%5B2.191208%2C%2041.416518%5D%2C%20%5B2.19129%2C%2041.416582%5D%2C%20%5B2.193101%2C%2041.419467%5D%2C%20%5B2.194509%2C%2041.42196%5D%2C%20%5B2.195139%2C%2041.425504%5D%2C%20%5B2.195123%2C%2041.425571%5D%2C%20%5B2.194287%2C%2041.428683%5D%2C%20%5B2.19422%2C%2041.428783%5D%2C%20%5B2.191741%2C%2041.431909%5D%2C%20%5B2.190201%2C%2041.433307%5D%2C%20%5B2.189369%2C%2041.433986%5D%2C%20%5B2.1852869999999998%2C%2041.436816%5D%2C%20%5B2.185135%2C%2041.436864%5D%2C%20%5B2.184652%2C%2041.436952%5D%2C%20%5B2.180626%2C%2041.437322%5D%2C%20%5B2.178689%2C%2041.437313%5D%2C%20%5B2.178606%2C%2041.437299%5D%2C%20%5B2.175336%2C%2041.435978%5D%2C%20%5B2.172484%2C%2041.434805%5D%2C%20%5B2.171647%2C%2041.434469%5D%2C%20%5B2.171427%2C%2041.434359%5D%2C%20%5B2.169851%2C%2041.432204%5D%2C%20%5B2.168579%2C%2041.430329%5D%2C%20%5B2.167026%2C%2041.42781%5D%2C%20%5B2.167014%2C%2041.427727%5D%5D%5D%2C%20%22type%22%3A%20%22Polygon%22%7D%2C%20%22id%22%3A%20%223%22%2C%20%22properties%22%3A%20%7B%22area%22%3A%204470900.19%2C%20%22latitude%22%3A%2041.426002192952815%2C%20%22longitude%22%3A%202.182025968984485%2C%20%22name%22%3A%20%22LSCongres%22%2C%20%22reachfactor%22%3A%200.9108%2C%20%22total_pop%22%3A%2095371.0%7D%2C%20%22type%22%3A%20%22Feature%22%7D%2C%20%7B%22bbox%22%3A%20%5B2.130189%2C%2041.443331%2C%202.143093%2C%2041.453097%5D%2C%20%22geometry%22%3A%20%7B%22coordinates%22%3A%20%5B%5B%5B2.130189%2C%2041.446884%5D%2C%20%5B2.13044%2C%2041.446626%5D%2C%20%5B2.135024%2C%2041.44414%5D%2C%20%5B2.136079%2C%2041.443331%5D%2C%20%5B2.136367%2C%2041.443546%5D%2C%20%5B2.140195%2C%2041.445742%5D%2C%20%5B2.142076%2C%2041.445805%5D%2C%20%5B2.142436%2C%2041.445823%5D%2C%20%5B2.143093%2C%2041.447138%5D%2C%20%5B2.143062%2C%2041.447582%5D%2C%20%5B2.142818%2C%2041.447847%5D%2C%20%5B2.138287%2C%2041.451266%5D%2C%20%5B2.137823%2C%2041.4524%5D%2C%20%5B2.133923%2C%2041.453097%5D%2C%20%5B2.133603%2C%2041.452932%5D%2C%20%5B2.130762%2C%2041.447688%5D%2C%20%5B2.130189%2C%2041.446884%5D%5D%5D%2C%20%22type%22%3A%20%22Polygon%22%7D%2C%20%22id%22%3A%20%224%22%2C%20%22properties%22%3A%20%7B%22area%22%3A%20668382.48%2C%20%22latitude%22%3A%2041.45039383574725%2C%20%22longitude%22%3A%202.133441411313727%2C%20%22name%22%3A%20%22Green%20Fab%20Lab%22%2C%20%22reachfactor%22%3A%200.13620000000000002%2C%20%22total_pop%22%3A%2029.0%7D%2C%20%22type%22%3A%20%22Feature%22%7D%2C%20%7B%22bbox%22%3A%20%5B2.194385%2C%2041.431084%2C%202.207612%2C%2041.43913%5D%2C%20%22geometry%22%3A%20%7B%22coordinates%22%3A%20%5B%5B%5B2.194385%2C%2041.435171%5D%2C%20%5B2.194398%2C%2041.435131%5D%2C%20%5B2.195368%2C%2041.433601%5D%2C%20%5B2.19743%2C%2041.432593%5D%2C%20%5B2.199992%2C%2041.432229%5D%2C%20%5B2.205094%2C%2041.431115%5D%2C%20%5B2.2053%2C%2041.431084%5D%2C%20%5B2.206889%2C%2041.431496%5D%2C%20%5B2.207046%2C%2041.43182%5D%2C%20%5B2.207276%2C%2041.432706%5D%2C%20%5B2.207612%2C%2041.434324%5D%2C%20%5B2.207605%2C%2041.434392%5D%2C%20%5B2.20736%2C%2041.434849%5D%2C%20%5B2.20735%2C%2041.434864%5D%2C%20%5B2.206735%2C%2041.435686%5D%2C%20%5B2.205459%2C%2041.436481%5D%2C%20%5B2.204417%2C%2041.437116%5D%2C%20%5B2.201022%2C%2041.439096%5D%2C%20%5B2.200205%2C%2041.43913%5D%2C%20%5B2.200196%2C%2041.439126%5D%2C%20%5B2.195844%2C%2041.436752%5D%2C%20%5B2.19566%2C%2041.436654%5D%2C%20%5B2.194725%2C%2041.43586%5D%2C%20%5B2.194392%2C%2041.435222%5D%2C%20%5B2.194385%2C%2041.435171%5D%5D%5D%2C%20%22type%22%3A%20%22Polygon%22%7D%2C%20%22id%22%3A%20%225%22%2C%20%22properties%22%3A%20%7B%22area%22%3A%20633895.88%2C%20%22latitude%22%3A%2041.43215238774583%2C%20%22longitude%22%3A%202.199793097820458%2C%20%22name%22%3A%20%22Barcelona%20Mobility%20LAB%22%2C%20%22reachfactor%22%3A%200.1291%2C%20%22total_pop%22%3A%2012691.0%7D%2C%20%22type%22%3A%20%22Feature%22%7D%2C%20%7B%22bbox%22%3A%20%5B2.082532%2C%2041.459319%2C%202.0966%2C%2041.472958%5D%2C%20%22geometry%22%3A%20%7B%22coordinates%22%3A%20%5B%5B%5B2.082532%2C%2041.463096%5D%2C%20%5B2.082815%2C%2041.461981%5D%2C%20%5B2.083538%2C%2041.461129%5D%2C%20%5B2.083863%2C%2041.460975%5D%2C%20%5B2.086915%2C%2041.459845%5D%2C%20%5B2.088779%2C%2041.459319%5D%2C%20%5B2.091038%2C%2041.45947%5D%2C%20%5B2.091464%2C%2041.459693%5D%2C%20%5B2.09447%2C%2041.462939%5D%2C%20%5B2.096382%2C%2041.464288%5D%2C%20%5B2.0966%2C%2041.464574999999996%5D%2C%20%5B2.096563%2C%2041.468064%5D%2C%20%5B2.096517%2C%2041.468205%5D%2C%20%5B2.09642%2C%2041.468394%5D%2C%20%5B2.094267%2C%2041.470818%5D%2C%20%5B2.092562%2C%2041.472066%5D%2C%20%5B2.092314%2C%2041.472198%5D%2C%20%5B2.090166%2C%2041.472958%5D%2C%20%5B2.089808%2C%2041.472924%5D%2C%20%5B2.087457%2C%2041.472313%5D%2C%20%5B2.085631%2C%2041.471847%5D%2C%20%5B2.085353%2C%2041.471716%5D%2C%20%5B2.085134%2C%2041.471516%5D%2C%20%5B2.084567%2C%2041.47014%5D%2C%20%5B2.083357%2C%2041.465606%5D%2C%20%5B2.082891%2C%2041.464252%5D%2C%20%5B2.082533%2C%2041.463279%5D%2C%20%5B2.082532%2C%2041.463096%5D%5D%5D%2C%20%22type%22%3A%20%22Polygon%22%7D%2C%20%22id%22%3A%20%226%22%2C%20%22properties%22%3A%20%7B%22area%22%3A%201301735.32%2C%20%22latitude%22%3A%2041.46756916570972%2C%20%22longitude%22%3A%202.091703597821606%2C%20%22name%22%3A%20%22Fab%20Lab%20Sant%20Cugat%22%2C%20%22reachfactor%22%3A%200.2652%2C%20%22total_pop%22%3A%204046.0%7D%2C%20%22type%22%3A%20%22Feature%22%7D%2C%20%7B%22bbox%22%3A%20%5B9.191755%2C%2045.433567%2C%209.22393%2C%2045.453004%5D%2C%20%22geometry%22%3A%20%7B%22coordinates%22%3A%20%5B%5B%5B9.191755%2C%2045.443323%5D%2C%20%5B9.191769%2C%2045.443025%5D%2C%20%5B9.19177%2C%2045.443009%5D%2C%20%5B9.193444%2C%2045.441443%5D%2C%20%5B9.193594%2C%2045.441318%5D%2C%20%5B9.197676%2C%2045.438331%5D%2C%20%5B9.198606%2C%2045.437006%5D%2C%20%5B9.199839%2C%2045.435751%5D%2C%20%5B9.204524%2C%2045.433779%5D%2C%20%5B9.207873%2C%2045.434268%5D%2C%20%5B9.2114%2C%2045.434986%5D%2C%20%5B9.214392%2C%2045.433679%5D%2C%20%5B9.215401%2C%2045.433567%5D%2C%20%5B9.215538%2C%2045.433607%5D%2C%20%5B9.2179%2C%2045.43499%5D%2C%20%5B9.219771%2C%2045.436338%5D%2C%20%5B9.221385%2C%2045.437825%5D%2C%20%5B9.222305%2C%2045.439974%5D%2C%20%5B9.22346%2C%2045.443099%5D%2C%20%5B9.22393%2C%2045.445844%5D%2C%20%5B9.22393%2C%2045.446005%5D%2C%20%5B9.223089%2C%2045.447943%5D%2C%20%5B9.218906%2C%2045.450967%5D%2C%20%5B9.218906%2C%2045.450967%5D%2C%20%5B9.215739%2C%2045.451777%5D%2C%20%5B9.212471%2C%2045.452918%5D%2C%20%5B9.21076%2C%2045.453004%5D%2C%20%5B9.207704%2C%2045.452468%5D%2C%20%5B9.206032%2C%2045.452177%5D%2C%20%5B9.205803%2C%2045.452078%5D%2C%20%5B9.203893%2C%2045.450852%5D%2C%20%5B9.199259%2C%2045.448447%5D%2C%20%5B9.198178%2C%2045.448397%5D%2C%20%5B9.197704%2C%2045.448378%5D%2C%20%5B9.19685%2C%2045.448345%5D%2C%20%5B9.192464%2C%2045.444807%5D%2C%20%5B9.191755%2C%2045.443323%5D%5D%5D%2C%20%22type%22%3A%20%22Polygon%22%7D%2C%20%22id%22%3A%20%227%22%2C%20%22properties%22%3A%20%7B%22area%22%3A%203820144.23%2C%20%22latitude%22%3A%2045.4440458211788%2C%20%22longitude%22%3A%209.207912905011613%2C%20%22name%22%3A%20%22The%20FabLab%3A%20Make%20in%20Milano%22%2C%20%22reachfactor%22%3A%200.7782%2C%20%22total_pop%22%3A%2041892.0%7D%2C%20%22type%22%3A%20%22Feature%22%7D%2C%20%7B%22bbox%22%3A%20%5B9.217271%2C%2045.428801%2C%209.243504%2C%2045.448232%5D%2C%20%22geometry%22%3A%20%7B%22coordinates%22%3A%20%5B%5B%5B9.217271%2C%2045.440166%5D%2C%20%5B9.217548%2C%2045.437163%5D%2C%20%5B9.218912%2C%2045.433554%5D%2C%20%5B9.220593%2C%2045.43111%5D%2C%20%5B9.222881%2C%2045.429356%5D%2C%20%5B9.223735%2C%2045.428936%5D%2C%20%5B9.225082%2C%2045.428924%5D%2C%20%5B9.23029%2C%2045.431687%5D%2C%20%5B9.232053%2C%2045.430348%5D%2C%20%5B9.23223%2C%2045.430264%5D%2C%20%5B9.232232%2C%2045.430263%5D%2C%20%5B9.232541%2C%2045.430117%5D%2C%20%5B9.232912%2C%2045.430147%5D%2C%20%5B9.238513%2C%2045.428801%5D%2C%20%5B9.240832%2C%2045.428988%5D%2C%20%5B9.241702%2C%2045.429126%5D%2C%20%5B9.241899%2C%2045.429181%5D%2C%20%5B9.243504%2C%2045.431007%5D%2C%20%5B9.242816%2C%2045.435022%5D%2C%20%5B9.242812%2C%2045.435039%5D%2C%20%5B9.240958%2C%2045.436371%5D%2C%20%5B9.240786%2C%2045.43642%5D%2C%20%5B9.240676%2C%2045.436411%5D%2C%20%5B9.240376%2C%2045.436246%5D%2C%20%5B9.235462%2C%2045.436277%5D%2C%20%5B9.234112%2C%2045.438469%5D%2C%20%5B9.233119%2C%2045.441022%5D%2C%20%5B9.232217%2C%2045.44337%5D%2C%20%5B9.231283%2C%2045.446711%5D%2C%20%5B9.230981%2C%2045.447968%5D%2C%20%5B9.23074%2C%2045.448231%5D%2C%20%5B9.230734%2C%2045.448232%5D%2C%20%5B9.228786%2C%2045.448156%5D%2C%20%5B9.223816%2C%2045.448005%5D%2C%20%5B9.223746%2C%2045.448002%5D%2C%20%5B9.223512%2C%2045.447991%5D%2C%20%5B9.222664%2C%2045.447925%5D%2C%20%5B9.220796%2C%2045.446239%5D%2C%20%5B9.217922%2C%2045.444104%5D%2C%20%5B9.217637%2C%2045.443821%5D%2C%20%5B9.217271%2C%2045.440166%5D%5D%5D%2C%20%22type%22%3A%20%22Polygon%22%7D%2C%20%22id%22%3A%20%228%22%2C%20%22properties%22%3A%20%7B%22area%22%3A%202801791.89%2C%20%22latitude%22%3A%2045.43830458381551%2C%20%22longitude%22%3A%209.231811340285022%2C%20%22name%22%3A%20%22Vectorealism%20FabLab%22%2C%20%22reachfactor%22%3A%200.5708%2C%20%22total_pop%22%3A%2025436.0%7D%2C%20%22type%22%3A%20%22Feature%22%7D%2C%20%7B%22bbox%22%3A%20%5B9.164019%2C%2045.441589%2C%209.196355%2C%2045.464652%5D%2C%20%22geometry%22%3A%20%7B%22coordinates%22%3A%20%5B%5B%5B9.164019%2C%2045.451214%5D%2C%20%5B9.164776%2C%2045.447694%5D%2C%20%5B9.166416%2C%2045.446033%5D%2C%20%5B9.166742%2C%2045.445789%5D%2C%20%5B9.167367%2C%2045.445548%5D%2C%20%5B9.17132%2C%2045.443712%5D%2C%20%5B9.174333%2C%2045.441854%5D%2C%20%5B9.175706%2C%2045.441784%5D%2C%20%5B9.177355%2C%2045.441881%5D%2C%20%5B9.182303%2C%2045.441589%5D%2C%20%5B9.184694%2C%2045.443146%5D%2C%20%5B9.189202%2C%2045.444177%5D%2C%20%5B9.189666%2C%2045.444215%5D%2C%20%5B9.193534%2C%2045.447506%5D%2C%20%5B9.195425%2C%2045.448669%5D%2C%20%5B9.196047%2C%2045.450212%5D%2C%20%5B9.196355%2C%2045.452913%5D%2C%20%5B9.194006%2C%2045.456719%5D%2C%20%5B9.19206%2C%2045.459071%5D%2C%20%5B9.188257%2C%2045.461599%5D%2C%20%5B9.187103%2C%2045.462547%5D%2C%20%5B9.185034%2C%2045.463677%5D%2C%20%5B9.184898%2C%2045.463741%5D%2C%20%5B9.18449%2C%2045.463898%5D%2C%20%5B9.180983%2C%2045.464652%5D%2C%20%5B9.180569%2C%2045.464553%5D%2C%20%5B9.180386%2C%2045.4645%5D%2C%20%5B9.177301%2C%2045.46337%5D%2C%20%5B9.173876%2C%2045.462746%5D%2C%20%5B9.173847%2C%2045.462741%5D%2C%20%5B9.170581%2C%2045.461823%5D%2C%20%5B9.166352%2C%2045.459802%5D%2C%20%5B9.166288%2C%2045.459756%5D%2C%20%5B9.165603%2C%2045.458646%5D%2C%20%5B9.165601%2C%2045.458631%5D%2C%20%5B9.165126%2C%2045.454129%5D%2C%20%5B9.164019%2C%2045.451214%5D%5D%5D%2C%20%22type%22%3A%20%22Polygon%22%7D%2C%20%22id%22%3A%20%229%22%2C%20%22properties%22%3A%20%7B%22area%22%3A%204758037.48%2C%20%22latitude%22%3A%2045.45245728345691%2C%20%22longitude%22%3A%209.1798175115845%2C%20%22name%22%3A%20%22DamASpace%22%2C%20%22reachfactor%22%3A%200.9693%2C%20%22total_pop%22%3A%2057939.0%7D%2C%20%22type%22%3A%20%22Feature%22%7D%2C%20%7B%22bbox%22%3A%20%5B9.153313%2C%2045.437666%2C%209.184469%2C%2045.458786%5D%2C%20%22geometry%22%3A%20%7B%22coordinates%22%3A%20%5B%5B%5B9.153313%2C%2045.446886%5D%2C%20%5B9.153318%2C%2045.446871%5D%2C%20%5B9.155252%2C%2045.442684%5D%2C%20%5B9.156149%2C%2045.440667%5D%2C%20%5B9.158579%2C%2045.439527%5D%2C%20%5B9.159915%2C%2045.439051%5D%2C%20%5B9.165462%2C%2045.437666%5D%2C%20%5B9.165746%2C%2045.437686%5D%2C%20%5B9.167125%2C%2045.438227%5D%2C%20%5B9.172427%2C%2045.437777%5D%2C%20%5B9.172712%2C%2045.43776%5D%2C%20%5B9.172796%2C%2045.437793%5D%2C%20%5B9.173755%2C%2045.43838%5D%2C%20%5B9.178684%2C%2045.441641%5D%2C%20%5B9.179001%2C%2045.441829%5D%2C%20%5B9.1808%2C%2045.443385%5D%2C%20%5B9.183176%2C%2045.447469%5D%2C%20%5B9.184469%2C%2045.449405%5D%2C%20%5B9.184445%2C%2045.449521%5D%2C%20%5B9.183692%2C%2045.452306%5D%2C%20%5B9.182818%2C%2045.453866%5D%2C%20%5B9.182429%2C%2045.454449%5D%2C%20%5B9.182222%2C%2045.454663%5D%2C%20%5B9.181215%2C%2045.455372%5D%2C%20%5B9.175794%2C%2045.457818%5D%2C%20%5B9.175659%2C%2045.457917%5D%2C%20%5B9.175295%2C%2045.45815%5D%2C%20%5B9.175175%2C%2045.458172%5D%2C%20%5B9.171572%2C%2045.45853%5D%2C%20%5B9.16872%2C%2045.458786%5D%2C%20%5B9.16847%2C%2045.458771%5D%2C%20%5B9.167843%2C%2045.458626%5D%2C%20%5B9.167562%2C%2045.45854%5D%2C%20%5B9.165466%2C%2045.455538%5D%2C%20%5B9.161683%2C%2045.450971%5D%2C%20%5B9.158275%2C%2045.451187%5D%2C%20%5B9.157262%2C%2045.451394%5D%2C%20%5B9.154786%2C%2045.449493%5D%2C%20%5B9.154623%2C%2045.449277%5D%2C%20%5B9.153313%2C%2045.446886%5D%5D%5D%2C%20%22type%22%3A%20%22Polygon%22%7D%2C%20%22id%22%3A%20%2210%22%2C%20%22properties%22%3A%20%7B%22area%22%3A%203871424.57%2C%20%22latitude%22%3A%2045.44821912386584%2C%20%22longitude%22%3A%209.16895578261383%2C%20%22name%22%3A%20%22Miocugino%20-%20officina%20di%20gesta%20e%20ingegno%22%2C%20%22reachfactor%22%3A%200.7887000000000001%2C%20%22total_pop%22%3A%2039476.0%7D%2C%20%22type%22%3A%20%22Feature%22%7D%2C%20%7B%22bbox%22%3A%20%5B9.205273%2C%2045.439368%2C%209.235448%2C%2045.46162%5D%2C%20%22geometry%22%3A%20%7B%22coordinates%22%3A%20%5B%5B%5B9.205273%2C%2045.452732%5D%2C%20%5B9.205838%2C%2045.450119%5D%2C%20%5B9.207779%2C%2045.444949%5D%2C%20%5B9.21122%2C%2045.442901%5D%2C%20%5B9.214116%2C%2045.442702%5D%2C%20%5B9.214575%2C%2045.442692%5D%2C%20%5B9.219981%2C%2045.440932%5D%2C%20%5B9.220865%2C%2045.440352%5D%2C%20%5B9.220919%2C%2045.440321%5D%2C%20%5B9.223122%2C%2045.439611%5D%2C%20%5B9.224079%2C%2045.439369%5D%2C%20%5B9.224155%2C%2045.439368%5D%2C%20%5B9.227213%2C%2045.440726%5D%2C%20%5B9.228531%2C%2045.441673%5D%2C%20%5B9.233156%2C%2045.445341%5D%2C%20%5B9.232203%2C%2045.448812%5D%2C%20%5B9.235448%2C%2045.452723%5D%2C%20%5B9.235445%2C%2045.452839%5D%2C%20%5B9.232829%2C%2045.45644%5D%2C%20%5B9.230938%2C%2045.458092%5D%2C%20%5B9.225861%2C%2045.460854%5D%2C%20%5B9.224252%2C%2045.461523%5D%2C%20%5B9.223679%2C%2045.46162%5D%2C%20%5B9.22365%2C%2045.461619%5D%2C%20%5B9.220303%2C%2045.460684%5D%2C%20%5B9.216868%2C%2045.46119%5D%2C%20%5B9.216566%2C%2045.461136%5D%2C%20%5B9.212484%2C%2045.459785%5D%2C%20%5B9.212099%2C%2045.459623%5D%2C%20%5B9.207519%2C%2045.457331%5D%2C%20%5B9.207193%2C%2045.457082%5D%2C%20%5B9.206734%2C%2045.45651%5D%2C%20%5B9.205927%2C%2045.455356%5D%2C%20%5B9.205273%2C%2045.452732%5D%5D%5D%2C%20%22type%22%3A%20%22Polygon%22%7D%2C%20%22id%22%3A%20%2211%22%2C%20%22properties%22%3A%20%7B%22area%22%3A%204149059.46%2C%20%22latitude%22%3A%2045.45034823105788%2C%20%22longitude%22%3A%209.22096801664852%2C%20%22name%22%3A%20%22Opendot%22%2C%20%22reachfactor%22%3A%200.8452000000000001%2C%20%22total_pop%22%3A%2056925.0%7D%2C%20%22type%22%3A%20%22Feature%22%7D%2C%20%7B%22bbox%22%3A%20%5B9.154052%2C%2045.496255%2C%209.180927%2C%2045.517088%5D%2C%20%22geometry%22%3A%20%7B%22coordinates%22%3A%20%5B%5B%5B9.154052%2C%2045.507%5D%2C%20%5B9.154813%2C%2045.503315%5D%2C%20%5B9.155102%2C%2045.500718%5D%2C%20%5B9.155593%2C%2045.499843%5D%2C%20%5B9.156738%2C%2045.499198%5D%2C%20%5B9.157589%2C%2045.498878%5D%2C%20%5B9.157663%2C%2045.498897%5D%2C%20%5B9.160837%2C%2045.500194%5D%2C%20%5B9.165069%2C%2045.496633%5D%2C%20%5B9.167184%2C%2045.496533%5D%2C%20%5B9.172185%2C%2045.496255%5D%2C%20%5B9.172261%2C%2045.49626%5D%2C%20%5B9.175467%2C%2045.499092%5D%2C%20%5B9.176583%2C%2045.50045%5D%2C%20%5B9.179927%2C%2045.504075%5D%2C%20%5B9.180913%2C%2045.506718%5D%2C%20%5B9.180927%2C%2045.506802%5D%2C%20%5B9.180734%2C%2045.507066%5D%2C%20%5B9.180143%2C%2045.507817%5D%2C%20%5B9.179146%2C%2045.509235%5D%2C%20%5B9.177226%2C%2045.513226%5D%2C%20%5B9.174936%2C%2045.513846%5D%2C%20%5B9.171903%2C%2045.514508%5D%2C%20%5B9.168438%2C%2045.517088%5D%2C%20%5B9.164717%2C%2045.516221%5D%2C%20%5B9.164377%2C%2045.516142%5D%2C%20%5B9.161679%2C%2045.515322%5D%2C%20%5B9.159778%2C%2045.514033%5D%2C%20%5B9.159457%2C%2045.513613%5D%2C%20%5B9.156749%2C%2045.509385%5D%2C%20%5B9.154052%2C%2045.507%5D%5D%5D%2C%20%22type%22%3A%20%22Polygon%22%7D%2C%20%22id%22%3A%20%2212%22%2C%20%22properties%22%3A%20%7B%22area%22%3A%203345806.28%2C%20%22latitude%22%3A%2045.506449418184594%2C%20%22longitude%22%3A%209.166295669123226%2C%20%22name%22%3A%20%22Polifactory%22%2C%20%22reachfactor%22%3A%200.6816%2C%20%22total_pop%22%3A%2030621.0%7D%2C%20%22type%22%3A%20%22Feature%22%7D%2C%20%7B%22bbox%22%3A%20%5B9.162667%2C%2045.491562%2C%209.190237%2C%2045.510774%5D%2C%20%22geometry%22%3A%20%7B%22coordinates%22%3A%20%5B%5B%5B9.162667%2C%2045.499087%5D%2C%20%5B9.163308%2C%2045.496713%5D%2C%20%5B9.163656%2C%2045.495791%5D%2C%20%5B9.163903%2C%2045.495673%5D%2C%20%5B9.168594%2C%2045.49584%5D%2C%20%5B9.173344%2C%2045.494823%5D%2C%20%5B9.176215%2C%2045.49511%5D%2C%20%5B9.180104%2C%2045.493059%5D%2C%20%5B9.182323%2C%2045.491862%5D%2C%20%5B9.183378%2C%2045.491562%5D%2C%20%5B9.185907%2C%2045.492425%5D%2C%20%5B9.185944%2C%2045.49244%5D%2C%20%5B9.186205%2C%2045.492561%5D%2C%20%5B9.186714%2C%2045.492926%5D%2C%20%5B9.190221%2C%2045.496285%5D%2C%20%5B9.190237%2C%2045.496328%5D%2C%20%5B9.190068%2C%2045.498421%5D%2C%20%5B9.190066%2C%2045.498437%5D%2C%20%5B9.18958%2C%2045.499279%5D%2C%20%5B9.1895%2C%2045.499339%5D%2C%20%5B9.188243%2C%2045.500259%5D%2C%20%5B9.186811%2C%2045.504862%5D%2C%20%5B9.184786%2C%2045.507177%5D%2C%20%5B9.183517%2C%2045.507818%5D%2C%20%5B9.181758%2C%2045.508576%5D%2C%20%5B9.177925%2C%2045.509974%5D%2C%20%5B9.172196%2C%2045.510774%5D%2C%20%5B9.171754%2C%2045.510638%5D%2C%20%5B9.170605%2C%2045.50936%5D%2C%20%5B9.166715%2C%2045.505648%5D%2C%20%5B9.165501%2C%2045.505669%5D%2C%20%5B9.165441%2C%2045.505652%5D%2C%20%5B9.163787%2C%2045.503898%5D%2C%20%5B9.162667%2C%2045.499087%5D%5D%5D%2C%20%22type%22%3A%20%22Polygon%22%7D%2C%20%22id%22%3A%20%2213%22%2C%20%22properties%22%3A%20%7B%22area%22%3A%203035830.35%2C%20%22latitude%22%3A%2045.499039020857865%2C%20%22longitude%22%3A%209.1751237151523%2C%20%22name%22%3A%20%22WeMake%20%7C%20Makerspace%20Fablab%22%2C%20%22reachfactor%22%3A%200.6185%2C%20%22total_pop%22%3A%2040873.0%7D%2C%20%22type%22%3A%20%22Feature%22%7D%2C%20%7B%22bbox%22%3A%20%5B9.230923%2C%2045.472304%2C%209.259324%2C%2045.494767%5D%2C%20%22geometry%22%3A%20%7B%22coordinates%22%3A%20%5B%5B%5B9.230923%2C%2045.486148%5D%2C%20%5B9.230924%2C%2045.486095%5D%2C%20%5B9.231455%2C%2045.482405%5D%2C%20%5B9.231051%2C%2045.478503%5D%2C%20%5B9.231064%2C%2045.478489%5D%2C%20%5B9.235333%2C%2045.476681%5D%2C%20%5B9.239858%2C%2045.474497%5D%2C%20%5B9.242775%2C%2045.474012%5D%2C%20%5B9.247788%2C%2045.472326%5D%2C%20%5B9.248025%2C%2045.472304%5D%2C%20%5B9.248406%2C%2045.472306%5D%2C%20%5B9.248627%2C%2045.472357%5D%2C%20%5B9.253071%2C%2045.475871%5D%2C%20%5B9.253488%2C%2045.476034%5D%2C%20%5B9.253617%2C%2045.476122%5D%2C%20%5B9.253998%2C%2045.477012%5D%2C%20%5B9.257064%2C%2045.481048%5D%2C%20%5B9.259313%2C%2045.486248%5D%2C%20%5B9.259324%2C%2045.486307%5D%2C%20%5B9.258855%2C%2045.487811%5D%2C%20%5B9.258425%2C%2045.488724%5D%2C%20%5B9.253786%2C%2045.492169%5D%2C%20%5B9.251349%2C%2045.49374%5D%2C%20%5B9.249823%2C%2045.494566%5D%2C%20%5B9.249357%2C%2045.49474%5D%2C%20%5B9.249331%2C%2045.494741%5D%2C%20%5B9.246739%2C%2045.494767%5D%2C%20%5B9.246425%2C%2045.494764%5D%2C%20%5B9.24561%2C%2045.494669%5D%2C%20%5B9.242713%2C%2045.493932%5D%2C%20%5B9.239201%2C%2045.493143%5D%2C%20%5B9.236455%2C%2045.490915%5D%2C%20%5B9.232519%2C%2045.487907%5D%2C%20%5B9.230923%2C%2045.486148%5D%5D%5D%2C%20%22type%22%3A%20%22Polygon%22%7D%2C%20%22id%22%3A%20%2214%22%2C%20%22properties%22%3A%20%7B%22area%22%3A%203917143.24%2C%20%22latitude%22%3A%2045.4842083864999%2C%20%22longitude%22%3A%209.245129470972836%2C%20%22name%22%3A%20%22FabLab%20Ventura%22%2C%20%22reachfactor%22%3A%200.798%2C%20%22total_pop%22%3A%2023992.0%7D%2C%20%22type%22%3A%20%22Feature%22%7D%2C%20%7B%22bbox%22%3A%20%5B9.139139%2C%2045.493676%2C%209.166193%2C%2045.511505%5D%2C%20%22geometry%22%3A%20%7B%22coordinates%22%3A%20%5B%5B%5B9.139139%2C%2045.498491%5D%2C%20%5B9.140176%2C%2045.497031%5D%2C%20%5B9.141454%2C%2045.496552%5D%2C%20%5B9.146573%2C%2045.494111%5D%2C%20%5B9.14852%2C%2045.493851%5D%2C%20%5B9.154347%2C%2045.493746%5D%2C%20%5B9.155324%2C%2045.493705%5D%2C%20%5B9.156066%2C%2045.493676%5D%2C%20%5B9.156147%2C%2045.493727%5D%2C%20%5B9.15794%2C%2045.495398%5D%2C%20%5B9.161489%2C%2045.496692%5D%2C%20%5B9.165117%2C%2045.500296%5D%2C%20%5B9.166068%2C%2045.501115%5D%2C%20%5B9.166193%2C%2045.502133%5D%2C%20%5B9.166153%2C%2045.503919%5D%2C%20%5B9.165928%2C%2045.504772%5D%2C%20%5B9.165659%2C%2045.505485%5D%2C%20%5B9.16494%2C%2045.50609%5D%2C%20%5B9.16165%2C%2045.507165%5D%2C%20%5B9.161567%2C%2045.507184%5D%2C%20%5B9.1609%2C%2045.50703%5D%2C%20%5B9.160497%2C%2045.506905%5D%2C%20%5B9.157848%2C%2045.506487%5D%2C%20%5B9.157842%2C%2045.506407%5D%2C%20%5B9.153016%2C%2045.503265999999996%5D%2C%20%5B9.150968%2C%2045.50817%5D%2C%20%5B9.14929%2C%2045.511355%5D%2C%20%5B9.147301%2C%2045.511505%5D%2C%20%5B9.146899%2C%2045.511446%5D%2C%20%5B9.145492%2C%2045.50934%5D%2C%20%5B9.145434%2C%2045.50925%5D%2C%20%5B9.142373%2C%2045.505886%5D%2C%20%5B9.140696%2C%2045.504743%5D%2C%20%5B9.139676%2C%2045.504169%5D%2C%20%5B9.139474%2C%2045.503334%5D%2C%20%5B9.139457%2C%2045.503257%5D%2C%20%5B9.139228%2C%2045.500591%5D%2C%20%5B9.139139%2C%2045.498491%5D%5D%5D%2C%20%22type%22%3A%20%22Polygon%22%7D%2C%20%22id%22%3A%20%2215%22%2C%20%22properties%22%3A%20%7B%22area%22%3A%202640570.64%2C%20%22latitude%22%3A%2045.50542134145349%2C%20%22longitude%22%3A%209.152947547090642%2C%20%22name%22%3A%20%22FabLabMilano%20-%20Fare%20le%20Idee%22%2C%20%22reachfactor%22%3A%200.5379%2C%20%22total_pop%22%3A%2023952.0%7D%2C%20%22type%22%3A%20%22Feature%22%7D%2C%20%7B%22bbox%22%3A%20%5B9.136459%2C%2045.366384%2C%209.158417%2C%2045.386292%5D%2C%20%22geometry%22%3A%20%7B%22coordinates%22%3A%20%5B%5B%5B9.136459%2C%2045.369091%5D%2C%20%5B9.136597%2C%2045.36892%5D%2C%20%5B9.136874%2C%2045.368796%5D%2C%20%5B9.138738%2C%2045.368526%5D%2C%20%5B9.143771%2C%2045.368279%5D%2C%20%5B9.144827%2C%2045.367437%5D%2C%20%5B9.145544%2C%2045.367119%5D%2C%20%5B9.151374%2C%2045.366384%5D%2C%20%5B9.152355%2C%2045.366442%5D%2C%20%5B9.152646%2C%2045.366653%5D%2C%20%5B9.153531%2C%2045.368563%5D%2C%20%5B9.156263%2C%2045.373775%5D%2C%20%5B9.156995%2C%2045.374783%5D%2C%20%5B9.158228%2C%2045.376615%5D%2C%20%5B9.158346%2C%2045.376957%5D%2C%20%5B9.158417%2C%2045.381451%5D%2C%20%5B9.158312%2C%2045.381795%5D%2C%20%5B9.156113%2C%2045.382249%5D%2C%20%5B9.152492%2C%2045.384305%5D%2C%20%5B9.152184%2C%2045.38449%5D%2C%20%5B9.146593%2C%2045.385841%5D%2C%20%5B9.146282%2C%2045.386023%5D%2C%20%5B9.145641%2C%2045.386292%5D%2C%20%5B9.142732%2C%2045.381082%5D%2C%20%5B9.142059%2C%2045.379883%5D%2C%20%5B9.140889%2C%2045.377791%5D%2C%20%5B9.139718%2C%2045.375699%5D%2C%20%5B9.138112%2C%2045.371495%5D%2C%20%5B9.136511%2C%2045.369178%5D%2C%20%5B9.136459%2C%2045.369091%5D%5D%5D%2C%20%22type%22%3A%20%22Polygon%22%7D%2C%20%22id%22%3A%20%2216%22%2C%20%22properties%22%3A%20%7B%22area%22%3A%202416668.99%2C%20%22latitude%22%3A%2045.37621908135071%2C%20%22longitude%22%3A%209.145409811447047%2C%20%22name%22%3A%20%22Multilab%20Rozzano%22%2C%20%22reachfactor%22%3A%200.4923%2C%20%22total_pop%22%3A%2015240.0%7D%2C%20%22type%22%3A%20%22Feature%22%7D%2C%20%7B%22bbox%22%3A%20%5B1.975744%2C%2041.266309%2C%201.9965009999999999%2C%2041.284121999999996%5D%2C%20%22geometry%22%3A%20%7B%22coordinates%22%3A%20%5B%5B%5B1.975744%2C%2041.272696%5D%2C%20%5B1.9757959999999999%2C%2041.272339%5D%2C%20%5B1.977291%2C%2041.271283%5D%2C%20%5B1.9800589999999998%2C%2041.269516%5D%2C%20%5B1.9819559999999998%2C%2041.268439%5D%2C%20%5B1.982316%2C%2041.268433%5D%2C%20%5B1.986882%2C%2041.268329%5D%2C%20%5B1.9914079999999998%2C%2041.266487%5D%2C%20%5B1.991695%2C%2041.266309%5D%2C%20%5B1.992055%2C%2041.266316%5D%2C%20%5B1.993744%2C%2041.267261%5D%2C%20%5B1.996494%2C%2041.269328%5D%2C%20%5B1.9965009999999999%2C%2041.269688%5D%2C%20%5B1.994069%2C%2041.270632%5D%2C%20%5B1.991092%2C%2041.275036%5D%2C%20%5B1.990662%2C%2041.276907%5D%2C%20%5B1.99062%2C%2041.277277%5D%2C%20%5B1.991291%2C%2041.282215%5D%2C%20%5B1.991021%2C%2041.283534%5D%2C%20%5B1.990816%2C%2041.283829%5D%2C%20%5B1.989344%2C%2041.284093%5D%2C%20%5B1.98486%2C%2041.284121999999996%5D%2C%20%5B1.984662%2C%2041.284109%5D%2C%20%5B1.984591%2C%2041.283883%5D%2C%20%5B1.983787%2C%2041.281845%5D%2C%20%5B1.9788009999999998%2C%2041.279822%5D%2C%20%5B1.9783819999999999%2C%2041.279784%5D%2C%20%5B1.977598%2C%2041.278734%5D%2C%20%5B1.9766849999999998%2C%2041.276281%5D%2C%20%5B1.976327%2C%2041.275095%5D%2C%20%5B1.975744%2C%2041.272696%5D%5D%5D%2C%20%22type%22%3A%20%22Polygon%22%7D%2C%20%22id%22%3A%20%2217%22%2C%20%22properties%22%3A%20%7B%22area%22%3A%202012387.44%2C%20%22latitude%22%3A%2041.27620125260372%2C%20%22longitude%22%3A%201.9889505536364671%2C%20%22name%22%3A%20%22Fab%20Lab%20Tinkerers%22%2C%20%22reachfactor%22%3A%200.41000000000000003%2C%20%22total_pop%22%3A%2011866.0%7D%2C%20%22type%22%3A%20%22Feature%22%7D%2C%20%7B%22bbox%22%3A%20%5B2.000793%2C%2041.306093%2C%202.026823%2C%2041.324506%5D%2C%20%22geometry%22%3A%20%7B%22coordinates%22%3A%20%5B%5B%5B2.000793%2C%2041.311414%5D%2C%20%5B2.00549%2C%2041.308213%5D%2C%20%5B2.005494%2C%2041.308211%5D%2C%20%5B2.009372%2C%2041.30697%5D%2C%20%5B2.012998%2C%2041.306093%5D%2C%20%5B2.013412%2C%2041.306471%5D%2C%20%5B2.019025%2C%2041.306504%5D%2C%20%5B2.021334%2C%2041.306451%5D%2C%20%5B2.024353%2C%2041.308234%5D%2C%20%5B2.025942%2C%2041.312425%5D%2C%20%5B2.026335%2C%2041.314126%5D%2C%20%5B2.026817%2C%2041.317011%5D%2C%20%5B2.026823%2C%2041.317067%5D%2C%20%5B2.026337%2C%2041.31996%5D%2C%20%5B2.026119%2C%2041.320247%5D%2C%20%5B2.024564%2C%2041.321684%5D%2C%20%5B2.021727%2C%2041.322326%5D%2C%20%5B2.018621%2C%2041.323704%5D%2C%20%5B2.016866%2C%2041.32415%5D%2C%20%5B2.011623%2C%2041.324305%5D%2C%20%5B2.007946%2C%2041.324506%5D%2C%20%5B2.007376%2C%2041.324444%5D%2C%20%5B2.005349%2C%2041.323403%5D%2C%20%5B2.004026%2C%2041.322105%5D%2C%20%5B2.001929%2C%2041.317972%5D%2C%20%5B2.001675%2C%2041.317263%5D%2C%20%5B2.001485%2C%2041.316511%5D%2C%20%5B2.000838%2C%2041.311772%5D%2C%20%5B2.000793%2C%2041.311414%5D%5D%5D%2C%20%22type%22%3A%20%22Polygon%22%7D%2C%20%22id%22%3A%20%2218%22%2C%20%22properties%22%3A%20%7B%22area%22%3A%203592256.2%2C%20%22latitude%22%3A%2041.31567763555224%2C%20%22longitude%22%3A%202.014245119250698%2C%20%22name%22%3A%20%22W%21LAB%22%2C%20%22reachfactor%22%3A%200.7318%2C%20%22total_pop%22%3A%2028366.0%7D%2C%20%22type%22%3A%20%22Feature%22%7D%2C%20%7B%22bbox%22%3A%20%5B9.214953%2C%2045.464713%2C%209.24298%2C%2045.489739%5D%2C%20%22geometry%22%3A%20%7B%22coordinates%22%3A%20%5B%5B%5B9.214953%2C%2045.479033%5D%2C%20%5B9.215226%2C%2045.473561%5D%2C%20%5B9.215252%2C%2045.472771%5D%2C%20%5B9.215387%2C%2045.472242%5D%2C%20%5B9.216443%2C%2045.471468%5D%2C%20%5B9.216745%2C%2045.471381%5D%2C%20%5B9.22207%2C%2045.469077%5D%2C%20%5B9.22617%2C%2045.46659%5D%2C%20%5B9.230163%2C%2045.464713%5D%2C%20%5B9.230263%2C%2045.464713%5D%2C%20%5B9.233102%2C%2045.466096%5D%2C%20%5B9.236492%2C%2045.467694%5D%2C%20%5B9.237954%2C%2045.469125%5D%2C%20%5B9.239448%2C%2045.470624%5D%2C%20%5B9.239453%2C%2045.470828%5D%2C%20%5B9.237998%2C%2045.472725%5D%2C%20%5B9.236635%2C%2045.477388%5D%2C%20%5B9.240295%2C%2045.479712%5D%2C%20%5B9.241906%2C%2045.47931%5D%2C%20%5B9.241954%2C%2045.479321%5D%2C%20%5B9.24298%2C%2045.481978%5D%2C%20%5B9.24292%2C%2045.482298%5D%2C%20%5B9.242577%2C%2045.483947%5D%2C%20%5B9.242471%2C%2045.484059%5D%2C%20%5B9.23928%2C%2045.486276%5D%2C%20%5B9.238353%2C%2045.486876%5D%2C%20%5B9.237876%2C%2045.487183%5D%2C%20%5B9.235581%2C%2045.487923%5D%2C%20%5B9.235544%2C%2045.487923%5D%2C%20%5B9.231827%2C%2045.488499%5D%2C%20%5B9.229711%2C%2045.489739%5D%2C%20%5B9.22906%2C%2045.489733%5D%2C%20%5B9.226334%2C%2045.487861%5D%2C%20%5B9.222969%2C%2045.486059%5D%2C%20%5B9.220856%2C%2045.485146%5D%2C%20%5B9.217535%2C%2045.482849%5D%2C%20%5B9.215128%2C%2045.479397%5D%2C%20%5B9.214955%2C%2045.47912%5D%2C%20%5B9.214953%2C%2045.479033%5D%5D%5D%2C%20%22type%22%3A%20%22Polygon%22%7D%2C%20%22id%22%3A%20%2219%22%2C%20%22properties%22%3A%20%7B%22area%22%3A%203956166.76%2C%20%22latitude%22%3A%2045.47734705354876%2C%20%22longitude%22%3A%209.230417983925612%2C%20%22name%22%3A%20%22Politecnico%20Open%20unix%20Labs%22%2C%20%22reachfactor%22%3A%200.8059000000000001%2C%20%22total_pop%22%3A%2061767.0%7D%2C%20%22type%22%3A%20%22Feature%22%7D%2C%20%7B%22bbox%22%3A%20%5B2.188509%2C%2041.397788%2C%202.218707%2C%2041.418404%5D%2C%20%22geometry%22%3A%20%7B%22coordinates%22%3A%20%5B%5B%5B2.188509%2C%2041.405174%5D%2C%20%5B2.189047%2C%2041.402953%5D%2C%20%5B2.189539%2C%2041.402556%5D%2C%20%5B2.189654%2C%2041.402464%5D%2C%20%5B2.190717%2C%2041.401622%5D%2C%20%5B2.195177%2C%2041.398191%5D%2C%20%5B2.195358%2C%2041.398067%5D%2C%20%5B2.200008%2C%2041.397937%5D%2C%20%5B2.204065%2C%2041.397788%5D%2C%20%5B2.208465%2C%2041.39803%5D%2C%20%5B2.21341%2C%2041.398132%5D%2C%20%5B2.215481%2C%2041.399579%5D%2C%20%5B2.215656%2C%2041.399886%5D%2C%20%5B2.217095%2C%2041.403256%5D%2C%20%5B2.218643%2C%2041.407741%5D%2C%20%5B2.218707%2C%2041.409518%5D%2C%20%5B2.218433%2C%2041.411008%5D%2C%20%5B2.217842%2C%2041.413012%5D%2C%20%5B2.216707%2C%2041.415875%5D%2C%20%5B2.216688%2C%2041.415891%5D%2C%20%5B2.216684%2C%2041.415894%5D%2C%20%5B2.216665%2C%2041.41591%5D%2C%20%5B2.212949%2C%2041.417285%5D%2C%20%5B2.208522%2C%2041.418257%5D%2C%20%5B2.206549%2C%2041.418404%5D%2C%20%5B2.20615%2C%2041.418357%5D%2C%20%5B2.200649%2C%2041.417741%5D%2C%20%5B2.195338%2C%2041.417137%5D%2C%20%5B2.194087%2C%2041.417134%5D%2C%20%5B2.192928%2C%2041.417078%5D%2C%20%5B2.192683%2C%2041.417001%5D%2C%20%5B2.192648%2C%2041.416975%5D%2C%20%5B2.192284%2C%2041.416703%5D%2C%20%5B2.192223%2C%2041.416657%5D%2C%20%5B2.1921%2C%2041.416455%5D%2C%20%5B2.191752%2C%2041.415067%5D%2C%20%5B2.191095%2C%2041.412391%5D%2C%20%5B2.18974%2C%2041.408798%5D%2C%20%5B2.188509%2C%2041.405174%5D%5D%5D%2C%20%22type%22%3A%20%22Polygon%22%7D%2C%20%22id%22%3A%20%2220%22%2C%20%22properties%22%3A%20%7B%22area%22%3A%204813516.77%2C%20%22latitude%22%3A%2041.40800712230815%2C%20%22longitude%22%3A%202.203959826655459%2C%20%22name%22%3A%20%22Danaus%22%2C%20%22reachfactor%22%3A%200.9806%2C%20%22total_pop%22%3A%20100054.0%7D%2C%20%22type%22%3A%20%22Feature%22%7D%2C%20%7B%22bbox%22%3A%20%5B2.178987%2C%2041.399536%2C%202.204285%2C%2041.422577%5D%2C%20%22geometry%22%3A%20%7B%22coordinates%22%3A%20%5B%5B%5B2.178987%2C%2041.413061%5D%2C%20%5B2.179191%2C%2041.40872%5D%2C%20%5B2.179171%2C%2041.406888%5D%2C%20%5B2.179231%2C%2041.405305%5D%2C%20%5B2.179663%2C%2041.403306%5D%2C%20%5B2.179918%2C%2041.402998%5D%2C%20%5B2.179943%2C%2041.402969%5D%2C%20%5B2.183001%2C%2041.400564%5D%2C%20%5B2.183227%2C%2041.400386%5D%2C%20%5B2.18371%2C%2041.400112%5D%2C%20%5B2.186675%2C%2041.399536%5D%2C%20%5B2.186803%2C%2041.399541%5D%2C%20%5B2.192332%2C%2041.40001%5D%2C%20%5B2.197831%2C%2041.401294%5D%2C%20%5B2.198738%2C%2041.401325%5D%2C%20%5B2.198942%2C%2041.401335%5D%2C%20%5B2.201881%2C%2041.402539%5D%2C%20%5B2.203306%2C%2041.404169%5D%2C%20%5B2.204285%2C%2041.407752%5D%2C%20%5B2.20369%2C%2041.413146%5D%2C%20%5B2.203476%2C%2041.415455%5D%2C%20%5B2.203017%2C%2041.418084%5D%2C%20%5B2.201786%2C%2041.420552%5D%2C%20%5B2.201623%2C%2041.420621%5D%2C%20%5B2.196888%2C%2041.421331%5D%2C%20%5B2.191568%2C%2041.422577%5D%2C%20%5B2.186204%2C%2041.422155%5D%2C%20%5B2.181437%2C%2041.420561%5D%2C%20%5B2.180606%2C%2041.419936%5D%2C%20%5B2.180509%2C%2041.419744%5D%2C%20%5B2.179872%2C%2041.416053%5D%2C%20%5B2.178987%2C%2041.413061%5D%5D%5D%2C%20%22type%22%3A%20%22Polygon%22%7D%2C%20%22id%22%3A%20%2221%22%2C%20%22properties%22%3A%20%7B%22area%22%3A%204597828.76%2C%20%22latitude%22%3A%2041.41105433376162%2C%20%22longitude%22%3A%202.191145940148218%2C%20%22name%22%3A%20%22AKASHA%20Hub%20Barcelona%22%2C%20%22reachfactor%22%3A%200.9367000000000001%2C%20%22total_pop%22%3A%2095436.0%7D%2C%20%22type%22%3A%20%22Feature%22%7D%2C%20%7B%22bbox%22%3A%20%5B2.140364%2C%2041.372518%2C%202.167762%2C%2041.392867%5D%2C%20%22geometry%22%3A%20%7B%22coordinates%22%3A%20%5B%5B%5B2.140364%2C%2041.381257%5D%2C%20%5B2.140654%2C%2041.379427%5D%2C%20%5B2.142561%2C%2041.376086%5D%2C%20%5B2.142738%2C%2041.375814%5D%2C%20%5B2.143016%2C%2041.375546%5D%2C%20%5B2.143202%2C%2041.375372%5D%2C%20%5B2.145873%2C%2041.3734%5D%2C%20%5B2.147145%2C%2041.372597999999996%5D%2C%20%5B2.147204%2C%2041.372594%5D%2C%20%5B2.147411%2C%2041.37259%5D%2C%20%5B2.149725%2C%2041.372556%5D%2C%20%5B2.155627%2C%2041.372518%5D%2C%20%5B2.16151%2C%2041.373045%5D%2C%20%5B2.161629%2C%2041.373044%5D%2C%20%5B2.162691%2C%2041.373036%5D%2C%20%5B2.162926%2C%2041.373036%5D%2C%20%5B2.163489%2C%2041.373035%5D%2C%20%5B2.16358%2C%2041.373035%5D%2C%20%5B2.164138%2C%2041.373195%5D%2C%20%5B2.164249%2C%2041.373244%5D%2C%20%5B2.166429%2C%2041.375286%5D%2C%20%5B2.167687%2C%2041.379053%5D%2C%20%5B2.167762%2C%2041.37946%5D%2C%20%5B2.16715%2C%2041.385282%5D%2C%20%5B2.166795%2C%2041.388336%5D%2C%20%5B2.166473%2C%2041.390939%5D%2C%20%5B2.166382%2C%2041.39133%5D%2C%20%5B2.166124%2C%2041.391526%5D%2C%20%5B2.165142%2C%2041.392236%5D%2C%20%5B2.164149%2C%2041.392395%5D%2C%20%5B2.161037%2C%2041.392763%5D%2C%20%5B2.15633%2C%2041.392867%5D%2C%20%5B2.154187%2C%2041.392853%5D%2C%20%5B2.153603%2C%2041.392832%5D%2C%20%5B2.151256%2C%2041.392761%5D%2C%20%5B2.148947%2C%2041.392637%5D%2C%20%5B2.148874%2C%2041.392631%5D%2C%20%5B2.146359%2C%2041.392381%5D%2C%20%5B2.145753%2C%2041.392054%5D%2C%20%5B2.142654%2C%2041.3897%5D%2C%20%5B2.142367%2C%2041.389337%5D%2C%20%5B2.141964%2C%2041.387489%5D%2C%20%5B2.140425%2C%2041.381937%5D%2C%20%5B2.140369%2C%2041.38135%5D%2C%20%5B2.140364%2C%2041.381257%5D%5D%5D%2C%20%22type%22%3A%20%22Polygon%22%7D%2C%20%22id%22%3A%20%2222%22%2C%20%22properties%22%3A%20%7B%22area%22%3A%204530943.82%2C%20%22latitude%22%3A%2041.38304792762858%2C%20%22longitude%22%3A%202.1542502401473262%2C%20%22name%22%3A%20%22DIY%20Bio%20Barcelona%22%2C%20%22reachfactor%22%3A%200.923%2C%20%22total_pop%22%3A%2099832.0%7D%2C%20%22type%22%3A%20%22Feature%22%7D%2C%20%7B%22bbox%22%3A%20%5B2.167615%2C%2041.376844%2C%202.193379%2C%2041.39896%5D%2C%20%22geometry%22%3A%20%7B%22coordinates%22%3A%20%5B%5B%5B2.167615%2C%2041.387367%5D%2C%20%5B2.168031%2C%2041.385437%5D%2C%20%5B2.168487%2C%2041.380678%5D%2C%20%5B2.168488%2C%2041.380677%5D%2C%20%5B2.171599%2C%2041.378902%5D%2C%20%5B2.174085%2C%2041.37736%5D%2C%20%5B2.17835%2C%2041.376844%5D%2C%20%5B2.182757%2C%2041.377233%5D%2C%20%5B2.188012%2C%2041.377884%5D%2C%20%5B2.188087%2C%2041.3779%5D%2C%20%5B2.1884069999999998%2C%2041.378273%5D%2C%20%5B2.189829%2C%2041.380123%5D%2C%20%5B2.191677%2C%2041.383094%5D%2C%20%5B2.193379%2C%2041.385192%5D%2C%20%5B2.19336%2C%2041.385381%5D%2C%20%5B2.19219%2C%2041.389507%5D%2C%20%5B2.19238%2C%2041.391597%5D%2C%20%5B2.192922%2C%2041.393369%5D%2C%20%5B2.192891%2C%2041.39354%5D%2C%20%5B2.191892%2C%2041.395648%5D%2C%20%5B2.191884%2C%2041.395654%5D%2C%20%5B2.191858%2C%2041.395674%5D%2C%20%5B2.19185%2C%2041.39568%5D%2C%20%5B2.190465%2C%2041.3964%5D%2C%20%5B2.185266%2C%2041.398161%5D%2C%20%5B2.182519%2C%2041.398781%5D%2C%20%5B2.181587%2C%2041.398953%5D%2C%20%5B2.181484%2C%2041.39896%5D%2C%20%5B2.17656%2C%2041.397989%5D%2C%20%5B2.175052%2C%2041.397904%5D%2C%20%5B2.174545%2C%2041.397893%5D%2C%20%5B2.170077%2C%2041.396639%5D%2C%20%5B2.170024%2C%2041.396599%5D%2C%20%5B2.169526%2C%2041.396218%5D%2C%20%5B2.169467%2C%2041.396065%5D%2C%20%5B2.167943%2C%2041.391638%5D%2C%20%5B2.167651%2C%2041.387989%5D%2C%20%5B2.167615%2C%2041.387367%5D%5D%5D%2C%20%22type%22%3A%20%22Polygon%22%7D%2C%20%22id%22%3A%20%2223%22%2C%20%22properties%22%3A%20%7B%22area%22%3A%204350192.44%2C%20%22latitude%22%3A%2041.387737414275676%2C%20%22longitude%22%3A%202.181013540147451%2C%20%22name%22%3A%20%22Maker%20Convent%22%2C%20%22reachfactor%22%3A%200.8862%2C%20%22total_pop%22%3A%2086144.0%7D%2C%20%22type%22%3A%20%22Feature%22%7D%2C%20%7B%22bbox%22%3A%20%5B2.12256%2C%2041.372041%2C%202.148051%2C%2041.39347%5D%2C%20%22geometry%22%3A%20%7B%22coordinates%22%3A%20%5B%5B%5B2.12256%2C%2041.381503%5D%2C%20%5B2.122925%2C%2041.377277%5D%2C%20%5B2.123992%2C%2041.375881%5D%2C%20%5B2.12411%2C%2041.375752%5D%2C%20%5B2.124182%2C%2041.375714%5D%2C%20%5B2.12731%2C%2041.374995%5D%2C%20%5B2.130573%2C%2041.37381%5D%2C%20%5B2.134336%2C%2041.372597%5D%2C%20%5B2.136872%2C%2041.372079%5D%2C%20%5B2.13892%2C%2041.372041%5D%2C%20%5B2.138988%2C%2041.372054%5D%2C%20%5B2.141107%2C%2041.372624%5D%2C%20%5B2.145423%2C%2041.375496%5D%2C%20%5B2.146525%2C%2041.376357%5D%2C%20%5B2.1475400000000002%2C%2041.378474%5D%2C%20%5B2.147642%2C%2041.37873%5D%2C%20%5B2.147927%2C%2041.382173%5D%2C%20%5B2.147951%2C%2041.382602%5D%2C%20%5B2.147992%2C%2041.383912%5D%2C%20%5B2.148051%2C%2041.385594%5D%2C%20%5B2.148029%2C%2041.386925%5D%2C%20%5B2.147893%2C%2041.389122%5D%2C%20%5B2.144651%2C%2041.392091%5D%2C%20%5B2.144319%2C%2041.392308%5D%2C%20%5B2.141492%2C%2041.39275%5D%2C%20%5B2.140894%2C%2041.392843%5D%2C%20%5B2.136898%2C%2041.393445%5D%2C%20%5B2.132702%2C%2041.39347%5D%2C%20%5B2.131622%2C%2041.393435%5D%2C%20%5B2.127234%2C%2041.392067%5D%2C%20%5B2.125961%2C%2041.39158%5D%2C%20%5B2.124199%2C%2041.389567%5D%2C%20%5B2.123325%2C%2041.387558%5D%2C%20%5B2.122702%2C%2041.383089%5D%2C%20%5B2.12256%2C%2041.381503%5D%5D%5D%2C%20%22type%22%3A%20%22Polygon%22%7D%2C%20%22id%22%3A%20%2224%22%2C%20%22properties%22%3A%20%7B%22area%22%3A%204228829.86%2C%20%22latitude%22%3A%2041.38366087714364%2C%20%22longitude%22%3A%202.135464167132671%2C%20%22name%22%3A%20%22Ateneu%20de%20Fabricaci%5Cu00f3%20Les%20Corts%22%2C%20%22reachfactor%22%3A%200.8615%2C%20%22total_pop%22%3A%2088373.0%7D%2C%20%22type%22%3A%20%22Feature%22%7D%2C%20%7B%22bbox%22%3A%20%5B2.177486%2C%2041.371443%2C%202.201947%2C%2041.392574%5D%2C%20%22geometry%22%3A%20%7B%22coordinates%22%3A%20%5B%5B%5B2.177486%2C%2041.385268%5D%2C%20%5B2.177499%2C%2041.382643%5D%2C%20%5B2.177585%2C%2041.381358%5D%2C%20%5B2.178256%2C%2041.378794%5D%2C%20%5B2.178788%2C%2041.37808%5D%2C%20%5B2.181053%2C%2041.376527%5D%2C%20%5B2.181339%2C%2041.376363%5D%2C%20%5B2.186303%2C%2041.373055%5D%2C%20%5B2.1873%2C%2041.372042%5D%2C%20%5B2.19085%2C%2041.371443%5D%2C%20%5B2.190963%2C%2041.372116%5D%2C%20%5B2.192436%2C%2041.377121%5D%2C%20%5B2.194127%2C%2041.381751%5D%2C%20%5B2.197685%2C%2041.386031%5D%2C%20%5B2.199415%2C%2041.386082%5D%2C%20%5B2.201921%2C%2041.387009%5D%2C%20%5B2.201947%2C%2041.387028%5D%2C%20%5B2.2019320000000002%2C%2041.389635%5D%2C%20%5B2.201926%2C%2041.389717%5D%2C%20%5B2.201895%2C%2041.389807%5D%2C%20%5B2.201118%2C%2041.391408%5D%2C%20%5B2.201091%2C%2041.391429%5D%2C%20%5B2.201063%2C%2041.39145%5D%2C%20%5B2.201035%2C%2041.39147%5D%2C%20%5B2.197771%2C%2041.392125%5D%2C%20%5B2.195168%2C%2041.392398%5D%2C%20%5B2.192425%2C%2041.392574%5D%2C%20%5B2.189607%2C%2041.391829%5D%2C%20%5B2.189578%2C%2041.391808%5D%2C%20%5B2.18517%2C%2041.388129%5D%2C%20%5B2.182902%2C%2041.388201%5D%2C%20%5B2.180975%2C%2041.38797%5D%2C%20%5B2.180887%2C%2041.387957%5D%2C%20%5B2.179312%2C%2041.38735%5D%2C%20%5B2.178439%2C%2041.386927%5D%2C%20%5B2.178398%2C%2041.386876%5D%2C%20%5B2.178334%2C%2041.386784%5D%2C%20%5B2.178301%2C%2041.38673%5D%2C%20%5B2.177486%2C%2041.385268%5D%5D%5D%2C%20%22type%22%3A%20%22Polygon%22%7D%2C%20%22id%22%3A%20%2225%22%2C%20%22properties%22%3A%20%7B%22area%22%3A%202710570.14%2C%20%22latitude%22%3A%2041.382352379582926%2C%20%22longitude%22%3A%202.191718180625283%2C%20%22name%22%3A%20%22Ateneu%20de%20Fabricaci%5Cu00f3%20La%20F%5Cu00e0brica%20del%20Sol%22%2C%20%22reachfactor%22%3A%200.5522%2C%20%22total_pop%22%3A%2048218.0%7D%2C%20%22type%22%3A%20%22Feature%22%7D%2C%20%7B%22bbox%22%3A%20%5B2.162366%2C%2041.45556%2C%202.182225%2C%2041.467283%5D%2C%20%22geometry%22%3A%20%7B%22coordinates%22%3A%20%5B%5B%5B2.162366%2C%2041.467182%5D%2C%20%5B2.162393%2C%2041.466976%5D%2C%20%5B2.162598%2C%2041.466214%5D%2C%20%5B2.162665%2C%2041.466008%5D%2C%20%5B2.163477%2C%2041.460542%5D%2C%20%5B2.162629%2C%2041.456401%5D%2C%20%5B2.162698%2C%2041.456047%5D%2C%20%5B2.1629519999999998%2C%2041.456097%5D%2C%20%5B2.163205%2C%2041.456147%5D%2C%20%5B2.163497%2C%2041.45623%5D%2C%20%5B2.164015%2C%2041.456534%5D%2C%20%5B2.169559%2C%2041.45716%5D%2C%20%5B2.174167%2C%2041.45556%5D%2C%20%5B2.174782%2C%2041.455582%5D%2C%20%5B2.174866%2C%2041.455601%5D%2C%20%5B2.17929%2C%2041.458243%5D%2C%20%5B2.182064%2C%2041.459694999999996%5D%2C%20%5B2.182076%2C%2041.459706%5D%2C%20%5B2.182225%2C%2041.459948%5D%2C%20%5B2.182214%2C%2041.460209%5D%2C%20%5B2.182197%2C%2041.460275%5D%2C%20%5B2.180539%2C%2041.464835%5D%2C%20%5B2.180332%2C%2041.465091%5D%2C%20%5B2.180218%2C%2041.465186%5D%2C%20%5B2.180025%2C%2041.465291%5D%2C%20%5B2.179838%2C%2041.46534%5D%2C%20%5B2.176618%2C%2041.465845%5D%2C%20%5B2.174842%2C%2041.465475%5D%2C%20%5B2.170178%2C%2041.467134%5D%2C%20%5B2.16985%2C%2041.467282%5D%2C%20%5B2.169523%2C%2041.467283%5D%2C%20%5B2.1653000000000002%2C%2041.466501%5D%2C%20%5B2.162723%2C%2041.467229%5D%2C%20%5B2.162366%2C%2041.467182%5D%5D%5D%2C%20%22type%22%3A%20%22Polygon%22%7D%2C%20%22id%22%3A%20%2226%22%2C%20%22properties%22%3A%20%7B%22area%22%3A%201602970.35%2C%20%22latitude%22%3A%2041.460459824619406%2C%20%22longitude%22%3A%202.169872326657153%2C%20%22name%22%3A%20%22Ateneu%20de%20Fabricaci%5Cu00f3%20Ciutat%20Meridiana%22%2C%20%22reachfactor%22%3A%200.3266%2C%20%22total_pop%22%3A%2011587.0%7D%2C%20%22type%22%3A%20%22Feature%22%7D%2C%20%7B%22bbox%22%3A%20%5B2.154928%2C%2041.426874%2C%202.184009%2C%2041.446929%5D%2C%20%22geometry%22%3A%20%7B%22coordinates%22%3A%20%5B%5B%5B2.154928%2C%2041.436715%5D%2C%20%5B2.156582%2C%2041.433687%5D%2C%20%5B2.157913%2C%2041.430872%5D%2C%20%5B2.158699%2C%2041.430076%5D%2C%20%5B2.159258%2C%2041.4297%5D%2C%20%5B2.160811%2C%2041.429052%5D%2C%20%5B2.162292%2C%2041.428511%5D%2C%20%5B2.166287%2C%2041.427289%5D%2C%20%5B2.168341%2C%2041.426874%5D%2C%20%5B2.171404%2C%2041.426937%5D%2C%20%5B2.171691%2C%2041.426945%5D%2C%20%5B2.172896%2C%2041.426991%5D%2C%20%5B2.172898%2C%2041.426991%5D%2C%20%5B2.172898%2C%2041.426991%5D%2C%20%5B2.1729%2C%2041.426991%5D%2C%20%5B2.173354%2C%2041.42704%5D%2C%20%5B2.177647%2C%2041.42838%5D%2C%20%5B2.177773%2C%2041.428479%5D%2C%20%5B2.179269%2C%2041.42965%5D%2C%20%5B2.183043%2C%2041.433012%5D%2C%20%5B2.183318%2C%2041.433308%5D%2C%20%5B2.183685%2C%2041.434371%5D%2C%20%5B2.184009%2C%2041.436336%5D%2C%20%5B2.1838319999999998%2C%2041.438491%5D%2C%20%5B2.183523%2C%2041.441238%5D%2C%20%5B2.180064%2C%2041.44447%5D%2C%20%5B2.179954%2C%2041.444523%5D%2C%20%5B2.178576%2C%2041.445156%5D%2C%20%5B2.178505%2C%2041.445185%5D%2C%20%5B2.177021%2C%2041.445778%5D%2C%20%5B2.174056%2C%2041.446395%5D%2C%20%5B2.172224%2C%2041.446723%5D%2C%20%5B2.171495%2C%2041.446802%5D%2C%20%5B2.168011%2C%2041.446929%5D%2C%20%5B2.162354%2C%2041.445507%5D%2C%20%5B2.158112%2C%2041.443781%5D%2C%20%5B2.157199%2C%2041.442921%5D%2C%20%5B2.155584%2C%2041.440566%5D%2C%20%5B2.155292%2C%2041.43919%5D%2C%20%5B2.154928%2C%2041.436715%5D%5D%5D%2C%20%22type%22%3A%20%22Polygon%22%7D%2C%20%22id%22%3A%20%2227%22%2C%20%22properties%22%3A%20%7B%22area%22%3A%204252187.44%2C%20%22latitude%22%3A%2041.436964660556576%2C%20%22longitude%22%3A%202.168955284327927%2C%20%22name%22%3A%20%22Ateneu%20de%20Fabricaci%5Cu00f3%20Parc%20Tecnol%5Cu00f3gic%22%2C%20%22reachfactor%22%3A%200.8662000000000001%2C%20%22total_pop%22%3A%2083897.0%7D%2C%20%22type%22%3A%20%22Feature%22%7D%2C%20%7B%22bbox%22%3A%20%5B2.14828%2C%2041.389167%2C%202.175799%2C%2041.409658%5D%2C%20%22geometry%22%3A%20%7B%22coordinates%22%3A%20%5B%5B%5B2.14828%2C%2041.39722%5D%2C%20%5B2.148569%2C%2041.394254%5D%2C%20%5B2.148587%2C%2041.394135%5D%2C%20%5B2.149017%2C%2041.393404%5D%2C%20%5B2.149738%2C%2041.392431%5D%2C%20%5B2.151315%2C%2041.390435%5D%2C%20%5B2.151478%2C%2041.390309%5D%2C%20%5B2.152135%2C%2041.389891%5D%2C%20%5B2.154707%2C%2041.389581%5D%2C%20%5B2.157054%2C%2041.389495%5D%2C%20%5B2.159667%2C%2041.389411%5D%2C%20%5B2.163817%2C%2041.389264%5D%2C%20%5B2.165732%2C%2041.389167%5D%2C%20%5B2.165899%2C%2041.389171%5D%2C%20%5B2.1689439999999998%2C%2041.389636%5D%2C%20%5B2.171929%2C%2041.390106%5D%2C%20%5B2.172031%2C%2041.390134%5D%2C%20%5B2.172087%2C%2041.390177%5D%2C%20%5B2.172989%2C%2041.391099%5D%2C%20%5B2.17454%2C%2041.395245%5D%2C%20%5B2.175799%2C%2041.3996%5D%2C%20%5B2.175771%2C%2041.399744%5D%2C%20%5B2.174471%2C%2041.4031%5D%2C%20%5B2.173154%2C%2041.407375%5D%2C%20%5B2.172512%2C%2041.408125%5D%2C%20%5B2.172149%2C%2041.408483%5D%2C%20%5B2.1720639999999998%2C%2041.408548%5D%2C%20%5B2.171762%2C%2041.408701%5D%2C%20%5B2.17011%2C%2041.408834%5D%2C%20%5B2.168005%2C%2041.408874%5D%2C%20%5B2.166487%2C%2041.408973%5D%2C%20%5B2.161939%2C%2041.409658%5D%2C%20%5B2.155993%2C%2041.409299%5D%2C%20%5B2.152957%2C%2041.408801%5D%2C%20%5B2.150533%2C%2041.407545999999996%5D%2C%20%5B2.150326%2C%2041.407384%5D%2C%20%5B2.148381%2C%2041.402041%5D%2C%20%5B2.14828%2C%2041.39722%5D%5D%5D%2C%20%22type%22%3A%20%22Polygon%22%7D%2C%20%22id%22%3A%20%2228%22%2C%20%22properties%22%3A%20%7B%22area%22%3A%204514571.75%2C%20%22latitude%22%3A%2041.39936443324356%2C%20%22longitude%22%3A%202.161167011312049%2C%20%22name%22%3A%20%22Ateneu%20de%20Fabricaci%5Cu00f3%20Gr%5Cu00e0cia%22%2C%20%22reachfactor%22%3A%200.9197000000000001%2C%20%22total_pop%22%3A%2097329.0%7D%2C%20%22type%22%3A%20%22Feature%22%7D%2C%20%7B%22bbox%22%3A%20%5B2.190682%2C%2041.39976%2C%202.217598%2C%2041.42188%5D%2C%20%22geometry%22%3A%20%7B%22coordinates%22%3A%20%5B%5B%5B2.190682%2C%2041.404717%5D%2C%20%5B2.192169%2C%2041.402302%5D%2C%20%5B2.192389%2C%2041.40205%5D%2C%20%5B2.192954%2C%2041.401619%5D%2C%20%5B2.193138%2C%2041.40149%5D%2C%20%5B2.195696%2C%2041.399765%5D%2C%20%5B2.195705%2C%2041.39976%5D%2C%20%5B2.198948%2C%2041.399873%5D%2C%20%5B2.203914%2C%2041.400506%5D%2C%20%5B2.205666%2C%2041.400532%5D%2C%20%5B2.206694%2C%2041.400555%5D%2C%20%5B2.210946%2C%2041.400858%5D%2C%20%5B2.211224%2C%2041.401034%5D%2C%20%5B2.212874%2C%2041.402309%5D%2C%20%5B2.213209%2C%2041.402575%5D%2C%20%5B2.215892%2C%2041.404902%5D%2C%20%5B2.216257%2C%2041.405214%5D%2C%20%5B2.217505%2C%2041.40812%5D%2C%20%5B2.217598%2C%2041.410244%5D%2C%20%5B2.216243%2C%2041.412679%5D%2C%20%5B2.215945%2C%2041.416217%5D%2C%20%5B2.215929%2C%2041.416789%5D%2C%20%5B2.215633%2C%2041.417798%5D%2C%20%5B2.215206%2C%2041.418299%5D%2C%20%5B2.212909%2C%2041.420815%5D%2C%20%5B2.212751%2C%2041.420937%5D%2C%20%5B2.210775%2C%2041.42188%5D%2C%20%5B2.208023%2C%2041.421868%5D%2C%20%5B2.20269%2C%2041.421073%5D%2C%20%5B2.201564%2C%2041.421011%5D%2C%20%5B2.197642%2C%2041.420783%5D%2C%20%5B2.195171%2C%2041.420489%5D%2C%20%5B2.194701%2C%2041.420213%5D%2C%20%5B2.194662%2C%2041.420183%5D%2C%20%5B2.191763%2C%2041.416501%5D%2C%20%5B2.191742%2C%2041.416464%5D%2C%20%5B2.19171%2C%2041.415129%5D%2C%20%5B2.191653%2C%2041.412805%5D%2C%20%5B2.191691%2C%2041.411128%5D%2C%20%5B2.19173%2C%2041.409382%5D%2C%20%5B2.190686%2C%2041.404746%5D%2C%20%5B2.190682%2C%2041.404717%5D%5D%5D%2C%20%22type%22%3A%20%22Polygon%22%7D%2C%20%22id%22%3A%20%2229%22%2C%20%22properties%22%3A%20%7B%22area%22%3A%204536939.13%2C%20%22latitude%22%3A%2041.41078570052905%2C%20%22longitude%22%3A%202.203873110704254%2C%20%22name%22%3A%20%22Ateneu%20Ca%20L%5Cu0027Alier%22%2C%20%22reachfactor%22%3A%200.9243%2C%20%22total_pop%22%3A%2093219.0%7D%2C%20%22type%22%3A%20%22Feature%22%7D%2C%20%7B%22bbox%22%3A%20%5B2.126916%2C%2041.366334%2C%202.15458%2C%2041.388143%5D%2C%20%22geometry%22%3A%20%7B%22coordinates%22%3A%20%5B%5B%5B2.126916%2C%2041.377653%5D%2C%20%5B2.127171%2C%2041.372662%5D%2C%20%5B2.127357%2C%2041.372427%5D%2C%20%5B2.128132%2C%2041.371463%5D%2C%20%5B2.128747%2C%2041.370723%5D%2C%20%5B2.129395%2C%2041.369947%5D%2C%20%5B2.129542%2C%2041.369773%5D%2C%20%5B2.132964%2C%2041.367645%5D%2C%20%5B2.137875%2C%2041.366651%5D%2C%20%5B2.140197%2C%2041.366334%5D%2C%20%5B2.143748%2C%2041.366378%5D%2C%20%5B2.145274%2C%2041.366986%5D%2C%20%5B2.149961%2C%2041.369247%5D%2C%20%5B2.15034%2C%2041.369517%5D%2C%20%5B2.15037%2C%2041.369547%5D%2C%20%5B2.153501%2C%2041.373037%5D%2C%20%5B2.154197%2C%2041.373987%5D%2C%20%5B2.154564%2C%2041.375783%5D%2C%20%5B2.15458%2C%2041.375916%5D%2C%20%5B2.153146%2C%2041.379946%5D%2C%20%5B2.152535%2C%2041.382236%5D%2C%20%5B2.152047%2C%2041.384275%5D%2C%20%5B2.151858%2C%2041.38443%5D%2C%20%5B2.148872%2C%2041.386665%5D%2C%20%5B2.147138%2C%2041.387254%5D%2C%20%5B2.144567%2C%2041.388115%5D%2C%20%5B2.142682%2C%2041.388143%5D%2C%20%5B2.137804%2C%2041.387446%5D%2C%20%5B2.135898%2C%2041.387317%5D%2C%20%5B2.132899%2C%2041.386181%5D%2C%20%5B2.132428%2C%2041.385889%5D%2C%20%5B2.130416%2C%2041.382077%5D%2C%20%5B2.126942%2C%2041.377681%5D%2C%20%5B2.126916%2C%2041.377653%5D%5D%5D%2C%20%22type%22%3A%20%22Polygon%22%7D%2C%20%22id%22%3A%20%2230%22%2C%20%22properties%22%3A%20%7B%22area%22%3A%204317184.28%2C%20%22latitude%22%3A%2041.37698885014896%2C%20%22longitude%22%3A%202.140514455999282%2C%20%22name%22%3A%20%22Fab%20Casa%20del%20Mig%22%2C%20%22reachfactor%22%3A%200.8795000000000001%2C%20%22total_pop%22%3A%2094556.0%7D%2C%20%22type%22%3A%20%22Feature%22%7D%2C%20%7B%22bbox%22%3A%20%5B2.130229%2C%2041.346956%2C%202.154737%2C%2041.367678%5D%2C%20%22geometry%22%3A%20%7B%22coordinates%22%3A%20%5B%5B%5B2.130229%2C%2041.353636%5D%2C%20%5B2.131776%2C%2041.350385%5D%2C%20%5B2.131874%2C%2041.350337%5D%2C%20%5B2.135145%2C%2041.349051%5D%2C%20%5B2.14025%2C%2041.347746%5D%2C%20%5B2.1422%2C%2041.347907%5D%2C%20%5B2.14684%2C%2041.346956%5D%2C%20%5B2.148186%2C%2041.347115%5D%2C%20%5B2.149765%2C%2041.348977%5D%2C%20%5B2.150951%2C%2041.351051%5D%2C%20%5B2.152457%2C%2041.354321%5D%2C%20%5B2.153047%2C%2041.357974%5D%2C%20%5B2.154737%2C%2041.360483%5D%2C%20%5B2.154712%2C%2041.360633%5D%2C%20%5B2.15463%2C%2041.360858%5D%2C%20%5B2.152573%2C%2041.36332%5D%2C%20%5B2.151557%2C%2041.363733%5D%2C%20%5B2.147083%2C%2041.366583%5D%2C%20%5B2.146541%2C%2041.367153%5D%2C%20%5B2.146536%2C%2041.367154%5D%2C%20%5B2.14181%2C%2041.367143%5D%2C%20%5B2.140318%2C%2041.367678%5D%2C%20%5B2.139856%2C%2041.367663%5D%2C%20%5B2.135596%2C%2041.367381%5D%2C%20%5B2.134861%2C%2041.366858%5D%2C%20%5B2.13226%2C%2041.364819%5D%2C%20%5B2.130307%2C%2041.359703%5D%2C%20%5B2.13037%2C%2041.354301%5D%2C%20%5B2.130229%2C%2041.353636%5D%5D%5D%2C%20%22type%22%3A%20%22Polygon%22%7D%2C%20%22id%22%3A%20%2231%22%2C%20%22properties%22%3A%20%7B%22area%22%3A%203631751.15%2C%20%22latitude%22%3A%2041.35827229815483%2C%20%22longitude%22%3A%202.141575611310696%2C%20%22name%22%3A%20%22Punt%20Multim%5Cu00e8dia%20La%20Marina%22%2C%20%22reachfactor%22%3A%200.7399%2C%20%22total_pop%22%3A%2065902.0%7D%2C%20%22type%22%3A%20%22Feature%22%7D%2C%20%7B%22bbox%22%3A%20%5B2.177014%2C%2041.423378%2C%202.206153%2C%2041.447003%5D%2C%20%22geometry%22%3A%20%7B%22coordinates%22%3A%20%5B%5B%5B2.177014%2C%2041.436076%5D%2C%20%5B2.177612%2C%2041.433113%5D%2C%20%5B2.178028%2C%2041.432233%5D%2C%20%5B2.179102%2C%2041.430171%5D%2C%20%5B2.180701%2C%2041.428435%5D%2C%20%5B2.1826119999999998%2C%2041.42681%5D%2C%20%5B2.1841720000000002%2C%2041.425909%5D%2C%20%5B2.189324%2C%2041.424118%5D%2C%20%5B2.191815%2C%2041.423378%5D%2C%20%5B2.19184%2C%2041.42338%5D%2C%20%5B2.192834%2C%2041.424423%5D%2C%20%5B2.193488%2C%2041.425138%5D%2C%20%5B2.193577%2C%2041.425282%5D%2C%20%5B2.193557%2C%2041.425774%5D%2C%20%5B2.193816%2C%2041.427887%5D%2C%20%5B2.199417%2C%2041.428252%5D%2C%20%5B2.200428%2C%2041.428384%5D%2C%20%5B2.203497%2C%2041.431202%5D%2C%20%5B2.205213%2C%2041.432084%5D%2C%20%5B2.205274%2C%2041.432157%5D%2C%20%5B2.205997%2C%2041.435494%5D%2C%20%5B2.206153%2C%2041.436339%5D%2C%20%5B2.206152%2C%2041.436366%5D%2C%20%5B2.20595%2C%2041.437029%5D%2C%20%5B2.205927%2C%2041.437062%5D%2C%20%5B2.201931%2C%2041.441298%5D%2C%20%5B2.197215%2C%2041.444548%5D%2C%20%5B2.197153%2C%2041.44456%5D%2C%20%5B2.191662%2C%2041.446257%5D%2C%20%5B2.190267%2C%2041.446951%5D%2C%20%5B2.190132%2C%2041.447003%5D%2C%20%5B2.188247%2C%2041.446498%5D%2C%20%5B2.187313%2C%2041.446177%5D%2C%20%5B2.184602%2C%2041.444422%5D%2C%20%5B2.18329%2C%2041.443393%5D%2C%20%5B2.18074%2C%2041.441071%5D%2C%20%5B2.177975%2C%2041.439123%5D%2C%20%5B2.17794%2C%2041.439088%5D%2C%20%5B2.177815%2C%2041.438931%5D%2C%20%5B2.177014%2C%2041.436076%5D%5D%5D%2C%20%22type%22%3A%20%22Polygon%22%7D%2C%20%22id%22%3A%20%2232%22%2C%20%22properties%22%3A%20%7B%22area%22%3A%204162052.43%2C%20%22latitude%22%3A%2041.43476043833471%2C%20%22longitude%22%3A%202.1912362419994%2C%20%22name%22%3A%20%22Club%20Maker%20de%20l%5Cu0027American%20Space%20-%20Biblioteca%20Fabra%20i%20Coats%22%2C%20%22reachfactor%22%3A%200.8479%2C%20%22total_pop%22%3A%2086930.0%7D%2C%20%22type%22%3A%20%22Feature%22%7D%2C%20%7B%22bbox%22%3A%20%5B2.1429489999999998%2C%2041.363472%2C%202.172517%2C%2041.38401%5D%2C%20%22geometry%22%3A%20%7B%22coordinates%22%3A%20%5B%5B%5B2.1429489999999998%2C%2041.369531%5D%2C%20%5B2.143518%2C%2041.368655%5D%2C%20%5B2.145026%2C%2041.366915%5D%2C%20%5B2.146536%2C%2041.365544%5D%2C%20%5B2.146976%2C%2041.365155%5D%2C%20%5B2.147189%2C%2041.365092%5D%2C%20%5B2.149518%2C%2041.364419%5D%2C%20%5B2.152324%2C%2041.363619%5D%2C%20%5B2.153894%2C%2041.363472%5D%2C%20%5B2.153924%2C%2041.363472%5D%2C%20%5B2.15841%2C%2041.363982%5D%2C%20%5B2.158644%2C%2041.364075%5D%2C%20%5B2.1622%2C%2041.365041%5D%2C%20%5B2.165386%2C%2041.364801%5D%2C%20%5B2.165642%2C%2041.364857%5D%2C%20%5B2.167366%2C%2041.365624%5D%2C%20%5B2.168301%2C%2041.366616%5D%2C%20%5B2.171064%2C%2041.369542%5D%2C%20%5B2.171313%2C%2041.369878%5D%2C%20%5B2.172178%2C%2041.371433%5D%2C%20%5B2.172322%2C%2041.371698%5D%2C%20%5B2.172517%2C%2041.373914%5D%2C%20%5B2.171246%2C%2041.376829%5D%2C%20%5B2.169636%2C%2041.380186%5D%2C%20%5B2.168955%2C%2041.381213%5D%2C%20%5B2.167072%2C%2041.382351%5D%2C%20%5B2.1638830000000002%2C%2041.383886%5D%2C%20%5B2.162837%2C%2041.38401%5D%2C%20%5B2.160187%2C%2041.383402%5D%2C%20%5B2.156814%2C%2041.383353%5D%2C%20%5B2.15231%2C%2041.38317%5D%2C%20%5B2.150605%2C%2041.383018%5D%2C%20%5B2.149575%2C%2041.382844%5D%2C%20%5B2.1478289999999998%2C%2041.381671%5D%2C%20%5B2.146931%2C%2041.381003%5D%2C%20%5B2.146402%2C%2041.380598%5D%2C%20%5B2.144083%2C%2041.377148%5D%2C%20%5B2.144071%2C%2041.377107%5D%2C%20%5B2.1434509999999998%2C%2041.37448%5D%2C%20%5B2.142959%2C%2041.369745%5D%2C%20%5B2.1429489999999998%2C%2041.369531%5D%5D%5D%2C%20%22type%22%3A%20%22Polygon%22%7D%2C%20%22id%22%3A%20%2233%22%2C%20%22properties%22%3A%20%7B%22area%22%3A%204464097.77%2C%20%22latitude%22%3A%2041.37298180510111%2C%20%22longitude%22%3A%202.157535855490096%2C%20%22name%22%3A%20%22Makers%20Zone%20BCN%22%2C%20%22reachfactor%22%3A%200.9094000000000001%2C%20%22total_pop%22%3A%2082974.0%7D%2C%20%22type%22%3A%20%22Feature%22%7D%2C%20%7B%22bbox%22%3A%20%5B2.164099%2C%2041.381726%2C%202.189987%2C%2041.402626%5D%2C%20%22geometry%22%3A%20%7B%22coordinates%22%3A%20%5B%5B%5B2.164099%2C%2041.38516%5D%2C%20%5B2.164159%2C%2041.38507%5D%2C%20%5B2.168396%2C%2041.382585%5D%2C%20%5B2.171537%2C%2041.381859%5D%2C%20%5B2.174756%2C%2041.381726%5D%2C%20%5B2.178067%2C%2041.381784%5D%2C%20%5B2.179885%2C%2041.381924%5D%2C%20%5B2.182808%2C%2041.382217%5D%2C%20%5B2.186248%2C%2041.383157%5D%2C%20%5B2.189084%2C%2041.3852%5D%2C%20%5B2.189886%2C%2041.389127%5D%2C%20%5B2.189987%2C%2041.391389%5D%2C%20%5B2.189841%2C%2041.39479%5D%2C%20%5B2.189518%2C%2041.396841%5D%2C%20%5B2.189021%2C%2041.399003%5D%2C%20%5B2.18887%2C%2041.399152%5D%2C%20%5B2.184518%2C%2041.402403%5D%2C%20%5B2.184497%2C%2041.402418%5D%2C%20%5B2.183253%2C%2041.402626%5D%2C%20%5B2.177731%2C%2041.402299%5D%2C%20%5B2.175709%2C%2041.402393000000004%5D%2C%20%5B2.17481%2C%2041.402425%5D%2C%20%5B2.170183%2C%2041.401918%5D%2C%20%5B2.167506%2C%2041.401532%5D%2C%20%5B2.165117%2C%2041.399919%5D%2C%20%5B2.165102%2C%2041.399907%5D%2C%20%5B2.164993%2C%2041.399764%5D%2C%20%5B2.164581%2C%2041.394344%5D%2C%20%5B2.164365%2C%2041.388516%5D%2C%20%5B2.164099%2C%2041.38516%5D%5D%5D%2C%20%22type%22%3A%20%22Polygon%22%7D%2C%20%22id%22%3A%20%2234%22%2C%20%22properties%22%3A%20%7B%22area%22%3A%204450546.99%2C%20%22latitude%22%3A%2041.39201229743223%2C%20%22longitude%22%3A%202.17718274014759%2C%20%22name%22%3A%20%22FabCaf%5Cu00e9%20Barcelona%22%2C%20%22reachfactor%22%3A%200.9067000000000001%2C%20%22total_pop%22%3A%2089397.0%7D%2C%20%22type%22%3A%20%22Feature%22%7D%2C%20%7B%22bbox%22%3A%20%5B2.1892139999999998%2C%2041.416013%2C%202.212332%2C%2041.436514%5D%2C%20%22geometry%22%3A%20%7B%22coordinates%22%3A%20%5B%5B%5B2.1892139999999998%2C%2041.42393%5D%2C%20%5B2.189215%2C%2041.423825%5D%2C%20%5B2.189223%2C%2041.423663%5D%2C%20%5B2.189396%2C%2041.423433%5D%2C%20%5B2.190591%2C%2041.42219%5D%2C%20%5B2.193368%2C%2041.419294%5D%2C%20%5B2.193211%2C%2041.416622%5D%2C%20%5B2.19323%2C%2041.416601%5D%2C%20%5B2.193943%2C%2041.416196%5D%2C%20%5B2.195501%2C%2041.416013%5D%2C%20%5B2.19999%2C%2041.416126%5D%2C%20%5B2.2022209999999998%2C%2041.416152%5D%2C%20%5B2.204588%2C%2041.416176%5D%2C%20%5B2.20673%2C%2041.416199%5D%2C%20%5B2.210368%2C%2041.417103%5D%2C%20%5B2.21096%2C%2041.417419%5D%2C%20%5B2.211252%2C%2041.417677%5D%2C%20%5B2.211262%2C%2041.417689%5D%2C%20%5B2.212332%2C%2041.423339%5D%2C%20%5B2.212279%2C%2041.426589%5D%2C%20%5B2.210299%2C%2041.432025%5D%2C%20%5B2.209675%2C%2041.434245%5D%2C%20%5B2.209037%2C%2041.435277%5D%2C%20%5B2.208684%2C%2041.435783%5D%2C%20%5B2.208683%2C%2041.435784%5D%2C%20%5B2.208475%2C%2041.435942%5D%2C%20%5B2.20702%2C%2041.436514%5D%2C%20%5B2.20528%2C%2041.436338%5D%2C%20%5B2.204982%2C%2041.436306%5D%2C%20%5B2.202588%2C%2041.435528%5D%2C%20%5B2.201494%2C%2041.432058%5D%2C%20%5B2.196728%2C%2041.4331%5D%2C%20%5B2.194388%2C%2041.432874%5D%2C%20%5B2.194336%2C%2041.432864%5D%2C%20%5B2.192988%2C%2041.430659%5D%2C%20%5B2.191185%2C%2041.425741%5D%2C%20%5B2.189995%2C%2041.424642%5D%2C%20%5B2.189354%2C%2041.42417%5D%2C%20%5B2.1892139999999998%2C%2041.42393%5D%5D%5D%2C%20%22type%22%3A%20%22Polygon%22%7D%2C%20%22id%22%3A%20%2235%22%2C%20%22properties%22%3A%20%7B%22area%22%3A%203218600.75%2C%20%22latitude%22%3A%2041.42674586957263%2C%20%22longitude%22%3A%202.199644726656069%2C%20%22name%22%3A%20%22TMDC%22%2C%20%22reachfactor%22%3A%200.6557000000000001%2C%20%22total_pop%22%3A%2063287.0%7D%2C%20%22type%22%3A%20%22Feature%22%7D%2C%20%7B%22bbox%22%3A%20%5B2.099983%2C%2041.493816%2C%202.123398%2C%2041.50931%5D%2C%20%22geometry%22%3A%20%7B%22coordinates%22%3A%20%5B%5B%5B2.099983%2C%2041.503213%5D%2C%20%5B2.100018%2C%2041.500133%5D%2C%20%5B2.101068%2C%2041.498575%5D%2C%20%5B2.104195%2C%2041.496105%5D%2C%20%5B2.104854%2C%2041.495735%5D%2C%20%5B2.109975%2C%2041.494481%5D%2C%20%5B2.11482%2C%2041.494433%5D%2C%20%5B2.116408%2C%2041.493816%5D%2C%20%5B2.117074%2C%2041.493958%5D%2C%20%5B2.11984%2C%2041.494752%5D%2C%20%5B2.123218%2C%2041.495797%5D%2C%20%5B2.123383%2C%2041.496117%5D%2C%20%5B2.123398%2C%2041.496217%5D%2C%20%5B2.12335%2C%2041.496816%5D%2C%20%5B2.123281%2C%2041.497169%5D%2C%20%5B2.122743%2C%2041.497727%5D%2C%20%5B2.12268%2C%2041.497766%5D%2C%20%5B2.122676%2C%2041.497768%5D%2C%20%5B2.122616%2C%2041.497802%5D%2C%20%5B2.12027%2C%2041.498988%5D%2C%20%5B2.119163%2C%2041.503174%5D%2C%20%5B2.118201%2C%2041.503518%5D%2C%20%5B2.116479%2C%2041.503852%5D%2C%20%5B2.116278%2C%2041.503889%5D%2C%20%5B2.114967%2C%2041.5041%5D%2C%20%5B2.110885%2C%2041.507853%5D%2C%20%5B2.110665%2C%2041.508137%5D%2C%20%5B2.1099%2C%2041.508607%5D%2C%20%5B2.108665%2C%2041.509286%5D%2C%20%5B2.108305%2C%2041.50931%5D%2C%20%5B2.103865%2C%2041.508032%5D%2C%20%5B2.101888%2C%2041.507758%5D%2C%20%5B2.100487%2C%2041.505731%5D%2C%20%5B2.100404%2C%2041.505549%5D%2C%20%5B2.099983%2C%2041.503213%5D%5D%5D%2C%20%22type%22%3A%20%22Polygon%22%7D%2C%20%22id%22%3A%20%2236%22%2C%20%22properties%22%3A%20%7B%22area%22%3A%202162850.21%2C%20%22latitude%22%3A%2041.50068700446783%2C%20%22longitude%22%3A%202.11142915549425%2C%20%22name%22%3A%20%22Disseny%20Lab%20UAB%22%2C%20%22reachfactor%22%3A%200.44060000000000005%2C%20%22total_pop%22%3A%207462.0%7D%2C%20%22type%22%3A%20%22Feature%22%7D%2C%20%7B%22bbox%22%3A%20%5B2.176167%2C%2041.388879%2C%202.202633%2C%2041.41136%5D%2C%20%22geometry%22%3A%20%7B%22coordinates%22%3A%20%5B%5B%5B2.176167%2C%2041.400103%5D%2C%20%5B2.17745%2C%2041.394688%5D%2C%20%5B2.177575%2C%2041.392878%5D%2C%20%5B2.178048%2C%2041.391035%5D%2C%20%5B2.178336%2C%2041.390811%5D%2C%20%5B2.17836%2C%2041.390795%5D%2C%20%5B2.181738%2C%2041.389737%5D%2C%20%5B2.185803%2C%2041.388946%5D%2C%20%5B2.186292%2C%2041.388879%5D%2C%20%5B2.187572%2C%2041.388975%5D%2C%20%5B2.191698%2C%2041.389804%5D%2C%20%5B2.195589%2C%2041.390353%5D%2C%20%5B2.199624%2C%2041.390863%5D%2C%20%5B2.199984%2C%2041.391165%5D%2C%20%5B2.201563%2C%2041.39254%5D%2C%20%5B2.202633%2C%2041.396513%5D%2C%20%5B2.202633%2C%2041.39652%5D%2C%20%5B2.202126%2C%2041.400848%5D%2C%20%5B2.202277%2C%2041.402761%5D%2C%20%5B2.20242%2C%2041.407581%5D%2C%20%5B2.202415%2C%2041.407651%5D%2C%20%5B2.202292%2C%2041.40834%5D%2C%20%5B2.202256%2C%2041.408376%5D%2C%20%5B2.19928%2C%2041.409547%5D%2C%20%5B2.197433%2C%2041.409624%5D%2C%20%5B2.193192%2C%2041.410245%5D%2C%20%5B2.190981%2C%2041.411122%5D%2C%20%5B2.19071%2C%2041.411173%5D%2C%20%5B2.189316%2C%2041.41136%5D%2C%20%5B2.18681%2C%2041.411192%5D%2C%20%5B2.184166%2C%2041.410687%5D%2C%20%5B2.181203%2C%2041.410051%5D%2C%20%5B2.1793839999999998%2C%2041.408774%5D%2C%20%5B2.179087%2C%2041.408561%5D%2C%20%5B2.178132%2C%2041.407872%5D%2C%20%5B2.177963%2C%2041.407733%5D%2C%20%5B2.177777%2C%2041.407464%5D%2C%20%5B2.17627%2C%2041.403069%5D%2C%20%5B2.176167%2C%2041.400193%5D%2C%20%5B2.176167%2C%2041.400103%5D%5D%5D%2C%20%22type%22%3A%20%22Polygon%22%7D%2C%20%22id%22%3A%20%2237%22%2C%20%22properties%22%3A%20%7B%22area%22%3A%204680951.15%2C%20%22latitude%22%3A%2041.40031808724662%2C%20%22longitude%22%3A%202.189540141998292%2C%20%22name%22%3A%20%22ATTA33%22%2C%20%22reachfactor%22%3A%200.9536%2C%20%22total_pop%22%3A%2094386.0%7D%2C%20%22type%22%3A%20%22Feature%22%7D%2C%20%7B%22bbox%22%3A%20%5B9.121522%2C%2045.46297%2C%209.151205%2C%2045.486059%5D%2C%20%22geometry%22%3A%20%7B%22coordinates%22%3A%20%5B%5B%5B9.121522%2C%2045.475019%5D%2C%20%5B9.122857%2C%2045.471621999999996%5D%2C%20%5B9.124229%2C%2045.468036%5D%2C%20%5B9.12441%2C%2045.467665%5D%2C%20%5B9.126238%2C%2045.466661%5D%2C%20%5B9.128155%2C%2045.465692%5D%2C%20%5B9.130182%2C%2045.465123%5D%2C%20%5B9.135626%2C%2045.463076%5D%2C%20%5B9.136039%2C%2045.46297%5D%2C%20%5B9.13797%2C%2045.463222%5D%2C%20%5B9.142436%2C%2045.463902%5D%2C%20%5B9.142898%2C%2045.464037%5D%2C%20%5B9.144488%2C%2045.465295%5D%2C%20%5B9.149042%2C%2045.466702%5D%2C%20%5B9.149077%2C%2045.466725%5D%2C%20%5B9.149114%2C%2045.46675%5D%2C%20%5B9.149149%2C%2045.466774%5D%2C%20%5B9.150695%2C%2045.471779%5D%2C%20%5B9.15099%2C%2045.476737%5D%2C%20%5B9.151205%2C%2045.478785%5D%2C%20%5B9.151029%2C%2045.479695%5D%2C%20%5B9.150356%2C%2045.48168%5D%2C%20%5B9.150298%2C%2045.481752%5D%2C%20%5B9.147212%2C%2045.484017%5D%2C%20%5B9.142954%2C%2045.486056%5D%2C%20%5B9.142906%2C%2045.486059%5D%2C%20%5B9.138463%2C%2045.485637%5D%2C%20%5B9.13762%2C%2045.485351%5D%2C%20%5B9.136803%2C%2045.484944%5D%2C%20%5B9.135608%2C%2045.484414%5D%2C%20%5B9.135601%2C%2045.4844%5D%2C%20%5B9.135818%2C%2045.481392%5D%2C%20%5B9.134149%2C%2045.478885%5D%2C%20%5B9.129781%2C%2045.478064%5D%2C%20%5B9.127415%2C%2045.481417%5D%2C%20%5B9.126622%2C%2045.482789%5D%2C%20%5B9.126474%2C%2045.48283%5D%2C%20%5B9.125352%2C%2045.481782%5D%2C%20%5B9.122113%2C%2045.478038%5D%2C%20%5B9.122014%2C%2045.477881%5D%2C%20%5B9.121537%2C%2045.475249%5D%2C%20%5B9.121522%2C%2045.475019%5D%5D%5D%2C%20%22type%22%3A%20%22Polygon%22%7D%2C%20%22id%22%3A%20%2238%22%2C%20%22properties%22%3A%20%7B%22area%22%3A%204225490.82%2C%20%22latitude%22%3A%2045.47542892969495%2C%20%22longitude%22%3A%209.137325384465216%2C%20%22name%22%3A%20%22Kinlab%22%2C%20%22reachfactor%22%3A%200.8608%2C%20%22total_pop%22%3A%2051581.0%7D%2C%20%22type%22%3A%20%22Feature%22%7D%2C%20%7B%22bbox%22%3A%20%5B9.157142%2C%2045.447197%2C%209.187692%2C%2045.468709%5D%2C%20%22geometry%22%3A%20%7B%22coordinates%22%3A%20%5B%5B%5B9.157142%2C%2045.453294%5D%2C%20%5B9.157995%2C%2045.451942%5D%2C%20%5B9.158063%2C%2045.451839%5D%2C%20%5B9.158224%2C%2045.451608%5D%2C%20%5B9.158556%2C%2045.45137%5D%2C%20%5B9.1596%2C%2045.450813%5D%2C%20%5B9.165004%2C%2045.44835%5D%2C%20%5B9.165648%2C%2045.447882%5D%2C%20%5B9.166199%2C%2045.44758%5D%2C%20%5B9.16634%2C%2045.447532%5D%2C%20%5B9.166951%2C%2045.447365%5D%2C%20%5B9.168401%2C%2045.447197%5D%2C%20%5B9.171794%2C%2045.447503%5D%2C%20%5B9.174269%2C%2045.447852%5D%2C%20%5B9.178843%2C%2045.448131%5D%2C%20%5B9.180695%2C%2045.448443%5D%2C%20%5B9.184935%2C%2045.450169%5D%2C%20%5B9.185031%2C%2045.450217%5D%2C%20%5B9.185496%2C%2045.450542%5D%2C%20%5B9.185556%2C%2045.450596%5D%2C%20%5B9.18563%2C%2045.450689%5D%2C%20%5B9.185699%2C%2045.450797%5D%2C%20%5B9.186391%2C%2045.452278%5D%2C%20%5B9.187649%2C%2045.457081%5D%2C%20%5B9.187692%2C%2045.462024%5D%2C%20%5B9.18704%2C%2045.463097%5D%2C%20%5B9.18617%2C%2045.464437%5D%2C%20%5B9.186073%2C%2045.464513%5D%2C%20%5B9.185222%2C%2045.464704%5D%2C%20%5B9.185039%2C%2045.464726%5D%2C%20%5B9.181446%2C%2045.465734%5D%2C%20%5B9.178854%2C%2045.467572%5D%2C%20%5B9.176853%2C%2045.468709%5D%2C%20%5B9.175213%2C%2045.468617%5D%2C%20%5B9.169571%2C%2045.467544%5D%2C%20%5B9.164269%2C%2045.466237%5D%2C%20%5B9.164177%2C%2045.466211%5D%2C%20%5B9.163885%2C%2045.466108%5D%2C%20%5B9.163746%2C%2045.466039%5D%2C%20%5B9.162768%2C%2045.465484%5D%2C%20%5B9.158722%2C%2045.461975%5D%2C%20%5B9.157828%2C%2045.459929%5D%2C%20%5B9.157842%2C%2045.458865%5D%2C%20%5B9.157142%2C%2045.453294%5D%5D%5D%2C%20%22type%22%3A%20%22Polygon%22%7D%2C%20%22id%22%3A%20%2239%22%2C%20%22properties%22%3A%20%7B%22area%22%3A%204476710.16%2C%20%22latitude%22%3A%2045.45759422962854%2C%20%22longitude%22%3A%209.173071843986556%2C%20%22name%22%3A%20%22SuperForma%22%2C%20%22reachfactor%22%3A%200.912%2C%20%22total_pop%22%3A%2057463.0%7D%2C%20%22type%22%3A%20%22Feature%22%7D%2C%20%7B%22bbox%22%3A%20%5B9.152615%2C%2045.498175%2C%209.176996%2C%2045.51473%5D%2C%20%22geometry%22%3A%20%7B%22coordinates%22%3A%20%5B%5B%5B9.152615%2C%2045.511153%5D%2C%20%5B9.152762%2C%2045.510916%5D%2C%20%5B9.153652%2C%2045.51005%5D%2C%20%5B9.15372%2C%2045.509988%5D%2C%20%5B9.155194%2C%2045.508154%5D%2C%20%5B9.154959%2C%2045.502693%5D%2C%20%5B9.154982%2C%2045.502334%5D%2C%20%5B9.156265%2C%2045.50075%5D%2C%20%5B9.157094%2C%2045.500399%5D%2C%20%5B9.158901%2C%2045.499773%5D%2C%20%5B9.164218%2C%2045.498229%5D%2C%20%5B9.166838%2C%2045.498175%5D%2C%20%5B9.169529%2C%2045.498297%5D%2C%20%5B9.169822%2C%2045.498506%5D%2C%20%5B9.169923%2C%2045.498606%5D%2C%20%5B9.170384%2C%2045.499487%5D%2C%20%5B9.170857%2C%2045.500682%5D%2C%20%5B9.172647%2C%2045.503131%5D%2C%20%5B9.175572%2C%2045.504844%5D%2C%20%5B9.175629%2C%2045.504869%5D%2C%20%5B9.175719%2C%2045.504943%5D%2C%20%5B9.175903%2C%2045.505103%5D%2C%20%5B9.175953%2C%2045.505154%5D%2C%20%5B9.175965%2C%2045.505169%5D%2C%20%5B9.176941%2C%2045.506354%5D%2C%20%5B9.176996%2C%2045.50671%5D%2C%20%5B9.176578%2C%2045.510085%5D%2C%20%5B9.176183%2C%2045.510647%5D%2C%20%5B9.175868%2C%2045.510903%5D%2C%20%5B9.17307%2C%2045.511252%5D%2C%20%5B9.170646%2C%2045.511886%5D%2C%20%5B9.167396%2C%2045.514332%5D%2C%20%5B9.165293%2C%2045.514532%5D%2C%20%5B9.165175%2C%2045.514521%5D%2C%20%5B9.16514%2C%2045.514512%5D%2C%20%5B9.163452%2C%2045.513916%5D%2C%20%5B9.160981%2C%2045.513634%5D%2C%20%5B9.157269%2C%2045.51473%5D%2C%20%5B9.157162%2C%2045.514721%5D%2C%20%5B9.155942%2C%2045.513822%5D%2C%20%5B9.152721%2C%2045.511362%5D%2C%20%5B9.152615%2C%2045.511153%5D%5D%5D%2C%20%22type%22%3A%20%22Polygon%22%7D%2C%20%22id%22%3A%20%2240%22%2C%20%22properties%22%3A%20%7B%22area%22%3A%202457695.06%2C%20%22latitude%22%3A%2045.50743694550688%2C%20%22longitude%22%3A%209.163090625635787%2C%20%22name%22%3A%20%22Makers%20Hub%22%2C%20%22reachfactor%22%3A%200.5007%2C%20%22total_pop%22%3A%2015456.0%7D%2C%20%22type%22%3A%20%22Feature%22%7D%2C%20%7B%22bbox%22%3A%20%5B9.169061%2C%2045.471918%2C%209.199814%2C%2045.49407%5D%2C%20%22geometry%22%3A%20%7B%22coordinates%22%3A%20%5B%5B%5B9.169061%2C%2045.482646%5D%2C%20%5B9.170136%2C%2045.480346%5D%2C%20%5B9.172683%2C%2045.477907%5D%2C%20%5B9.175512%2C%2045.475514%5D%2C%20%5B9.175783%2C%2045.475331%5D%2C%20%5B9.181182%2C%2045.473172%5D%2C%20%5B9.182173%2C%2045.472545%5D%2C%20%5B9.18225%2C%2045.472503%5D%2C%20%5B9.182407%2C%2045.472417%5D%2C%20%5B9.184137%2C%2045.471918%5D%2C%20%5B9.184309%2C%2045.471964%5D%2C%20%5B9.189367%2C%2045.473403%5D%2C%20%5B9.191757%2C%2045.474177%5D%2C%20%5B9.19342%2C%2045.474933%5D%2C%20%5B9.197728%2C%2045.476309%5D%2C%20%5B9.198283%2C%2045.476431%5D%2C%20%5B9.198587%2C%2045.476657%5D%2C%20%5B9.19981%2C%2045.478101%5D%2C%20%5B9.199814%2C%2045.478133%5D%2C%20%5B9.199587%2C%2045.480532%5D%2C%20%5B9.199268%2C%2045.483423%5D%2C%20%5B9.198001%2C%2045.487975%5D%2C%20%5B9.197011%2C%2045.489605%5D%2C%20%5B9.19602%2C%2045.490282%5D%2C%20%5B9.191209%2C%2045.493432%5D%2C%20%5B9.188057%2C%2045.49407%5D%2C%20%5B9.182963%2C%2045.493623%5D%2C%20%5B9.180561%2C%2045.49354%5D%2C%20%5B9.180313%2C%2045.493514%5D%2C%20%5B9.176785%2C%2045.491211%5D%2C%20%5B9.174716%2C%2045.490573%5D%2C%20%5B9.172581%2C%2045.489348%5D%2C%20%5B9.171811%2C%2045.488809%5D%2C%20%5B9.171225%2C%2045.488353%5D%2C%20%5B9.171209%2C%2045.48833%5D%2C%20%5B9.169173%2C%2045.484838%5D%2C%20%5B9.169061%2C%2045.482646%5D%5D%5D%2C%20%22type%22%3A%20%22Polygon%22%7D%2C%20%22id%22%3A%20%2241%22%2C%20%22properties%22%3A%20%7B%22area%22%3A%204331687.94%2C%20%22latitude%22%3A%2045.4832816922208%2C%20%22longitude%22%3A%209.184259894565583%2C%20%22name%22%3A%20%22Milano%20Luiss%20Hub%22%2C%20%22reachfactor%22%3A%200.8824000000000001%2C%20%22total_pop%22%3A%2046256.0%7D%2C%20%22type%22%3A%20%22Feature%22%7D%2C%20%7B%22bbox%22%3A%20%5B9.169135%2C%2045.471606%2C%209.198536%2C%2045.492739%5D%2C%20%22geometry%22%3A%20%7B%22coordinates%22%3A%20%5B%5B%5B9.169135%2C%2045.482259%5D%2C%20%5B9.169466%2C%2045.479337%5D%2C%20%5B9.170004%2C%2045.47895%5D%2C%20%5B9.170362%2C%2045.478773%5D%2C%20%5B9.174568%2C%2045.475723%5D%2C%20%5B9.175039%2C%2045.474886%5D%2C%20%5B9.175287%2C%2045.474701%5D%2C%20%5B9.179973%2C%2045.472861%5D%2C%20%5B9.183716%2C%2045.471606%5D%2C%20%5B9.187691%2C%2045.472085%5D%2C%20%5B9.18976%2C%2045.473361%5D%2C%20%5B9.191734%2C%2045.474493%5D%2C%20%5B9.197208%2C%2045.476764%5D%2C%20%5B9.198165%2C%2045.477401%5D%2C%20%5B9.198249%2C%2045.477466%5D%2C%20%5B9.198276%2C%2045.47761%5D%2C%20%5B9.198536%2C%2045.480498%5D%2C%20%5B9.198422%2C%2045.481496%5D%2C%20%5B9.197417%2C%2045.484849%5D%2C%20%5B9.197413%2C%2045.484858%5D%2C%20%5B9.196278%2C%2045.486232%5D%2C%20%5B9.19619%2C%2045.486312%5D%2C%20%5B9.192737%2C%2045.488609%5D%2C%20%5B9.18946%2C%2045.490847%5D%2C%20%5B9.186345%2C%2045.49143%5D%2C%20%5B9.183055%2C%2045.492711%5D%2C%20%5B9.182978%2C%2045.492739%5D%2C%20%5B9.179569%2C%2045.4918%5D%2C%20%5B9.174685%2C%2045.48928%5D%2C%20%5B9.172001999999999%2C%2045.485499%5D%2C%20%5B9.169135%2C%2045.482259%5D%5D%5D%2C%20%22type%22%3A%20%22Polygon%22%7D%2C%20%22id%22%3A%20%2242%22%2C%20%22properties%22%3A%20%7B%22area%22%3A%203719090.38%2C%20%22latitude%22%3A%2045.48277607438585%2C%20%22longitude%22%3A%209.182956814039898%2C%20%22name%22%3A%20%22YATTA%22%2C%20%22reachfactor%22%3A%200.7576%2C%20%22total_pop%22%3A%2039433.0%7D%2C%20%22type%22%3A%20%22Feature%22%7D%2C%20%7B%22bbox%22%3A%20%5B2.150873%2C%2041.368332%2C%202.178858%2C%2041.389865%5D%2C%20%22geometry%22%3A%20%7B%22coordinates%22%3A%20%5B%5B%5B2.150873%2C%2041.376702%5D%2C%20%5B2.151138%2C%2041.375168%5D%2C%20%5B2.151572%2C%2041.373026%5D%2C%20%5B2.154826%2C%2041.369693%5D%2C%20%5B2.155583%2C%2041.369435%5D%2C%20%5B2.155806%2C%2041.369371%5D%2C%20%5B2.159288%2C%2041.368667%5D%2C%20%5B2.162888%2C%2041.369241%5D%2C%20%5B2.16708%2C%2041.368332%5D%2C%20%5B2.171196%2C%2041.369537%5D%2C%20%5B2.174034%2C%2041.37067%5D%2C%20%5B2.175456%2C%2041.371353%5D%2C%20%5B2.1782529999999998%2C%2041.373429%5D%2C%20%5B2.178412%2C%2041.373622%5D%2C%20%5B2.178608%2C%2041.377094%5D%2C%20%5B2.178858%2C%2041.38013%5D%2C%20%5B2.17831%2C%2041.384212%5D%2C%20%5B2.178206%2C%2041.384414%5D%2C%20%5B2.177125%2C%2041.386054%5D%2C%20%5B2.177021%2C%2041.386115%5D%2C%20%5B2.173384%2C%2041.387803%5D%2C%20%5B2.1677939999999998%2C%2041.389026%5D%2C%20%5B2.166049%2C%2041.389865%5D%2C%20%5B2.163106%2C%2041.389683%5D%2C%20%5B2.158808%2C%2041.389444%5D%2C%20%5B2.157114%2C%2041.388988%5D%2C%20%5B2.15441%2C%2041.38817%5D%2C%20%5B2.154032%2C%2041.388042%5D%2C%20%5B2.153962%2C%2041.387993%5D%2C%20%5B2.153938%2C%2041.387975%5D%2C%20%5B2.153869%2C%2041.387925%5D%2C%20%5B2.152895%2C%2041.386997%5D%2C%20%5B2.152395%2C%2041.385098%5D%2C%20%5B2.151246%2C%2041.379743%5D%2C%20%5B2.150873%2C%2041.376702%5D%5D%5D%2C%20%22type%22%3A%20%22Polygon%22%7D%2C%20%22id%22%3A%20%2243%22%2C%20%22properties%22%3A%20%7B%22area%22%3A%204641947.59%2C%20%22latitude%22%3A%2041.37881289202178%2C%20%22longitude%22%3A%202.164598368982968%2C%20%22name%22%3A%20%22RavalFab%22%2C%20%22reachfactor%22%3A%200.9456%2C%20%22total_pop%22%3A%2099318.0%7D%2C%20%22type%22%3A%20%22Feature%22%7D%2C%20%7B%22bbox%22%3A%20%5B2.225783%2C%2041.434038%2C%202.248784%2C%2041.451993%5D%2C%20%22geometry%22%3A%20%7B%22coordinates%22%3A%20%5B%5B%5B2.225783%2C%2041.446742%5D%2C%20%5B2.226041%2C%2041.444118%5D%2C%20%5B2.225854%2C%2041.43866%5D%2C%20%5B2.22818%2C%2041.434305%5D%2C%20%5B2.228421%2C%2041.434038%5D%2C%20%5B2.233336%2C%2041.434291%5D%2C%20%5B2.236282%2C%2041.434389%5D%2C%20%5B2.238206%2C%2041.434467%5D%2C%20%5B2.241087%2C%2041.437145%5D%2C%20%5B2.242371%2C%2041.438777%5D%2C%20%5B2.242806%2C%2041.439322%5D%2C%20%5B2.247126%2C%2041.442724%5D%2C%20%5B2.247287%2C%2041.442915%5D%2C%20%5B2.248755%2C%2041.445805%5D%2C%20%5B2.248784%2C%2041.448873%5D%2C%20%5B2.248256%2C%2041.450511%5D%2C%20%5B2.24819%2C%2041.450635%5D%2C%20%5B2.248031%2C%2041.450792%5D%2C%20%5B2.246506%2C%2041.451256%5D%2C%20%5B2.244353%2C%2041.451675%5D%2C%20%5B2.24223%2C%2041.451993%5D%2C%20%5B2.240142%2C%2041.451653%5D%2C%20%5B2.234698%2C%2041.451476%5D%2C%20%5B2.233165%2C%2041.451109%5D%2C%20%5B2.229729%2C%2041.44968%5D%2C%20%5B2.227375%2C%2041.448621%5D%2C%20%5B2.226332%2C%2041.447983%5D%2C%20%5B2.226099%2C%2041.447709%5D%2C%20%5B2.225799%2C%2041.447101%5D%2C%20%5B2.225783%2C%2041.446742%5D%5D%5D%2C%20%22type%22%3A%20%22Polygon%22%7D%2C%20%22id%22%3A%20%2244%22%2C%20%22properties%22%3A%20%7B%22area%22%3A%202947604.66%2C%20%22latitude%22%3A%2041.44280114524807%2C%20%22longitude%22%3A%202.238114638501468%2C%20%22name%22%3A%20%22BDN%20Lab%22%2C%20%22reachfactor%22%3A%200.6005%2C%20%22total_pop%22%3A%2056797.0%7D%2C%20%22type%22%3A%20%22Feature%22%7D%2C%20%7B%22bbox%22%3A%20%5B2.14072%2C%2041.394886%2C%202.167686%2C%2041.415682%5D%2C%20%22geometry%22%3A%20%7B%22coordinates%22%3A%20%5B%5B%5B2.14072%2C%2041.405159%5D%2C%20%5B2.141537%2C%2041.39981%5D%2C%20%5B2.14156%2C%2041.399708%5D%2C%20%5B2.141668%2C%2041.399386%5D%2C%20%5B2.142149%2C%2041.398412%5D%2C%20%5B2.142321%2C%2041.398267%5D%2C%20%5B2.143232%2C%2041.397516%5D%2C%20%5B2.14443%2C%2041.396521%5D%2C%20%5B2.14455%2C%2041.396424%5D%2C%20%5B2.146013%2C%2041.396009%5D%2C%20%5B2.147723%2C%2041.39573%5D%2C%20%5B2.15206%2C%2041.395446%5D%2C%20%5B2.154645%2C%2041.395306%5D%2C%20%5B2.160081%2C%2041.394887%5D%2C%20%5B2.160465%2C%2041.394886%5D%2C%20%5B2.161362%2C%2041.394923%5D%2C%20%5B2.162761%2C%2041.395155%5D%2C%20%5B2.16453%2C%2041.395738%5D%2C%20%5B2.164999%2C%2041.39674%5D%2C%20%5B2.165653%2C%2041.398194%5D%2C%20%5B2.166139%2C%2041.399311%5D%2C%20%5B2.166556%2C%2041.401433%5D%2C%20%5B2.166712%2C%2041.40319%5D%2C%20%5B2.167386%2C%2041.407826%5D%2C%20%5B2.167686%2C%2041.410027%5D%2C%20%5B2.167027%2C%2041.412429%5D%2C%20%5B2.166968%2C%2041.412557%5D%2C%20%5B2.165962%2C%2041.41366%5D%2C%20%5B2.1658049999999998%2C%2041.413716%5D%2C%20%5B2.163111%2C%2041.414248%5D%2C%20%5B2.159626%2C%2041.414799%5D%2C%20%5B2.158057%2C%2041.414933%5D%2C%20%5B2.1548410000000002%2C%2041.415232%5D%2C%20%5B2.150386%2C%2041.415682%5D%2C%20%5B2.15013%2C%2041.415654%5D%2C%20%5B2.146429%2C%2041.415213%5D%2C%20%5B2.145343%2C%2041.414635%5D%2C%20%5B2.144151%2C%2041.413513%5D%2C%20%5B2.143745%2C%2041.412999%5D%2C%20%5B2.141939%2C%2041.408916%5D%2C%20%5B2.140773%2C%2041.405391%5D%2C%20%5B2.14072%2C%2041.405159%5D%5D%5D%2C%20%22type%22%3A%20%22Polygon%22%7D%2C%20%22id%22%3A%20%2245%22%2C%20%22properties%22%3A%20%7B%22area%22%3A%204406637.44%2C%20%22latitude%22%3A%2041.40511327003595%2C%20%22longitude%22%3A%202.154621517643902%2C%20%22name%22%3A%20%22IED%20Maker%20Lab%22%2C%20%22reachfactor%22%3A%200.8977%2C%20%22total_pop%22%3A%2090686.0%7D%2C%20%22type%22%3A%20%22Feature%22%7D%2C%20%7B%22bbox%22%3A%20%5B2.160997%2C%2041.433816%2C%202.19116%2C%2041.453424%5D%2C%20%22geometry%22%3A%20%7B%22coordinates%22%3A%20%5B%5B%5B2.160997%2C%2041.439984%5D%2C%20%5B2.161063%2C%2041.43987%5D%2C%20%5B2.162794%2C%2041.437682%5D%2C%20%5B2.167557%2C%2041.435558%5D%2C%20%5B2.170407%2C%2041.434217%5D%2C%20%5B2.172141%2C%2041.433837%5D%2C%20%5B2.172383%2C%2041.433816%5D%2C%20%5B2.17366%2C%2041.433817%5D%2C%20%5B2.173751%2C%2041.433819%5D%2C%20%5B2.176567%2C%2041.434123%5D%2C%20%5B2.180584%2C%2041.435208%5D%2C%20%5B2.184139%2C%2041.436501%5D%2C%20%5B2.18758%2C%2041.440096%5D%2C%20%5B2.189177%2C%2041.441619%5D%2C%20%5B2.191053%2C%2041.446017%5D%2C%20%5B2.191124%2C%2041.446708%5D%2C%20%5B2.19116%2C%2041.447317%5D%2C%20%5B2.191157%2C%2041.447329%5D%2C%20%5B2.188205%2C%2041.450418%5D%2C%20%5B2.186641%2C%2041.452554%5D%2C%20%5B2.184768%2C%2041.453424%5D%2C%20%5B2.184668%2C%2041.453397%5D%2C%20%5B2.180332%2C%2041.452392%5D%2C%20%5B2.177856%2C%2041.453206%5D%2C%20%5B2.176765%2C%2041.453075%5D%2C%20%5B2.175513%2C%2041.451984%5D%2C%20%5B2.174927%2C%2041.449459%5D%2C%20%5B2.171248%2C%2041.447728%5D%2C%20%5B2.166815%2C%2041.449001%5D%2C%20%5B2.165042%2C%2041.448087%5D%2C%20%5B2.164958%2C%2041.448043%5D%2C%20%5B2.163668%2C%2041.447013%5D%2C%20%5B2.162426%2C%2041.44545%5D%2C%20%5B2.161154%2C%2041.440709%5D%2C%20%5B2.160997%2C%2041.439984%5D%5D%5D%2C%20%22type%22%3A%20%22Polygon%22%7D%2C%20%22id%22%3A%20%2246%22%2C%20%22properties%22%3A%20%7B%22area%22%3A%203739491.45%2C%20%22latitude%22%3A%2041.444393125834125%2C%20%22longitude%22%3A%202.175498282477786%2C%20%22name%22%3A%20%22Punt%20%5Cu00d2mnia%20Casal%20C%5Cu00edvic%20Barcelona%20-%20Verdum%20-%20Fundaci%5Cu00f3%20Pare%20Manel%22%2C%20%22reachfactor%22%3A%200.7618%2C%20%22total_pop%22%3A%2070005.0%7D%2C%20%22type%22%3A%20%22Feature%22%7D%2C%20%7B%22bbox%22%3A%20%5B2.125393%2C%2041.330715%2C%202.141208%2C%2041.342232%5D%2C%20%22geometry%22%3A%20%7B%22coordinates%22%3A%20%5B%5B%5B2.125393%2C%2041.337393%5D%2C%20%5B2.127466%2C%2041.332845%5D%2C%20%5B2.127771%2C%2041.332656%5D%2C%20%5B2.130401%2C%2041.332247%5D%2C%20%5B2.135939%2C%2041.33247%5D%2C%20%5B2.137164%2C%2041.330908%5D%2C%20%5B2.137469%2C%2041.330716%5D%2C%20%5B2.137678%2C%2041.330715%5D%2C%20%5B2.141092%2C%2041.331777%5D%2C%20%5B2.141208%2C%2041.332118%5D%2C%20%5B2.140566%2C%2041.335796%5D%2C%20%5B2.14026%2C%2041.335986%5D%2C%20%5B2.137975%2C%2041.336809%5D%2C%20%5B2.135474%2C%2041.337673%5D%2C%20%5B2.132383%2C%2041.342232%5D%2C%20%5B2.130564%2C%2041.342204%5D%2C%20%5B2.128055%2C%2041.341689%5D%2C%20%5B2.12566%2C%2041.339079%5D%2C%20%5B2.12554%2C%2041.338739%5D%2C%20%5B2.125393%2C%2041.337393%5D%5D%5D%2C%20%22type%22%3A%20%22Polygon%22%7D%2C%20%22id%22%3A%20%2247%22%2C%20%22properties%22%3A%20%7B%22area%22%3A%201016551.68%2C%20%22latitude%22%3A%2041.33648723444821%2C%20%22longitude%22%3A%202.138018746026638%2C%20%22name%22%3A%20%22DFactory%20Barcelona%22%2C%20%22reachfactor%22%3A%200.2071%2C%20%22total_pop%22%3A%2020821.0%7D%2C%20%22type%22%3A%20%22Feature%22%7D%2C%20%7B%22bbox%22%3A%20%5B9.159525%2C%2045.477556%2C%209.185242%2C%2045.495748%5D%2C%20%22geometry%22%3A%20%7B%22coordinates%22%3A%20%5B%5B%5B9.159525%2C%2045.487347%5D%2C%20%5B9.160288%2C%2045.485122%5D%2C%20%5B9.162929%2C%2045.481058%5D%2C%20%5B9.162962%2C%2045.481033%5D%2C%20%5B9.164857%2C%2045.479672%5D%2C%20%5B9.16842%2C%2045.480057%5D%2C%20%5B9.171014%2C%2045.479728%5D%2C%20%5B9.174074%2C%2045.47878%5D%2C%20%5B9.176667%2C%2045.477556%5D%2C%20%5B9.178716%2C%2045.477708%5D%2C%20%5B9.181989%2C%2045.479321%5D%2C%20%5B9.184175%2C%2045.480734%5D%2C%20%5B9.184248%2C%2045.480863%5D%2C%20%5B9.185242%2C%2045.484037%5D%2C%20%5B9.184855%2C%2045.486924%5D%2C%20%5B9.182006%2C%2045.489076%5D%2C%20%5B9.178656%2C%2045.48965%5D%2C%20%5B9.177588%2C%2045.489862%5D%2C%20%5B9.177376%2C%2045.489911%5D%2C%20%5B9.176985%2C%2045.48972%5D%2C%20%5B9.176125%2C%2045.489408%5D%2C%20%5B9.170693%2C%2045.491227%5D%2C%20%5B9.167258%2C%2045.4954%5D%2C%20%5B9.167164%2C%2045.495468%5D%2C%20%5B9.16662%2C%2045.495694%5D%2C%20%5B9.166491%2C%2045.495725%5D%2C%20%5B9.166103%2C%2045.495744%5D%2C%20%5B9.165998%2C%2045.495748%5D%2C%20%5B9.163557%2C%2045.494748%5D%2C%20%5B9.163503%2C%2045.494713%5D%2C%20%5B9.163494%2C%2045.494707%5D%2C%20%5B9.163351%2C%2045.494614%5D%2C%20%5B9.159972%2C%2045.489667%5D%2C%20%5B9.15996%2C%2045.489659%5D%2C%20%5B9.159642999999999%2C%2045.489219%5D%2C%20%5B9.159525%2C%2045.487347%5D%5D%5D%2C%20%22type%22%3A%20%22Polygon%22%7D%2C%20%22id%22%3A%20%2248%22%2C%20%22properties%22%3A%20%7B%22area%22%3A%202511071.05%2C%20%22latitude%22%3A%2045.48916944106436%2C%20%22longitude%22%3A%209.173905038143518%2C%20%22name%22%3A%20%22Locanda%20Officina%20Monumentale%22%2C%20%22reachfactor%22%3A%200.5116%2C%20%22total_pop%22%3A%2033427.0%7D%2C%20%22type%22%3A%20%22Feature%22%7D%2C%20%7B%22bbox%22%3A%20%5B9.151118%2C%2045.499298%2C%209.179808%2C%2045.522103%5D%2C%20%22geometry%22%3A%20%7B%22coordinates%22%3A%20%5B%5B%5B9.151118%2C%2045.510635%5D%2C%20%5B9.151805%2C%2045.509547%5D%2C%20%5B9.151915%2C%2045.509381%5D%2C%20%5B9.152818%2C%2045.509163%5D%2C%20%5B9.153246%2C%2045.509353%5D%2C%20%5B9.158062%2C%2045.508802%5D%2C%20%5B9.157965%2C%2045.505203%5D%2C%20%5B9.15869%2C%2045.50384%5D%2C%20%5B9.158943%2C%2045.503383%5D%2C%20%5B9.162278%2C%2045.50184%5D%2C%20%5B9.163689%2C%2045.5012%5D%2C%20%5B9.164429%2C%2045.50101%5D%2C%20%5B9.166195%2C%2045.500663%5D%2C%20%5B9.170276%2C%2045.499413%5D%2C%20%5B9.171722%2C%2045.499298%5D%2C%20%5B9.172133%2C%2045.499433%5D%2C%20%5B9.172313%2C%2045.499528%5D%2C%20%5B9.176424%2C%2045.502749%5D%2C%20%5B9.177534%2C%2045.503969%5D%2C%20%5B9.179808%2C%2045.50818%5D%2C%20%5B9.179751%2C%2045.508376%5D%2C%20%5B9.178295%2C%2045.513392%5D%2C%20%5B9.177728%2C%2045.515841%5D%2C%20%5B9.177144%2C%2045.517626%5D%2C%20%5B9.176826%2C%2045.518279%5D%2C%20%5B9.175279%2C%2045.519263%5D%2C%20%5B9.171038%2C%2045.521527%5D%2C%20%5B9.171022%2C%2045.521535%5D%2C%20%5B9.170584%2C%2045.521698%5D%2C%20%5B9.170571%2C%2045.521702%5D%2C%20%5B9.167228%2C%2045.522103%5D%2C%20%5B9.16704%2C%2045.522061%5D%2C%20%5B9.164526%2C%2045.52089%5D%2C%20%5B9.164133%2C%2045.52019%5D%2C%20%5B9.163696999999999%2C%2045.519051%5D%2C%20%5B9.157964%2C%2045.51799%5D%2C%20%5B9.157268%2C%2045.51866%5D%2C%20%5B9.157031%2C%2045.518667%5D%2C%20%5B9.156641%2C%2045.518594%5D%2C%20%5B9.154623%2C%2045.518121%5D%2C%20%5B9.15432%2C%2045.517815%5D%2C%20%5B9.153347%2C%2045.516455%5D%2C%20%5B9.151305%2C%2045.512562%5D%2C%20%5B9.151118%2C%2045.510635%5D%5D%5D%2C%20%22type%22%3A%20%22Polygon%22%7D%2C%20%22id%22%3A%20%2249%22%2C%20%22properties%22%3A%20%7B%22area%22%3A%203764548.22%2C%20%22latitude%22%3A%2045.51120517808544%2C%20%22longitude%22%3A%209.166396115376823%2C%20%22name%22%3A%20%22Ideas%20Bit%20Factory%22%2C%20%22reachfactor%22%3A%200.7669%2C%20%22total_pop%22%3A%2033088.0%7D%2C%20%22type%22%3A%20%22Feature%22%7D%2C%20%7B%22bbox%22%3A%20%5B9.165432%2C%2045.54999%2C%209.190593%2C%2045.568893%5D%2C%20%22geometry%22%3A%20%7B%22coordinates%22%3A%20%5B%5B%5B9.165432%2C%2045.560931%5D%2C%20%5B9.165585%2C%2045.56076%5D%2C%20%5B9.165612%2C%2045.560732%5D%2C%20%5B9.166253%2C%2045.560129%5D%2C%20%5B9.166543%2C%2045.559853%5D%2C%20%5B9.166968%2C%2045.559522%5D%2C%20%5B9.168663%2C%2045.558011%5D%2C%20%5B9.171682%2C%2045.554116%5D%2C%20%5B9.174476%2C%2045.552096%5D%2C%20%5B9.179331%2C%2045.550558%5D%2C%20%5B9.180382%2C%2045.550041%5D%2C%20%5B9.181132999999999%2C%2045.54999%5D%2C%20%5B9.181481%2C%2045.550084%5D%2C%20%5B9.182574%2C%2045.55063%5D%2C%20%5B9.1847%2C%2045.552022%5D%2C%20%5B9.187059%2C%2045.556534%5D%2C%20%5B9.189823%2C%2045.558748%5D%2C%20%5B9.190593%2C%2045.560645%5D%2C%20%5B9.190506%2C%2045.560994%5D%2C%20%5B9.190407%2C%2045.561064%5D%2C%20%5B9.185868%2C%2045.563801%5D%2C%20%5B9.18386%2C%2045.563188%5D%2C%20%5B9.18349%2C%2045.563075%5D%2C%20%5B9.183333%2C%2045.563027%5D%2C%20%5B9.181858%2C%2045.562272%5D%2C%20%5B9.176861%2C%2045.563495%5D%2C%20%5B9.177008%2C%2045.56653%5D%2C%20%5B9.176922%2C%2045.566879%5D%2C%20%5B9.171808%2C%2045.568893%5D%2C%20%5B9.171448%2C%2045.568893%5D%2C%20%5B9.168895%2C%2045.567914%5D%2C%20%5B9.168564%2C%2045.567772%5D%2C%20%5B9.166627%2C%2045.565168%5D%2C%20%5B9.166543%2C%2045.565019%5D%2C%20%5B9.165432%2C%2045.560931%5D%5D%5D%2C%20%22type%22%3A%20%22Polygon%22%7D%2C%20%22id%22%3A%20%2250%22%2C%20%22properties%22%3A%20%7B%22area%22%3A%202319424.78%2C%20%22latitude%22%3A%2045.56040465900402%2C%20%22longitude%22%3A%209.177184693543932%2C%20%22name%22%3A%20%22Share%20Makerspace%22%2C%20%22reachfactor%22%3A%200.47250000000000003%2C%20%22total_pop%22%3A%2011593.0%7D%2C%20%22type%22%3A%20%22Feature%22%7D%2C%20%7B%22bbox%22%3A%20%5B9.133368%2C%2045.491968%2C%209.163314%2C%2045.511425%5D%2C%20%22geometry%22%3A%20%7B%22coordinates%22%3A%20%5B%5B%5B9.133368%2C%2045.50025%5D%2C%20%5B9.133373%2C%2045.500242%5D%2C%20%5B9.134257999999999%2C%2045.498817%5D%2C%20%5B9.134421%2C%2045.498553%5D%2C%20%5B9.136003%2C%2045.496118%5D%2C%20%5B9.138106%2C%2045.493038%5D%2C%20%5B9.138641%2C%2045.492871%5D%2C%20%5B9.138918%2C%2045.492785%5D%2C%20%5B9.144248%2C%2045.492271%5D%2C%20%5B9.149541%2C%2045.491968%5D%2C%20%5B9.153366%2C%2045.492418%5D%2C%20%5B9.155904%2C%2045.49284%5D%2C%20%5B9.160343%2C%2045.493981%5D%2C%20%5B9.16042%2C%2045.494042%5D%2C%20%5B9.158528%2C%2045.495832%5D%2C%20%5B9.158198%2C%2045.496874%5D%2C%20%5B9.161922%2C%2045.501134%5D%2C%20%5B9.162656%2C%2045.5013%5D%2C%20%5B9.162747%2C%2045.501396%5D%2C%20%5B9.162898%2C%2045.501725%5D%2C%20%5B9.163314%2C%2045.503495%5D%2C%20%5B9.163218%2C%2045.504393%5D%2C%20%5B9.163215%2C%2045.5044%5D%2C%20%5B9.162196%2C%2045.504941%5D%2C%20%5B9.161276%2C%2045.50531%5D%2C%20%5B9.161264%2C%2045.505308%5D%2C%20%5B9.160721%2C%2045.505069%5D%2C%20%5B9.157128%2C%2045.502801%5D%2C%20%5B9.153016%2C%2045.503265999999996%5D%2C%20%5B9.150542%2C%2045.507945%5D%2C%20%5B9.150241%2C%2045.510055%5D%2C%20%5B9.150214%2C%2045.510159%5D%2C%20%5B9.149901%2C%2045.510486%5D%2C%20%5B9.149642%2C%2045.510739%5D%2C%20%5B9.148864%2C%2045.51113%5D%2C%20%5B9.147507%2C%2045.511425%5D%2C%20%5B9.147481%2C%2045.511421%5D%2C%20%5B9.146336%2C%2045.51009%5D%2C%20%5B9.140841%2C%2045.509224%5D%2C%20%5B9.139643%2C%2045.509355%5D%2C%20%5B9.138921%2C%2045.50948%5D%2C%20%5B9.13872%2C%2045.509448%5D%2C%20%5B9.1376%2C%2045.509277%5D%2C%20%5B9.137536%2C%2045.509224%5D%2C%20%5B9.137374%2C%2045.508955%5D%2C%20%5B9.134738%2C%2045.504319%5D%2C%20%5B9.133368%2C%2045.50025%5D%5D%5D%2C%20%22type%22%3A%20%22Polygon%22%7D%2C%20%22id%22%3A%20%2251%22%2C%20%22properties%22%3A%20%7B%22area%22%3A%203275295.21%2C%20%22latitude%22%3A%2045.501912961893474%2C%20%22longitude%22%3A%209.148734090413498%2C%20%22name%22%3A%20%22Recipient%22%2C%20%22reachfactor%22%3A%200.6672%2C%20%22total_pop%22%3A%2030747.0%7D%2C%20%22type%22%3A%20%22Feature%22%7D%2C%20%7B%22bbox%22%3A%20%5B2.100755%2C%2041.379321%2C%202.125176%2C%2041.399306%5D%2C%20%22geometry%22%3A%20%7B%22coordinates%22%3A%20%5B%5B%5B2.100755%2C%2041.388362%5D%2C%20%5B2.102194%2C%2041.383073%5D%2C%20%5B2.104348%2C%2041.380804%5D%2C%20%5B2.105955%2C%2041.379843%5D%2C%20%5B2.109563%2C%2041.380789%5D%2C%20%5B2.115076%2C%2041.379379%5D%2C%20%5B2.115847%2C%2041.379321%5D%2C%20%5B2.119652%2C%2041.380831%5D%2C%20%5B2.121184%2C%2041.382592%5D%2C%20%5B2.124104%2C%2041.386042%5D%2C%20%5B2.12497%2C%2041.388538%5D%2C%20%5B2.125176%2C%2041.39199%5D%2C%20%5B2.125167%2C%2041.392345%5D%2C%20%5B2.122737%2C%2041.395441%5D%2C%20%5B2.121763%2C%2041.396113%5D%2C%20%5B2.118008%2C%2041.39809%5D%2C%20%5B2.1159689999999998%2C%2041.399306%5D%2C%20%5B2.11588%2C%2041.399305%5D%2C%20%5B2.114556%2C%2041.39927%5D%2C%20%5B2.114409%2C%2041.399266%5D%2C%20%5B2.113295%2C%2041.39921%5D%2C%20%5B2.110264%2C%2041.398909%5D%2C%20%5B2.105741%2C%2041.398141%5D%2C%20%5B2.10555%2C%2041.398089%5D%2C%20%5B2.105387%2C%2041.397982%5D%2C%20%5B2.104251%2C%2041.397057%5D%2C%20%5B2.102409%2C%2041.395324%5D%2C%20%5B2.102342%2C%2041.395058%5D%2C%20%5B2.101906%2C%2041.392112%5D%2C%20%5B2.100755%2C%2041.388362%5D%5D%5D%2C%20%22type%22%3A%20%22Polygon%22%7D%2C%20%22id%22%3A%20%2252%22%2C%20%22properties%22%3A%20%7B%22area%22%3A%203547085.01%2C%20%22latitude%22%3A%2041.38878736307806%2C%20%22longitude%22%3A%202.111369796301172%2C%20%22name%22%3A%20%22Camins%20Makers%22%2C%20%22reachfactor%22%3A%200.7226%2C%20%22total_pop%22%3A%2061277.0%7D%2C%20%22type%22%3A%20%22Feature%22%7D%5D%2C%20%22type%22%3A%20%22FeatureCollection%22%7D%29%3B%0A%0A%20%20%20%20%20%20%20%20%0A%20%20%20%20%0A%20%20%20%20geo_json_660a82f5427f47ef9fef2f731cea292c.bindTooltip%28%0A%20%20%20%20function%28layer%29%7B%0A%20%20%20%20let%20div%20%3D%20L.DomUtil.create%28%27div%27%29%3B%0A%20%20%20%20%0A%20%20%20%20let%20handleObject%20%3D%20feature%3D%3Etypeof%28feature%29%3D%3D%27object%27%20%3F%20JSON.stringify%28feature%29%20%3A%20feature%3B%0A%20%20%20%20let%20fields%20%3D%20%5B%22name%22%2C%20%22longitude%22%2C%20%22latitude%22%2C%20%22total_pop%22%2C%20%22area%22%2C%20%22reachfactor%22%5D%3B%0A%20%20%20%20let%20aliases%20%3D%20%5B%22name%22%2C%20%22longitude%22%2C%20%22latitude%22%2C%20%22total_pop%22%2C%20%22area%22%2C%20%22reachfactor%22%5D%3B%0A%20%20%20%20let%20table%20%3D%20%27%3Ctable%3E%27%20%2B%0A%20%20%20%20%20%20%20%20String%28%0A%20%20%20%20%20%20%20%20fields.map%28%0A%20%20%20%20%20%20%20%20%28v%2Ci%29%3D%3E%0A%20%20%20%20%20%20%20%20%60%3Ctr%3E%0A%20%20%20%20%20%20%20%20%20%20%20%20%3Cth%3E%24%7Baliases%5Bi%5D%7D%3C/th%3E%0A%20%20%20%20%20%20%20%20%20%20%20%20%0A%20%20%20%20%20%20%20%20%20%20%20%20%3Ctd%3E%24%7BhandleObject%28layer.feature.properties%5Bv%5D%29%7D%3C/td%3E%0A%20%20%20%20%20%20%20%20%3C/tr%3E%60%29.join%28%27%27%29%29%0A%20%20%20%20%2B%27%3C/table%3E%27%3B%0A%20%20%20%20div.innerHTML%3Dtable%3B%0A%20%20%20%20%0A%20%20%20%20return%20div%0A%20%20%20%20%7D%0A%20%20%20%20%2C%7B%22className%22%3A%20%22foliumtooltip%22%2C%20%22sticky%22%3A%20true%7D%29%3B%0A%20%20%20%20%20%20%20%20%20%20%20%20%20%20%20%20%20%20%20%20%20%0A%3C/script%3E onload=\"this.contentDocument.open();this.contentDocument.write(    decodeURIComponent(this.getAttribute('data-html')));this.contentDocument.close();\" allowfullscreen webkitallowfullscreen mozallowfullscreen></iframe></div></div>"
      ],
      "text/plain": [
       "<folium.folium.Map at 0x1207620d0>"
      ]
     },
     "execution_count": 15,
     "metadata": {},
     "output_type": "execute_result"
    }
   ],
   "source": [
    "isochrones.explore()"
   ]
  },
  {
   "cell_type": "code",
   "execution_count": 16,
   "metadata": {},
   "outputs": [
    {
     "data": {
      "text/html": [
       "<div>\n",
       "<style scoped>\n",
       "    .dataframe tbody tr th:only-of-type {\n",
       "        vertical-align: middle;\n",
       "    }\n",
       "\n",
       "    .dataframe tbody tr th {\n",
       "        vertical-align: top;\n",
       "    }\n",
       "\n",
       "    .dataframe thead th {\n",
       "        text-align: right;\n",
       "    }\n",
       "</style>\n",
       "<table border=\"1\" class=\"dataframe\">\n",
       "  <thead>\n",
       "    <tr style=\"text-align: right;\">\n",
       "      <th></th>\n",
       "      <th>name</th>\n",
       "      <th>longitude</th>\n",
       "      <th>latitude</th>\n",
       "      <th>total_pop</th>\n",
       "      <th>area</th>\n",
       "      <th>reachfactor</th>\n",
       "      <th>geometry</th>\n",
       "    </tr>\n",
       "  </thead>\n",
       "  <tbody>\n",
       "    <tr>\n",
       "      <th>0</th>\n",
       "      <td>Fab Lab Barcelona</td>\n",
       "      <td>2.194335</td>\n",
       "      <td>41.396925</td>\n",
       "      <td>84175.0</td>\n",
       "      <td>4351089.58</td>\n",
       "      <td>0.8864</td>\n",
       "      <td>POLYGON ((2.18181 41.39619, 2.18182 41.39463, ...</td>\n",
       "    </tr>\n",
       "    <tr>\n",
       "      <th>1</th>\n",
       "      <td>MADE Makerspace Barcelona</td>\n",
       "      <td>2.141084</td>\n",
       "      <td>41.373238</td>\n",
       "      <td>88686.0</td>\n",
       "      <td>4388156.04</td>\n",
       "      <td>0.8939</td>\n",
       "      <td>POLYGON ((2.12747 41.37483, 2.12830 41.37021, ...</td>\n",
       "    </tr>\n",
       "    <tr>\n",
       "      <th>2</th>\n",
       "      <td>Soko Tech</td>\n",
       "      <td>2.188883</td>\n",
       "      <td>41.424535</td>\n",
       "      <td>90167.0</td>\n",
       "      <td>4342469.36</td>\n",
       "      <td>0.8846</td>\n",
       "      <td>POLYGON ((2.17485 41.42471, 2.17489 41.42377, ...</td>\n",
       "    </tr>\n",
       "    <tr>\n",
       "      <th>3</th>\n",
       "      <td>LSCongres</td>\n",
       "      <td>2.182026</td>\n",
       "      <td>41.426002</td>\n",
       "      <td>95371.0</td>\n",
       "      <td>4470900.19</td>\n",
       "      <td>0.9108</td>\n",
       "      <td>POLYGON ((2.16701 41.42773, 2.16735 41.42654, ...</td>\n",
       "    </tr>\n",
       "    <tr>\n",
       "      <th>4</th>\n",
       "      <td>Green Fab Lab</td>\n",
       "      <td>2.133441</td>\n",
       "      <td>41.450394</td>\n",
       "      <td>29.0</td>\n",
       "      <td>668382.48</td>\n",
       "      <td>0.1362</td>\n",
       "      <td>POLYGON ((2.13019 41.44688, 2.13044 41.44663, ...</td>\n",
       "    </tr>\n",
       "  </tbody>\n",
       "</table>\n",
       "</div>"
      ],
      "text/plain": [
       "                        name  longitude   latitude  total_pop        area  \\\n",
       "0          Fab Lab Barcelona   2.194335  41.396925    84175.0  4351089.58   \n",
       "1  MADE Makerspace Barcelona   2.141084  41.373238    88686.0  4388156.04   \n",
       "2                  Soko Tech   2.188883  41.424535    90167.0  4342469.36   \n",
       "3                  LSCongres   2.182026  41.426002    95371.0  4470900.19   \n",
       "4              Green Fab Lab   2.133441  41.450394       29.0   668382.48   \n",
       "\n",
       "   reachfactor                                           geometry  \n",
       "0       0.8864  POLYGON ((2.18181 41.39619, 2.18182 41.39463, ...  \n",
       "1       0.8939  POLYGON ((2.12747 41.37483, 2.12830 41.37021, ...  \n",
       "2       0.8846  POLYGON ((2.17485 41.42471, 2.17489 41.42377, ...  \n",
       "3       0.9108  POLYGON ((2.16701 41.42773, 2.16735 41.42654, ...  \n",
       "4       0.1362  POLYGON ((2.13019 41.44688, 2.13044 41.44663, ...  "
      ]
     },
     "execution_count": 16,
     "metadata": {},
     "output_type": "execute_result"
    }
   ],
   "source": [
    "isochrones.head()"
   ]
  },
  {
   "cell_type": "code",
   "execution_count": 17,
   "metadata": {},
   "outputs": [],
   "source": [
    "isochrones.to_file(\"data/lab_isochrones.geojson\",driver='GeoJSON')"
   ]
  },
  {
   "cell_type": "code",
   "execution_count": 18,
   "metadata": {},
   "outputs": [],
   "source": [
    "columns = {\n",
    "    'name': 'Name'\n",
    "}\n",
    "isochrones.rename(columns=columns, inplace=True)"
   ]
  },
  {
   "cell_type": "code",
   "execution_count": 19,
   "metadata": {},
   "outputs": [],
   "source": [
    "labs = isochrones.merge(data_labs, on=\"Name\")\n",
    "labs = gpd.GeoDataFrame(labs)"
   ]
  },
  {
   "cell_type": "code",
   "execution_count": 20,
   "metadata": {},
   "outputs": [],
   "source": [
    "columns = {\n",
    "    'geometry_x': 'geometry'\n",
    "}\n",
    "labs.rename(columns=columns, inplace=True)"
   ]
  },
  {
   "cell_type": "code",
   "execution_count": 21,
   "metadata": {},
   "outputs": [
    {
     "data": {
      "text/html": [
       "<div>\n",
       "<style scoped>\n",
       "    .dataframe tbody tr th:only-of-type {\n",
       "        vertical-align: middle;\n",
       "    }\n",
       "\n",
       "    .dataframe tbody tr th {\n",
       "        vertical-align: top;\n",
       "    }\n",
       "\n",
       "    .dataframe thead th {\n",
       "        text-align: right;\n",
       "    }\n",
       "</style>\n",
       "<table border=\"1\" class=\"dataframe\">\n",
       "  <thead>\n",
       "    <tr style=\"text-align: right;\">\n",
       "      <th></th>\n",
       "      <th>Name</th>\n",
       "      <th>longitude</th>\n",
       "      <th>latitude</th>\n",
       "      <th>total_pop</th>\n",
       "      <th>area</th>\n",
       "      <th>reachfactor</th>\n",
       "      <th>geometry</th>\n",
       "      <th>Type</th>\n",
       "      <th>City</th>\n",
       "      <th>Cluster</th>\n",
       "      <th>Address</th>\n",
       "      <th>CAP</th>\n",
       "      <th>Lat</th>\n",
       "      <th>Long</th>\n",
       "      <th>Source</th>\n",
       "      <th>URL</th>\n",
       "      <th>Notes</th>\n",
       "      <th>geometry_y</th>\n",
       "    </tr>\n",
       "  </thead>\n",
       "  <tbody>\n",
       "    <tr>\n",
       "      <th>0</th>\n",
       "      <td>Fab Lab Barcelona</td>\n",
       "      <td>2.194335</td>\n",
       "      <td>41.396925</td>\n",
       "      <td>84175.0</td>\n",
       "      <td>4351089.58</td>\n",
       "      <td>0.8864</td>\n",
       "      <td>POLYGON ((2.18181 41.39619, 2.18182 41.39463, ...</td>\n",
       "      <td>Fab Lab</td>\n",
       "      <td>Barcelona</td>\n",
       "      <td>BCN</td>\n",
       "      <td>Carrer de Pujades, 102</td>\n",
       "      <td>8005.0</td>\n",
       "      <td>41.396925</td>\n",
       "      <td>2.194335</td>\n",
       "      <td>Fablabs.io</td>\n",
       "      <td>https://fablabbcn.org/</td>\n",
       "      <td>NaN</td>\n",
       "      <td>POINT (2.19434 41.39692)</td>\n",
       "    </tr>\n",
       "    <tr>\n",
       "      <th>1</th>\n",
       "      <td>MADE Makerspace Barcelona</td>\n",
       "      <td>2.141084</td>\n",
       "      <td>41.373238</td>\n",
       "      <td>88686.0</td>\n",
       "      <td>4388156.04</td>\n",
       "      <td>0.8939</td>\n",
       "      <td>POLYGON ((2.12747 41.37483, 2.12830 41.37021, ...</td>\n",
       "      <td>Fab Lab</td>\n",
       "      <td>Barcelona</td>\n",
       "      <td>BCN</td>\n",
       "      <td>Carrer Noguera Pallaresa 59-61</td>\n",
       "      <td>8014.0</td>\n",
       "      <td>41.373238</td>\n",
       "      <td>2.141084</td>\n",
       "      <td>Fablabs.io, Hackerspaces.org, Makerspaces.make.co</td>\n",
       "      <td>NaN</td>\n",
       "      <td>NaN</td>\n",
       "      <td>POINT (2.14108 41.37324)</td>\n",
       "    </tr>\n",
       "    <tr>\n",
       "      <th>2</th>\n",
       "      <td>Soko Tech</td>\n",
       "      <td>2.188883</td>\n",
       "      <td>41.424535</td>\n",
       "      <td>90167.0</td>\n",
       "      <td>4342469.36</td>\n",
       "      <td>0.8846</td>\n",
       "      <td>POLYGON ((2.17485 41.42471, 2.17489 41.42377, ...</td>\n",
       "      <td>Fab Lab</td>\n",
       "      <td>Barcelona</td>\n",
       "      <td>BCN</td>\n",
       "      <td>Carrer de Vallès i Ribot, 36</td>\n",
       "      <td>8027.0</td>\n",
       "      <td>41.424535</td>\n",
       "      <td>2.188883</td>\n",
       "      <td>Fablabs.io</td>\n",
       "      <td>https://soko.tech/</td>\n",
       "      <td>NaN</td>\n",
       "      <td>POINT (2.18888 41.42454)</td>\n",
       "    </tr>\n",
       "    <tr>\n",
       "      <th>3</th>\n",
       "      <td>LSCongres</td>\n",
       "      <td>2.182026</td>\n",
       "      <td>41.426002</td>\n",
       "      <td>95371.0</td>\n",
       "      <td>4470900.19</td>\n",
       "      <td>0.9108</td>\n",
       "      <td>POLYGON ((2.16701 41.42773, 2.16735 41.42654, ...</td>\n",
       "      <td>Fab Lab</td>\n",
       "      <td>Barcelona</td>\n",
       "      <td>BCN</td>\n",
       "      <td>Carrer del Cardenal Tedeschini, 50</td>\n",
       "      <td>8027.0</td>\n",
       "      <td>41.426002</td>\n",
       "      <td>2.182026</td>\n",
       "      <td>Fablabs.io</td>\n",
       "      <td>https://fablabs.io/labs/lscongres</td>\n",
       "      <td>NaN</td>\n",
       "      <td>POINT (2.18203 41.42600)</td>\n",
       "    </tr>\n",
       "    <tr>\n",
       "      <th>4</th>\n",
       "      <td>Green Fab Lab</td>\n",
       "      <td>2.133441</td>\n",
       "      <td>41.450394</td>\n",
       "      <td>29.0</td>\n",
       "      <td>668382.48</td>\n",
       "      <td>0.1362</td>\n",
       "      <td>POLYGON ((2.13019 41.44688, 2.13044 41.44663, ...</td>\n",
       "      <td>Fab Lab</td>\n",
       "      <td>Cerdanyola del Vallès</td>\n",
       "      <td>BCN</td>\n",
       "      <td>Ctra. BV-1415 (Horta-Cerdanyola), km 7</td>\n",
       "      <td>8290.0</td>\n",
       "      <td>41.450394</td>\n",
       "      <td>2.133441</td>\n",
       "      <td>Fablabs.io</td>\n",
       "      <td>NaN</td>\n",
       "      <td>NaN</td>\n",
       "      <td>POINT (2.13344 41.45039)</td>\n",
       "    </tr>\n",
       "  </tbody>\n",
       "</table>\n",
       "</div>"
      ],
      "text/plain": [
       "                        Name  longitude   latitude  total_pop        area  \\\n",
       "0          Fab Lab Barcelona   2.194335  41.396925    84175.0  4351089.58   \n",
       "1  MADE Makerspace Barcelona   2.141084  41.373238    88686.0  4388156.04   \n",
       "2                  Soko Tech   2.188883  41.424535    90167.0  4342469.36   \n",
       "3                  LSCongres   2.182026  41.426002    95371.0  4470900.19   \n",
       "4              Green Fab Lab   2.133441  41.450394       29.0   668382.48   \n",
       "\n",
       "   reachfactor                                           geometry     Type  \\\n",
       "0       0.8864  POLYGON ((2.18181 41.39619, 2.18182 41.39463, ...  Fab Lab   \n",
       "1       0.8939  POLYGON ((2.12747 41.37483, 2.12830 41.37021, ...  Fab Lab   \n",
       "2       0.8846  POLYGON ((2.17485 41.42471, 2.17489 41.42377, ...  Fab Lab   \n",
       "3       0.9108  POLYGON ((2.16701 41.42773, 2.16735 41.42654, ...  Fab Lab   \n",
       "4       0.1362  POLYGON ((2.13019 41.44688, 2.13044 41.44663, ...  Fab Lab   \n",
       "\n",
       "                    City Cluster                                 Address  \\\n",
       "0              Barcelona     BCN                  Carrer de Pujades, 102   \n",
       "1              Barcelona     BCN          Carrer Noguera Pallaresa 59-61   \n",
       "2              Barcelona     BCN            Carrer de Vallès i Ribot, 36   \n",
       "3              Barcelona     BCN      Carrer del Cardenal Tedeschini, 50   \n",
       "4  Cerdanyola del Vallès     BCN  Ctra. BV-1415 (Horta-Cerdanyola), km 7   \n",
       "\n",
       "      CAP        Lat      Long  \\\n",
       "0  8005.0  41.396925  2.194335   \n",
       "1  8014.0  41.373238  2.141084   \n",
       "2  8027.0  41.424535  2.188883   \n",
       "3  8027.0  41.426002  2.182026   \n",
       "4  8290.0  41.450394  2.133441   \n",
       "\n",
       "                                              Source  \\\n",
       "0                                         Fablabs.io   \n",
       "1  Fablabs.io, Hackerspaces.org, Makerspaces.make.co   \n",
       "2                                         Fablabs.io   \n",
       "3                                         Fablabs.io   \n",
       "4                                         Fablabs.io   \n",
       "\n",
       "                                 URL  Notes                geometry_y  \n",
       "0             https://fablabbcn.org/    NaN  POINT (2.19434 41.39692)  \n",
       "1                                NaN    NaN  POINT (2.14108 41.37324)  \n",
       "2                 https://soko.tech/    NaN  POINT (2.18888 41.42454)  \n",
       "3  https://fablabs.io/labs/lscongres    NaN  POINT (2.18203 41.42600)  \n",
       "4                                NaN    NaN  POINT (2.13344 41.45039)  "
      ]
     },
     "execution_count": 21,
     "metadata": {},
     "output_type": "execute_result"
    }
   ],
   "source": [
    "labs.head()"
   ]
  },
  {
   "cell_type": "code",
   "execution_count": 22,
   "metadata": {},
   "outputs": [],
   "source": [
    "columns = {\n",
    "    'Name': 'name',\n",
    "    'Type': 'type',\n",
    "    'City': 'city',\n",
    "    'Cluster':  'cluster',\n",
    "    'Address': 'address',\n",
    "    'CAP': 'zipcode',\n",
    "    'Source': 'source',\n",
    "    'URL': 'url',\n",
    "    'Notes': 'notes',\n",
    "    'geomtry_y': 'geomtry'\n",
    "}\n",
    "labs.rename(columns=columns, inplace=True)"
   ]
  },
  {
   "cell_type": "code",
   "execution_count": 23,
   "metadata": {},
   "outputs": [],
   "source": [
    "#labs.to_file(\"data/labs_isochrones.geojson\",driver='GeoJSON')"
   ]
  },
  {
   "cell_type": "markdown",
   "metadata": {},
   "source": [
    "# Analysis of Facebook data"
   ]
  },
  {
   "cell_type": "markdown",
   "metadata": {},
   "source": [
    "## Setup and functions"
   ]
  },
  {
   "cell_type": "code",
   "execution_count": 24,
   "metadata": {},
   "outputs": [],
   "source": [
    "labs_ita = labs[labs.cluster == \"MI\"]\n",
    "labs_esp = labs[labs.cluster == \"BCN\"]\n",
    "labs_ita = gpd.GeoDataFrame(labs_ita)\n",
    "labs_esp = gpd.GeoDataFrame(labs_esp)"
   ]
  },
  {
   "cell_type": "code",
   "execution_count": 25,
   "metadata": {},
   "outputs": [
    {
     "data": {
      "text/plain": [
       "<AxesSubplot:>"
      ]
     },
     "execution_count": 25,
     "metadata": {},
     "output_type": "execute_result"
    },
    {
     "data": {
      "image/png": "[encoded data removed]",
      "text/plain": [
       "<Figure size 432x288 with 1 Axes>"
      ]
     },
     "metadata": {},
     "output_type": "display_data"
    }
   ],
   "source": [
    "labs_ita.plot()"
   ]
  },
  {
   "cell_type": "code",
   "execution_count": 26,
   "metadata": {},
   "outputs": [
    {
     "data": {
      "text/plain": [
       "<AxesSubplot:>"
      ]
     },
     "execution_count": 26,
     "metadata": {},
     "output_type": "execute_result"
    },
    {
     "data": {
      "image/png": "[encoded data removed]",
      "text/plain": [
       "<Figure size 432x288 with 1 Axes>"
      ]
     },
     "metadata": {},
     "output_type": "display_data"
    }
   ],
   "source": [
    "labs_esp.plot()"
   ]
  },
  {
   "cell_type": "code",
   "execution_count": 27,
   "metadata": {},
   "outputs": [],
   "source": [
    "area_total_ita = labs[labs.cluster == \"MI\"].dissolve(by='cluster')\n",
    "area_total_esp = labs[labs.cluster == \"BCN\"].dissolve(by='cluster')"
   ]
  },
  {
   "cell_type": "code",
   "execution_count": 28,
   "metadata": {},
   "outputs": [
    {
     "data": {
      "text/plain": [
       "<AxesSubplot:>"
      ]
     },
     "execution_count": 28,
     "metadata": {},
     "output_type": "execute_result"
    },
    {
     "data": {
      "image/png": "[encoded data removed]",
      "text/plain": [
       "<Figure size 432x288 with 1 Axes>"
      ]
     },
     "metadata": {},
     "output_type": "display_data"
    }
   ],
   "source": [
    "area_total_ita.plot()"
   ]
  },
  {
   "cell_type": "code",
   "execution_count": 29,
   "metadata": {},
   "outputs": [
    {
     "data": {
      "text/plain": [
       "<AxesSubplot:>"
      ]
     },
     "execution_count": 29,
     "metadata": {},
     "output_type": "execute_result"
    },
    {
     "data": {
      "image/png": "[encoded data removed]",
      "text/plain": [
       "<Figure size 432x288 with 1 Axes>"
      ]
     },
     "metadata": {},
     "output_type": "display_data"
    }
   ],
   "source": [
    "area_total_esp.plot()"
   ]
  },
  {
   "cell_type": "code",
   "execution_count": 30,
   "metadata": {},
   "outputs": [
    {
     "data": {
      "text/plain": [
       "cluster\n",
       "BCN    0.007212\n",
       "dtype: float64"
      ]
     },
     "execution_count": 30,
     "metadata": {},
     "output_type": "execute_result"
    }
   ],
   "source": [
    "area_total_esp.area"
   ]
  },
  {
   "cell_type": "code",
   "execution_count": 31,
   "metadata": {},
   "outputs": [
    {
     "data": {
      "text/html": [
       "<div>\n",
       "<style scoped>\n",
       "    .dataframe tbody tr th:only-of-type {\n",
       "        vertical-align: middle;\n",
       "    }\n",
       "\n",
       "    .dataframe tbody tr th {\n",
       "        vertical-align: top;\n",
       "    }\n",
       "\n",
       "    .dataframe thead th {\n",
       "        text-align: right;\n",
       "    }\n",
       "</style>\n",
       "<table border=\"1\" class=\"dataframe\">\n",
       "  <thead>\n",
       "    <tr style=\"text-align: right;\">\n",
       "      <th></th>\n",
       "      <th>geometry</th>\n",
       "      <th>name</th>\n",
       "      <th>longitude</th>\n",
       "      <th>latitude</th>\n",
       "      <th>total_pop</th>\n",
       "      <th>area</th>\n",
       "      <th>reachfactor</th>\n",
       "      <th>type</th>\n",
       "      <th>city</th>\n",
       "      <th>address</th>\n",
       "      <th>zipcode</th>\n",
       "      <th>Lat</th>\n",
       "      <th>Long</th>\n",
       "      <th>source</th>\n",
       "      <th>url</th>\n",
       "      <th>notes</th>\n",
       "      <th>geometry_y</th>\n",
       "    </tr>\n",
       "    <tr>\n",
       "      <th>cluster</th>\n",
       "      <th></th>\n",
       "      <th></th>\n",
       "      <th></th>\n",
       "      <th></th>\n",
       "      <th></th>\n",
       "      <th></th>\n",
       "      <th></th>\n",
       "      <th></th>\n",
       "      <th></th>\n",
       "      <th></th>\n",
       "      <th></th>\n",
       "      <th></th>\n",
       "      <th></th>\n",
       "      <th></th>\n",
       "      <th></th>\n",
       "      <th></th>\n",
       "      <th></th>\n",
       "    </tr>\n",
       "  </thead>\n",
       "  <tbody>\n",
       "    <tr>\n",
       "      <th>BCN</th>\n",
       "      <td>MULTIPOLYGON (((1.97880 41.27982, 1.98379 41.2...</td>\n",
       "      <td>Fab Lab Barcelona</td>\n",
       "      <td>2.194335</td>\n",
       "      <td>41.396925</td>\n",
       "      <td>84175.0</td>\n",
       "      <td>4351089.58</td>\n",
       "      <td>0.8864</td>\n",
       "      <td>Fab Lab</td>\n",
       "      <td>Barcelona</td>\n",
       "      <td>Carrer de Pujades, 102</td>\n",
       "      <td>8005.0</td>\n",
       "      <td>41.396925</td>\n",
       "      <td>2.194335</td>\n",
       "      <td>Fablabs.io</td>\n",
       "      <td>https://fablabbcn.org/</td>\n",
       "      <td>NaN</td>\n",
       "      <td>POINT (2.19434 41.39692)</td>\n",
       "    </tr>\n",
       "  </tbody>\n",
       "</table>\n",
       "</div>"
      ],
      "text/plain": [
       "                                                  geometry               name  \\\n",
       "cluster                                                                         \n",
       "BCN      MULTIPOLYGON (((1.97880 41.27982, 1.98379 41.2...  Fab Lab Barcelona   \n",
       "\n",
       "         longitude   latitude  total_pop        area  reachfactor     type  \\\n",
       "cluster                                                                      \n",
       "BCN       2.194335  41.396925    84175.0  4351089.58       0.8864  Fab Lab   \n",
       "\n",
       "              city                 address  zipcode        Lat      Long  \\\n",
       "cluster                                                                    \n",
       "BCN      Barcelona  Carrer de Pujades, 102   8005.0  41.396925  2.194335   \n",
       "\n",
       "             source                     url  notes                geometry_y  \n",
       "cluster                                                                       \n",
       "BCN      Fablabs.io  https://fablabbcn.org/    NaN  POINT (2.19434 41.39692)  "
      ]
     },
     "execution_count": 31,
     "metadata": {},
     "output_type": "execute_result"
    }
   ],
   "source": [
    "area_total_esp"
   ]
  },
  {
   "cell_type": "code",
   "execution_count": 32,
   "metadata": {},
   "outputs": [],
   "source": [
    "def getgeodataframearea(points,x,y):\n",
    "    global isochrones\n",
    "    env = env = isochrones.envelope.unary_union.bounds\n",
    "    area = points[(points[x] >= env[0]) & (points[x] <= env[2]) & (points[y] >= env[1]) & (points[y] <= env[3])]\n",
    "    geodataframe = gpd.GeoDataFrame(\n",
    "        points,\n",
    "        crs='EPSG:4326',\n",
    "        geometry=gpd.points_from_xy(points[x], points[y]))\n",
    "    return geodataframe"
   ]
  },
  {
   "cell_type": "code",
   "execution_count": 33,
   "metadata": {},
   "outputs": [],
   "source": [
    "def adddatafromfile(data, file, column, datacolumn, coordcolname, tab):\n",
    "    if tab:\n",
    "        new_data = pd.read_csv(file, sep='\\t')\n",
    "    else:\n",
    "        new_data = pd.read_csv(file)\n",
    "    if coordcolname == \"LatLon\":\n",
    "        new_data.rename({'Lon': 'longitude', 'Lat': 'latitude', 'Population': 'population'}, axis=1, inplace=True)\n",
    "    else:\n",
    "        new_data.rename({datacolumn: 'population'}, axis=1, inplace=True)\n",
    "    points_cluster = getgeodataframearea(new_data,x='longitude',y='latitude')\n",
    "    # save memory - destroy dataframe unused\n",
    "    # del [[isochrones,ita_population,ita_15_24]]\n",
    "    del [[new_data]]\n",
    "    gc.collect()\n",
    "    isochrones=pd.DataFrame()\n",
    "    new_data=pd.DataFrame()\n",
    "    sjoin_lab_points = points_cluster.sjoin(data, how='inner')\n",
    "    data[column] = data.city.apply(lambda x: round(sjoin_lab_points[sjoin_lab_points.city == x].population.sum()))\n",
    "    return"
   ]
  },
  {
   "cell_type": "markdown",
   "metadata": {},
   "source": [
    "## Add data for Italy"
   ]
  },
  {
   "cell_type": "code",
   "execution_count": 34,
   "metadata": {},
   "outputs": [
    {
     "name": "stderr",
     "output_type": "stream",
     "text": [
      "/Users/massimo/Documents/GitHub/labs_access_analysis/env/lib/python3.9/site-packages/geopandas/geodataframe.py:1938: UserWarning: CRS mismatch between the CRS of left geometries and the CRS of right geometries.\n",
      "Use `to_crs()` to reproject one of the input geometries to match the CRS of the other.\n",
      "\n",
      "Left CRS: EPSG:4326\n",
      "Right CRS: None\n",
      "\n",
      "  return geopandas.sjoin(left_df=self, right_df=df, *args, **kwargs)\n"
     ]
    }
   ],
   "source": [
    "adddatafromfile(data=area_total_ita, file=\"data/hdx/population_ita_2019-07-01.csv\", column='total', datacolumn=\"Population\", coordcolname=\"LatLon\", tab=False)"
   ]
  },
  {
   "cell_type": "code",
   "execution_count": 35,
   "metadata": {},
   "outputs": [
    {
     "name": "stderr",
     "output_type": "stream",
     "text": [
      "/Users/massimo/Documents/GitHub/labs_access_analysis/env/lib/python3.9/site-packages/geopandas/geodataframe.py:1938: UserWarning: CRS mismatch between the CRS of left geometries and the CRS of right geometries.\n",
      "Use `to_crs()` to reproject one of the input geometries to match the CRS of the other.\n",
      "\n",
      "Left CRS: EPSG:4326\n",
      "Right CRS: None\n",
      "\n",
      "  return geopandas.sjoin(left_df=self, right_df=df, *args, **kwargs)\n"
     ]
    }
   ],
   "source": [
    "adddatafromfile(data=area_total_ita, file=\"data/hdx/ITA_men_2019-08-03.csv\", column='men', datacolumn=\"population\", coordcolname=\"LatitudeLongitude\", tab=True)"
   ]
  },
  {
   "cell_type": "code",
   "execution_count": 36,
   "metadata": {},
   "outputs": [
    {
     "name": "stderr",
     "output_type": "stream",
     "text": [
      "/Users/massimo/Documents/GitHub/labs_access_analysis/env/lib/python3.9/site-packages/geopandas/geodataframe.py:1938: UserWarning: CRS mismatch between the CRS of left geometries and the CRS of right geometries.\n",
      "Use `to_crs()` to reproject one of the input geometries to match the CRS of the other.\n",
      "\n",
      "Left CRS: EPSG:4326\n",
      "Right CRS: None\n",
      "\n",
      "  return geopandas.sjoin(left_df=self, right_df=df, *args, **kwargs)\n"
     ]
    }
   ],
   "source": [
    "adddatafromfile(data=area_total_ita, file=\"data/hdx/ITA_women_2019-08-03.csv\", column='women', datacolumn=\"population\", coordcolname=\"LatitudeLongitude\", tab=True)"
   ]
  },
  {
   "cell_type": "markdown",
   "metadata": {},
   "source": [
    "## Add data for Spain"
   ]
  },
  {
   "cell_type": "code",
   "execution_count": 37,
   "metadata": {},
   "outputs": [
    {
     "name": "stderr",
     "output_type": "stream",
     "text": [
      "/Users/massimo/Documents/GitHub/labs_access_analysis/env/lib/python3.9/site-packages/geopandas/geodataframe.py:1938: UserWarning: CRS mismatch between the CRS of left geometries and the CRS of right geometries.\n",
      "Use `to_crs()` to reproject one of the input geometries to match the CRS of the other.\n",
      "\n",
      "Left CRS: EPSG:4326\n",
      "Right CRS: None\n",
      "\n",
      "  return geopandas.sjoin(left_df=self, right_df=df, *args, **kwargs)\n"
     ]
    }
   ],
   "source": [
    "adddatafromfile(data=area_total_esp, file=\"data/hdx/esp_general_2020.csv\", column='total', datacolumn=\"esp_general_2020\", coordcolname=\"LatitudeLongitude\", tab=False)"
   ]
  },
  {
   "cell_type": "code",
   "execution_count": 38,
   "metadata": {},
   "outputs": [
    {
     "name": "stderr",
     "output_type": "stream",
     "text": [
      "/Users/massimo/Documents/GitHub/labs_access_analysis/env/lib/python3.9/site-packages/geopandas/geodataframe.py:1938: UserWarning: CRS mismatch between the CRS of left geometries and the CRS of right geometries.\n",
      "Use `to_crs()` to reproject one of the input geometries to match the CRS of the other.\n",
      "\n",
      "Left CRS: EPSG:4326\n",
      "Right CRS: None\n",
      "\n",
      "  return geopandas.sjoin(left_df=self, right_df=df, *args, **kwargs)\n"
     ]
    }
   ],
   "source": [
    "adddatafromfile(data=area_total_esp, file=\"data/hdx/esp_men_2020.csv\", column='men', datacolumn=\"esp_men_2020\", coordcolname=\"LatitudeLongitude\", tab=False)"
   ]
  },
  {
   "cell_type": "code",
   "execution_count": 39,
   "metadata": {},
   "outputs": [
    {
     "name": "stderr",
     "output_type": "stream",
     "text": [
      "/Users/massimo/Documents/GitHub/labs_access_analysis/env/lib/python3.9/site-packages/geopandas/geodataframe.py:1938: UserWarning: CRS mismatch between the CRS of left geometries and the CRS of right geometries.\n",
      "Use `to_crs()` to reproject one of the input geometries to match the CRS of the other.\n",
      "\n",
      "Left CRS: EPSG:4326\n",
      "Right CRS: None\n",
      "\n",
      "  return geopandas.sjoin(left_df=self, right_df=df, *args, **kwargs)\n"
     ]
    }
   ],
   "source": [
    "adddatafromfile(data=area_total_esp, file=\"data/hdx/esp_women_2020.csv\", column='women', datacolumn=\"esp_women_2020\", coordcolname=\"LatitudeLongitude\", tab=False)"
   ]
  },
  {
   "cell_type": "code",
   "execution_count": 41,
   "metadata": {},
   "outputs": [
    {
     "data": {
      "text/html": [
       "<div>\n",
       "<style scoped>\n",
       "    .dataframe tbody tr th:only-of-type {\n",
       "        vertical-align: middle;\n",
       "    }\n",
       "\n",
       "    .dataframe tbody tr th {\n",
       "        vertical-align: top;\n",
       "    }\n",
       "\n",
       "    .dataframe thead th {\n",
       "        text-align: right;\n",
       "    }\n",
       "</style>\n",
       "<table border=\"1\" class=\"dataframe\">\n",
       "  <thead>\n",
       "    <tr style=\"text-align: right;\">\n",
       "      <th></th>\n",
       "      <th>geometry</th>\n",
       "      <th>name</th>\n",
       "      <th>longitude</th>\n",
       "      <th>latitude</th>\n",
       "      <th>total_pop</th>\n",
       "      <th>area</th>\n",
       "      <th>reachfactor</th>\n",
       "      <th>type</th>\n",
       "      <th>city</th>\n",
       "      <th>address</th>\n",
       "      <th>zipcode</th>\n",
       "      <th>Lat</th>\n",
       "      <th>Long</th>\n",
       "      <th>source</th>\n",
       "      <th>url</th>\n",
       "      <th>notes</th>\n",
       "      <th>geometry_y</th>\n",
       "      <th>total</th>\n",
       "      <th>men</th>\n",
       "      <th>women</th>\n",
       "    </tr>\n",
       "    <tr>\n",
       "      <th>cluster</th>\n",
       "      <th></th>\n",
       "      <th></th>\n",
       "      <th></th>\n",
       "      <th></th>\n",
       "      <th></th>\n",
       "      <th></th>\n",
       "      <th></th>\n",
       "      <th></th>\n",
       "      <th></th>\n",
       "      <th></th>\n",
       "      <th></th>\n",
       "      <th></th>\n",
       "      <th></th>\n",
       "      <th></th>\n",
       "      <th></th>\n",
       "      <th></th>\n",
       "      <th></th>\n",
       "      <th></th>\n",
       "      <th></th>\n",
       "      <th></th>\n",
       "    </tr>\n",
       "  </thead>\n",
       "  <tbody>\n",
       "    <tr>\n",
       "      <th>MI</th>\n",
       "      <td>MULTIPOLYGON (((9.23411 45.43847, 9.23546 45.4...</td>\n",
       "      <td>The FabLab: Make in Milano</td>\n",
       "      <td>9.207913</td>\n",
       "      <td>45.444046</td>\n",
       "      <td>41892.0</td>\n",
       "      <td>3820144.23</td>\n",
       "      <td>0.7782</td>\n",
       "      <td>Fab Lab</td>\n",
       "      <td>Milan</td>\n",
       "      <td>Via Arcivescovo Calabiana, 6</td>\n",
       "      <td>20139.0</td>\n",
       "      <td>45.444046</td>\n",
       "      <td>9.207913</td>\n",
       "      <td>Fablabs.io</td>\n",
       "      <td>https://fablabs.io/labs/vectorealismfablab</td>\n",
       "      <td>NaN</td>\n",
       "      <td>POINT (9.20791 45.44405)</td>\n",
       "      <td>483902</td>\n",
       "      <td>211102</td>\n",
       "      <td>226482</td>\n",
       "    </tr>\n",
       "  </tbody>\n",
       "</table>\n",
       "</div>"
      ],
      "text/plain": [
       "                                                  geometry  \\\n",
       "cluster                                                      \n",
       "MI       MULTIPOLYGON (((9.23411 45.43847, 9.23546 45.4...   \n",
       "\n",
       "                               name  longitude   latitude  total_pop  \\\n",
       "cluster                                                                \n",
       "MI       The FabLab: Make in Milano   9.207913  45.444046    41892.0   \n",
       "\n",
       "               area  reachfactor     type   city  \\\n",
       "cluster                                            \n",
       "MI       3820144.23       0.7782  Fab Lab  Milan   \n",
       "\n",
       "                              address  zipcode        Lat      Long  \\\n",
       "cluster                                                               \n",
       "MI       Via Arcivescovo Calabiana, 6  20139.0  45.444046  9.207913   \n",
       "\n",
       "             source                                         url  notes  \\\n",
       "cluster                                                                  \n",
       "MI       Fablabs.io  https://fablabs.io/labs/vectorealismfablab    NaN   \n",
       "\n",
       "                       geometry_y   total     men   women  \n",
       "cluster                                                    \n",
       "MI       POINT (9.20791 45.44405)  483902  211102  226482  "
      ]
     },
     "execution_count": 41,
     "metadata": {},
     "output_type": "execute_result"
    }
   ],
   "source": [
    "area_total_ita"
   ]
  },
  {
   "cell_type": "code",
   "execution_count": 42,
   "metadata": {},
   "outputs": [
    {
     "data": {
      "text/html": [
       "<div>\n",
       "<style scoped>\n",
       "    .dataframe tbody tr th:only-of-type {\n",
       "        vertical-align: middle;\n",
       "    }\n",
       "\n",
       "    .dataframe tbody tr th {\n",
       "        vertical-align: top;\n",
       "    }\n",
       "\n",
       "    .dataframe thead th {\n",
       "        text-align: right;\n",
       "    }\n",
       "</style>\n",
       "<table border=\"1\" class=\"dataframe\">\n",
       "  <thead>\n",
       "    <tr style=\"text-align: right;\">\n",
       "      <th></th>\n",
       "      <th>geometry</th>\n",
       "      <th>name</th>\n",
       "      <th>longitude</th>\n",
       "      <th>latitude</th>\n",
       "      <th>total_pop</th>\n",
       "      <th>area</th>\n",
       "      <th>reachfactor</th>\n",
       "      <th>type</th>\n",
       "      <th>city</th>\n",
       "      <th>address</th>\n",
       "      <th>zipcode</th>\n",
       "      <th>Lat</th>\n",
       "      <th>Long</th>\n",
       "      <th>source</th>\n",
       "      <th>url</th>\n",
       "      <th>notes</th>\n",
       "      <th>geometry_y</th>\n",
       "      <th>total</th>\n",
       "      <th>men</th>\n",
       "      <th>women</th>\n",
       "    </tr>\n",
       "    <tr>\n",
       "      <th>cluster</th>\n",
       "      <th></th>\n",
       "      <th></th>\n",
       "      <th></th>\n",
       "      <th></th>\n",
       "      <th></th>\n",
       "      <th></th>\n",
       "      <th></th>\n",
       "      <th></th>\n",
       "      <th></th>\n",
       "      <th></th>\n",
       "      <th></th>\n",
       "      <th></th>\n",
       "      <th></th>\n",
       "      <th></th>\n",
       "      <th></th>\n",
       "      <th></th>\n",
       "      <th></th>\n",
       "      <th></th>\n",
       "      <th></th>\n",
       "      <th></th>\n",
       "    </tr>\n",
       "  </thead>\n",
       "  <tbody>\n",
       "    <tr>\n",
       "      <th>BCN</th>\n",
       "      <td>MULTIPOLYGON (((1.97880 41.27982, 1.98379 41.2...</td>\n",
       "      <td>Fab Lab Barcelona</td>\n",
       "      <td>2.194335</td>\n",
       "      <td>41.396925</td>\n",
       "      <td>84175.0</td>\n",
       "      <td>4351089.58</td>\n",
       "      <td>0.8864</td>\n",
       "      <td>Fab Lab</td>\n",
       "      <td>Barcelona</td>\n",
       "      <td>Carrer de Pujades, 102</td>\n",
       "      <td>8005.0</td>\n",
       "      <td>41.396925</td>\n",
       "      <td>2.194335</td>\n",
       "      <td>Fablabs.io</td>\n",
       "      <td>https://fablabbcn.org/</td>\n",
       "      <td>NaN</td>\n",
       "      <td>POINT (2.19434 41.39692)</td>\n",
       "      <td>1153581</td>\n",
       "      <td>549241</td>\n",
       "      <td>604340</td>\n",
       "    </tr>\n",
       "  </tbody>\n",
       "</table>\n",
       "</div>"
      ],
      "text/plain": [
       "                                                  geometry               name  \\\n",
       "cluster                                                                         \n",
       "BCN      MULTIPOLYGON (((1.97880 41.27982, 1.98379 41.2...  Fab Lab Barcelona   \n",
       "\n",
       "         longitude   latitude  total_pop        area  reachfactor     type  \\\n",
       "cluster                                                                      \n",
       "BCN       2.194335  41.396925    84175.0  4351089.58       0.8864  Fab Lab   \n",
       "\n",
       "              city                 address  zipcode        Lat      Long  \\\n",
       "cluster                                                                    \n",
       "BCN      Barcelona  Carrer de Pujades, 102   8005.0  41.396925  2.194335   \n",
       "\n",
       "             source                     url  notes                geometry_y  \\\n",
       "cluster                                                                        \n",
       "BCN      Fablabs.io  https://fablabbcn.org/    NaN  POINT (2.19434 41.39692)   \n",
       "\n",
       "           total     men   women  \n",
       "cluster                           \n",
       "BCN      1153581  549241  604340  "
      ]
     },
     "execution_count": 42,
     "metadata": {},
     "output_type": "execute_result"
    }
   ],
   "source": [
    "area_total_esp"
   ]
  },
  {
   "cell_type": "code",
   "execution_count": 45,
   "metadata": {},
   "outputs": [
    {
     "data": {
      "text/html": [
       "<div>\n",
       "<style scoped>\n",
       "    .dataframe tbody tr th:only-of-type {\n",
       "        vertical-align: middle;\n",
       "    }\n",
       "\n",
       "    .dataframe tbody tr th {\n",
       "        vertical-align: top;\n",
       "    }\n",
       "\n",
       "    .dataframe thead th {\n",
       "        text-align: right;\n",
       "    }\n",
       "</style>\n",
       "<table border=\"1\" class=\"dataframe\">\n",
       "  <thead>\n",
       "    <tr style=\"text-align: right;\">\n",
       "      <th></th>\n",
       "      <th>total</th>\n",
       "      <th>men</th>\n",
       "      <th>women</th>\n",
       "    </tr>\n",
       "    <tr>\n",
       "      <th>cluster</th>\n",
       "      <th></th>\n",
       "      <th></th>\n",
       "      <th></th>\n",
       "    </tr>\n",
       "  </thead>\n",
       "  <tbody>\n",
       "    <tr>\n",
       "      <th>MI</th>\n",
       "      <td>483902</td>\n",
       "      <td>211102</td>\n",
       "      <td>226482</td>\n",
       "    </tr>\n",
       "  </tbody>\n",
       "</table>\n",
       "</div>"
      ],
      "text/plain": [
       "          total     men   women\n",
       "cluster                        \n",
       "MI       483902  211102  226482"
      ]
     },
     "execution_count": 45,
     "metadata": {},
     "output_type": "execute_result"
    }
   ],
   "source": [
    "area_total_ita[[\"total\", \"men\", \"women\"]]"
   ]
  },
  {
   "cell_type": "code",
   "execution_count": 46,
   "metadata": {},
   "outputs": [
    {
     "data": {
      "text/html": [
       "<div>\n",
       "<style scoped>\n",
       "    .dataframe tbody tr th:only-of-type {\n",
       "        vertical-align: middle;\n",
       "    }\n",
       "\n",
       "    .dataframe tbody tr th {\n",
       "        vertical-align: top;\n",
       "    }\n",
       "\n",
       "    .dataframe thead th {\n",
       "        text-align: right;\n",
       "    }\n",
       "</style>\n",
       "<table border=\"1\" class=\"dataframe\">\n",
       "  <thead>\n",
       "    <tr style=\"text-align: right;\">\n",
       "      <th></th>\n",
       "      <th>total</th>\n",
       "      <th>men</th>\n",
       "      <th>women</th>\n",
       "    </tr>\n",
       "    <tr>\n",
       "      <th>cluster</th>\n",
       "      <th></th>\n",
       "      <th></th>\n",
       "      <th></th>\n",
       "    </tr>\n",
       "  </thead>\n",
       "  <tbody>\n",
       "    <tr>\n",
       "      <th>BCN</th>\n",
       "      <td>1153581</td>\n",
       "      <td>549241</td>\n",
       "      <td>604340</td>\n",
       "    </tr>\n",
       "  </tbody>\n",
       "</table>\n",
       "</div>"
      ],
      "text/plain": [
       "           total     men   women\n",
       "cluster                         \n",
       "BCN      1153581  549241  604340"
      ]
     },
     "execution_count": 46,
     "metadata": {},
     "output_type": "execute_result"
    }
   ],
   "source": [
    "area_total_esp[[\"total\", \"men\", \"women\"]]"
   ]
  },
  {
   "cell_type": "code",
   "execution_count": 47,
   "metadata": {},
   "outputs": [],
   "source": [
    "area_total_both = pd.concat([area_total_ita, area_total_esp])"
   ]
  },
  {
   "cell_type": "code",
   "execution_count": 48,
   "metadata": {},
   "outputs": [
    {
     "data": {
      "text/html": [
       "<div>\n",
       "<style scoped>\n",
       "    .dataframe tbody tr th:only-of-type {\n",
       "        vertical-align: middle;\n",
       "    }\n",
       "\n",
       "    .dataframe tbody tr th {\n",
       "        vertical-align: top;\n",
       "    }\n",
       "\n",
       "    .dataframe thead th {\n",
       "        text-align: right;\n",
       "    }\n",
       "</style>\n",
       "<table border=\"1\" class=\"dataframe\">\n",
       "  <thead>\n",
       "    <tr style=\"text-align: right;\">\n",
       "      <th></th>\n",
       "      <th>geometry</th>\n",
       "      <th>name</th>\n",
       "      <th>longitude</th>\n",
       "      <th>latitude</th>\n",
       "      <th>total_pop</th>\n",
       "      <th>area</th>\n",
       "      <th>reachfactor</th>\n",
       "      <th>type</th>\n",
       "      <th>city</th>\n",
       "      <th>address</th>\n",
       "      <th>zipcode</th>\n",
       "      <th>Lat</th>\n",
       "      <th>Long</th>\n",
       "      <th>source</th>\n",
       "      <th>url</th>\n",
       "      <th>notes</th>\n",
       "      <th>geometry_y</th>\n",
       "      <th>total</th>\n",
       "      <th>men</th>\n",
       "      <th>women</th>\n",
       "    </tr>\n",
       "    <tr>\n",
       "      <th>cluster</th>\n",
       "      <th></th>\n",
       "      <th></th>\n",
       "      <th></th>\n",
       "      <th></th>\n",
       "      <th></th>\n",
       "      <th></th>\n",
       "      <th></th>\n",
       "      <th></th>\n",
       "      <th></th>\n",
       "      <th></th>\n",
       "      <th></th>\n",
       "      <th></th>\n",
       "      <th></th>\n",
       "      <th></th>\n",
       "      <th></th>\n",
       "      <th></th>\n",
       "      <th></th>\n",
       "      <th></th>\n",
       "      <th></th>\n",
       "      <th></th>\n",
       "    </tr>\n",
       "  </thead>\n",
       "  <tbody>\n",
       "    <tr>\n",
       "      <th>MI</th>\n",
       "      <td>MULTIPOLYGON (((9.23411 45.43847, 9.23546 45.4...</td>\n",
       "      <td>The FabLab: Make in Milano</td>\n",
       "      <td>9.207913</td>\n",
       "      <td>45.444046</td>\n",
       "      <td>41892.0</td>\n",
       "      <td>3820144.23</td>\n",
       "      <td>0.7782</td>\n",
       "      <td>Fab Lab</td>\n",
       "      <td>Milan</td>\n",
       "      <td>Via Arcivescovo Calabiana, 6</td>\n",
       "      <td>20139.0</td>\n",
       "      <td>45.444046</td>\n",
       "      <td>9.207913</td>\n",
       "      <td>Fablabs.io</td>\n",
       "      <td>https://fablabs.io/labs/vectorealismfablab</td>\n",
       "      <td>NaN</td>\n",
       "      <td>POINT (9.20791 45.44405)</td>\n",
       "      <td>483902</td>\n",
       "      <td>211102</td>\n",
       "      <td>226482</td>\n",
       "    </tr>\n",
       "    <tr>\n",
       "      <th>BCN</th>\n",
       "      <td>MULTIPOLYGON (((1.97880 41.27982, 1.98379 41.2...</td>\n",
       "      <td>Fab Lab Barcelona</td>\n",
       "      <td>2.194335</td>\n",
       "      <td>41.396925</td>\n",
       "      <td>84175.0</td>\n",
       "      <td>4351089.58</td>\n",
       "      <td>0.8864</td>\n",
       "      <td>Fab Lab</td>\n",
       "      <td>Barcelona</td>\n",
       "      <td>Carrer de Pujades, 102</td>\n",
       "      <td>8005.0</td>\n",
       "      <td>41.396925</td>\n",
       "      <td>2.194335</td>\n",
       "      <td>Fablabs.io</td>\n",
       "      <td>https://fablabbcn.org/</td>\n",
       "      <td>NaN</td>\n",
       "      <td>POINT (2.19434 41.39692)</td>\n",
       "      <td>1153581</td>\n",
       "      <td>549241</td>\n",
       "      <td>604340</td>\n",
       "    </tr>\n",
       "  </tbody>\n",
       "</table>\n",
       "</div>"
      ],
      "text/plain": [
       "                                                  geometry  \\\n",
       "cluster                                                      \n",
       "MI       MULTIPOLYGON (((9.23411 45.43847, 9.23546 45.4...   \n",
       "BCN      MULTIPOLYGON (((1.97880 41.27982, 1.98379 41.2...   \n",
       "\n",
       "                               name  longitude   latitude  total_pop  \\\n",
       "cluster                                                                \n",
       "MI       The FabLab: Make in Milano   9.207913  45.444046    41892.0   \n",
       "BCN               Fab Lab Barcelona   2.194335  41.396925    84175.0   \n",
       "\n",
       "               area  reachfactor     type       city  \\\n",
       "cluster                                                \n",
       "MI       3820144.23       0.7782  Fab Lab      Milan   \n",
       "BCN      4351089.58       0.8864  Fab Lab  Barcelona   \n",
       "\n",
       "                              address  zipcode        Lat      Long  \\\n",
       "cluster                                                               \n",
       "MI       Via Arcivescovo Calabiana, 6  20139.0  45.444046  9.207913   \n",
       "BCN            Carrer de Pujades, 102   8005.0  41.396925  2.194335   \n",
       "\n",
       "             source                                         url  notes  \\\n",
       "cluster                                                                  \n",
       "MI       Fablabs.io  https://fablabs.io/labs/vectorealismfablab    NaN   \n",
       "BCN      Fablabs.io                      https://fablabbcn.org/    NaN   \n",
       "\n",
       "                       geometry_y    total     men   women  \n",
       "cluster                                                     \n",
       "MI       POINT (9.20791 45.44405)   483902  211102  226482  \n",
       "BCN      POINT (2.19434 41.39692)  1153581  549241  604340  "
      ]
     },
     "execution_count": 48,
     "metadata": {},
     "output_type": "execute_result"
    }
   ],
   "source": [
    "area_total_both"
   ]
  },
  {
   "cell_type": "markdown",
   "metadata": {},
   "source": [
    "## Plot data"
   ]
  },
  {
   "cell_type": "code",
   "execution_count": 68,
   "metadata": {},
   "outputs": [
    {
     "data": {
      "image/png": "[encoded data removed]",
      "text/plain": [
       "<Figure size 1440x720 with 1 Axes>"
      ]
     },
     "metadata": {},
     "output_type": "display_data"
    }
   ],
   "source": [
    "# Plot the data\n",
    "colors = [sns.color_palette(\"Paired\")[2],sns.color_palette(\"Paired\")[0],sns.color_palette(\"Paired\")[4]]\n",
    "ax = area_total_both[[\"total\", \"men\", \"women\"]].plot(kind=\"barh\", color=colors, figsize=(20,10))\n",
    "ax.bar_label(ax.containers[0], fmt=\"%d\", size=24, padding=3)\n",
    "ax.bar_label(ax.containers[1], fmt=\"%d\", size=24, padding=3)\n",
    "ax.bar_label(ax.containers[2], fmt=\"%d\", size=24, padding=3)\n",
    "plt.xlabel('Population reached')\n",
    "plt.ylabel('Cities')\n",
    "plt.savefig(\"svg/labs_esp_ita_fbpop_tot.svg\", bbox_inches=\"tight\")\n",
    "plt.savefig(\"png/labs_esp_ita_fbpop_tot.png\", dpi=300, bbox_inches=\"tight\")"
   ]
  },
  {
   "cell_type": "code",
   "execution_count": null,
   "metadata": {},
   "outputs": [],
   "source": []
  }
 ],
 "metadata": {
  "accelerator": "GPU",
  "colab": {
   "collapsed_sections": [],
   "name": "isochrone_fablab_v5_PLOT.ipynb",
   "provenance": []
  },
  "interpreter": {
   "hash": "e7370f93d1d0cde622a1f8e1c04877d8463912d04d973331ad4851f04de6915a"
  },
  "kernelspec": {
   "display_name": "Python 3 (ipykernel)",
   "language": "python",
   "name": "python3"
  },
  "language_info": {
   "codemirror_mode": {
    "name": "ipython",
    "version": 3
   },
   "file_extension": ".py",
   "mimetype": "text/x-python",
   "name": "python",
   "nbconvert_exporter": "python",
   "pygments_lexer": "ipython3",
   "version": "3.9.7"
  }
 },
 "nbformat": 4,
 "nbformat_minor": 1
}
