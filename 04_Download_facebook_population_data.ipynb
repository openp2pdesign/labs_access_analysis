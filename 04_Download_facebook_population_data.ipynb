{
 "cells": [
  {
   "cell_type": "markdown",
   "metadata": {
    "id": "r8PwlWa_aICI"
   },
   "source": [
    "# Labs Access Analysis: 04 Download Facebook Population Data"
   ]
  },
  {
   "cell_type": "markdown",
   "metadata": {},
   "source": [
    "## Setup"
   ]
  },
  {
   "cell_type": "code",
   "execution_count": 6,
   "metadata": {},
   "outputs": [],
   "source": [
    "import urllib.request\n",
    "import zipfile\n",
    "import os"
   ]
  },
  {
   "cell_type": "code",
   "execution_count": 7,
   "metadata": {},
   "outputs": [],
   "source": [
    "# create the directory with the data\n",
    "if not os.path.exists('data'):\n",
    "    os.makedirs('data') "
   ]
  },
  {
   "cell_type": "code",
   "execution_count": 8,
   "metadata": {},
   "outputs": [],
   "source": [
    "# create the directory with the data\n",
    "if not os.path.exists('data' + os.sep + \"hdx\"):\n",
    "    os.makedirs('data' + os.sep + \"hdx\") "
   ]
  },
  {
   "cell_type": "markdown",
   "metadata": {},
   "source": [
    "## Download the data"
   ]
  },
  {
   "cell_type": "markdown",
   "metadata": {},
   "source": [
    "### Sources\n",
    "\n",
    "**Spain**\n",
    "\n",
    "[https://data.humdata.org/dataset/spain-high-resolution-population-density-maps-demographic-estimates](https://data.humdata.org/dataset/spain-high-resolution-population-density-maps-demographic-estimates)\n",
    "\n",
    "**Italy**\n",
    "\n",
    "[https://data.humdata.org/dataset/italy-high-resolution-population-density-maps-demographic-estimates](https://data.humdata.org/dataset/italy-high-resolution-population-density-maps-demographic-estimates)"
   ]
  },
  {
   "cell_type": "markdown",
   "metadata": {},
   "source": [
    "### Italy"
   ]
  },
  {
   "cell_type": "code",
   "execution_count": 2,
   "metadata": {},
   "outputs": [],
   "source": [
    "url_ita_population = \"https://data.humdata.org/dataset/0eb77b21-06be-42c8-9245-2edaff79952f/resource/1e96f272-7d86-4108-b4ca-5a951a8b11a0/download/population_ita_2019-07-01.csv.zip\"\n",
    "url_ita_men = \"https://data.humdata.org/dataset/0eb77b21-06be-42c8-9245-2edaff79952f/resource/03d5be33-57b8-4c02-879e-0b458dbdd554/download/ita_men_2019-08-03.csv.zip\"\n",
    "url_ita_women = \"https://data.humdata.org/dataset/0eb77b21-06be-42c8-9245-2edaff79952f/resource/b761d291-4ad5-47cb-a1eb-6962065918d3/download/ita_women_2019-08-03.csv.zip\""
   ]
  },
  {
   "cell_type": "markdown",
   "metadata": {},
   "source": [
    "download italian data"
   ]
  },
  {
   "cell_type": "code",
   "execution_count": null,
   "metadata": {},
   "outputs": [],
   "source": [
    "urllib.request.urlretrieve(url_ita_population ,url_ita_population.split(\"/\")[len(url_ita_population.split(\"/\"))-1]) \n",
    "urllib.request.urlretrieve(url_ita_men ,url_ita_men.split(\"/\")[len(url_ita_men.split(\"/\"))-1]) \n",
    "urllib.request.urlretrieve(url_ita_women ,url_ita_women.split(\"/\")[len(url_ita_women.split(\"/\"))-1]) "
   ]
  },
  {
   "cell_type": "markdown",
   "metadata": {},
   "source": [
    "unzip and remove zip file"
   ]
  },
  {
   "cell_type": "code",
   "execution_count": null,
   "metadata": {},
   "outputs": [],
   "source": [
    "with zipfile.ZipFile(url_ita_population.split(\"/\")[len(url_ita_population.split(\"/\"))-1], 'r') as zip_ref:\n",
    "    zip_ref.extractall(\"data\" + os.sep + \"hdx\")\n",
    "os.remove(\"data\" + os.sep + \"hdx\" + os.sep + url_ita_population.split(\"/\")[len(url_ita_population.split(\"/\"))-1])\n",
    "with zipfile.ZipFile(url_ita_men.split(\"/\")[len(url_ita_men.split(\"/\"))-1], 'r') as zip_ref:\n",
    "    zip_ref.extractall(\"data\" + os.sep + \"hdx\")\n",
    "os.remove(\"data\" + os.sep + \"hdx\" + os.sep + url_ita_men.split(\"/\")[len(url_ita_men.split(\"/\"))-1])\n",
    "with zipfile.ZipFile(url_ita_women.split(\"/\")[len(url_ita_women.split(\"/\"))-1], 'r') as zip_ref:\n",
    "    zip_ref.extractall(\"data\" + os.sep + \"hdx\")\n",
    "os.remove(\"data\" + os.sep + \"hdx\" + os.sep + url_ita_women.split(\"/\")[len(url_ita_women.split(\"/\"))-1])\n"
   ]
  },
  {
   "cell_type": "markdown",
   "metadata": {},
   "source": [
    "### Spain"
   ]
  },
  {
   "cell_type": "code",
   "execution_count": 2,
   "metadata": {},
   "outputs": [],
   "source": [
    "url_esp_population = \"https://data.humdata.org/dataset/80d0519e-0eaf-4c16-a16c-a10ca837a463/resource/f75d0b98-c2ca-4882-85b7-ab2c91ee78f4/download/esp_general_2020_csv.zip\"\n",
    "url_esp_men = \"https://data.humdata.org/dataset/80d0519e-0eaf-4c16-a16c-a10ca837a463/resource/81f306ac-fe83-462f-93e0-4f106ee46ba8/download/esp_men_2020_csv.zip\"\n",
    "url_esp_women = \"https://data.humdata.org/dataset/80d0519e-0eaf-4c16-a16c-a10ca837a463/resource/dac7b183-1dcd-4dfb-865d-e899b7f92f6f/download/esp_women_2020_csv.zip\""
   ]
  },
  {
   "cell_type": "markdown",
   "metadata": {},
   "source": [
    "download spanish data"
   ]
  },
  {
   "cell_type": "code",
   "execution_count": null,
   "metadata": {},
   "outputs": [],
   "source": [
    "urllib.request.urlretrieve(url_esp_population ,url_esp_population.split(\"/\")[len(url_esp_population.split(\"/\"))-1]) \n",
    "urllib.request.urlretrieve(url_esp_men ,url_esp_men.split(\"/\")[len(url_esp_men.split(\"/\"))-1]) \n",
    "urllib.request.urlretrieve(url_esp_women ,url_esp_women.split(\"/\")[len(url_esp_women.split(\"/\"))-1]) "
   ]
  },
  {
   "cell_type": "markdown",
   "metadata": {},
   "source": [
    "unzip and remove zip file"
   ]
  },
  {
   "cell_type": "code",
   "execution_count": null,
   "metadata": {},
   "outputs": [],
   "source": [
    "with zipfile.ZipFile(url_esp_population.split(\"/\")[len(url_esp_population.split(\"/\"))-1], 'r') as zip_ref:\n",
    "    zip_ref.extractall(\"data\" + os.sep + \"hdx\")\n",
    "os.remove(\"data\" + os.sep + \"hdx\" + os.sep + url_esp_population.split(\"/\")[len(url_esp_population.split(\"/\"))-1])\n",
    "with zipfile.ZipFile(url_esp_men.split(\"/\")[len(url_esp_men.split(\"/\"))-1], 'r') as zip_ref:\n",
    "    zip_ref.extractall(\"data\" + os.sep + \"hdx\")\n",
    "os.remove(\"data\" + os.sep + \"hdx\" + os.sep + url_esp_men.split(\"/\")[len(url_esp_men.split(\"/\"))-1])\n",
    "with zipfile.ZipFile(url_esp_women.split(\"/\")[len(url_esp_women.split(\"/\"))-1], 'r') as zip_ref:\n",
    "    zip_ref.extractall(\"data\" + os.sep + \"hdx\")\n",
    "os.remove(\"data\" + os.sep + \"hdx\" + os.sep + url_esp_women.split(\"/\")[len(url_esp_women.split(\"/\"))-1])\n"
   ]
  },
  {
   "cell_type": "markdown",
   "metadata": {},
   "source": [
    "remove unused directory"
   ]
  },
  {
   "cell_type": "code",
   "execution_count": null,
   "metadata": {},
   "outputs": [],
   "source": [
    "os.removedirs(\"data\" + os.sep + \"hdx\" + os.sep + \"__MACOSX\")"
   ]
  },
  {
   "cell_type": "markdown",
   "metadata": {},
   "source": [
    "## The bash way :)\n",
    "\n",
    "remove the comments to use it"
   ]
  },
  {
   "cell_type": "markdown",
   "metadata": {},
   "source": [
    "Download population_ita_2019-07-01.csv"
   ]
  },
  {
   "cell_type": "code",
   "execution_count": 9,
   "metadata": {},
   "outputs": [],
   "source": [
    "# !wget -O data/hdx/population_ita.zip \"$url_ita_population\"\n",
    "# !unzip -u data/hdx/population_ita.zip -d data/hdx/\n",
    "# !rm data/hdx/population_ita.zip"
   ]
  },
  {
   "cell_type": "markdown",
   "metadata": {},
   "source": [
    "Download ITA_men_2019-08-03.csv\n"
   ]
  },
  {
   "cell_type": "code",
   "execution_count": 11,
   "metadata": {},
   "outputs": [],
   "source": [
    "# !wget -O data/hdx/ita_men.zip \"$url_ita_men\"\n",
    "# !unzip -u data/hdx/ita_men.zip -d data/hdx/\n",
    "# !rm data/hdx/ita_men.zip"
   ]
  },
  {
   "cell_type": "markdown",
   "metadata": {},
   "source": [
    "Download ITA_women_2019-08-03.csv"
   ]
  },
  {
   "cell_type": "code",
   "execution_count": 10,
   "metadata": {},
   "outputs": [],
   "source": [
    "# !wget -O data/hdx/ita_women.zip \"$url_ita_women\"\n",
    "# !unzip -u data/hdx/ita_women.zip -d data/hdx/\n",
    "# !rm data/hdx/ita_women.zip"
   ]
  },
  {
   "cell_type": "markdown",
   "metadata": {},
   "source": [
    "Download esp_general_2020.csv"
   ]
  },
  {
   "cell_type": "code",
   "execution_count": 12,
   "metadata": {},
   "outputs": [],
   "source": [
    "# !wget -O data/hdx/population_esp.zip \"$url_esp_population\"\n",
    "# !unzip -u data/hdx/population_esp.zip -d data/hdx/\n",
    "# !rm data/hdx/population_esp.zip"
   ]
  },
  {
   "cell_type": "markdown",
   "metadata": {},
   "source": [
    "Download esp_men_2020.csv"
   ]
  },
  {
   "cell_type": "code",
   "execution_count": 13,
   "metadata": {},
   "outputs": [],
   "source": [
    "# !wget -O data/hdx/esp_men.zip \"$url_esp_men\"\n",
    "# !unzip -u data/hdx/esp_men.zip -d data/hdx/\n",
    "# !rm data/hdx/esp_men.zip"
   ]
  },
  {
   "cell_type": "markdown",
   "metadata": {},
   "source": [
    "Download esp_women_2020.csv"
   ]
  },
  {
   "cell_type": "code",
   "execution_count": 14,
   "metadata": {},
   "outputs": [],
   "source": [
    "#  !wget -O data/hdx/esp_women.zip \"$url_esp_women\"\n",
    "# !unzip -u data/hdx/esp_women.zip -d data/hdx/\n",
    "# !rm data/hdx/esp_women.zip"
   ]
  },
  {
   "cell_type": "markdown",
   "metadata": {},
   "source": [
    "remove unused directory"
   ]
  },
  {
   "cell_type": "code",
   "execution_count": 15,
   "metadata": {},
   "outputs": [],
   "source": [
    "# !rm -rf data/hdx/__MACOSX"
   ]
  },
  {
   "cell_type": "code",
   "execution_count": null,
   "metadata": {},
   "outputs": [],
   "source": []
  }
 ],
 "metadata": {
  "accelerator": "GPU",
  "colab": {
   "collapsed_sections": [],
   "name": "isochrone_fablab_v5_PLOT.ipynb",
   "provenance": []
  },
  "interpreter": {
   "hash": "e7370f93d1d0cde622a1f8e1c04877d8463912d04d973331ad4851f04de6915a"
  },
  "kernelspec": {
   "display_name": "Python 3 (ipykernel)",
   "language": "python",
   "name": "python3"
  },
  "language_info": {
   "codemirror_mode": {
    "name": "ipython",
    "version": 3
   },
   "file_extension": ".py",
   "mimetype": "text/x-python",
   "name": "python",
   "nbconvert_exporter": "python",
   "pygments_lexer": "ipython3",
   "version": "3.9.7"
  }
 },
 "nbformat": 4,
 "nbformat_minor": 1
}
